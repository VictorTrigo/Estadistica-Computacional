{
  "nbformat": 4,
  "nbformat_minor": 0,
  "metadata": {
    "colab": {
      "name": "leccion02.ipynb",
      "provenance": [],
      "collapsed_sections": [],
      "authorship_tag": "ABX9TyOa6M7GeSOJtcm2LLycCYjG",
      "include_colab_link": true
    },
    "kernelspec": {
      "name": "python3",
      "display_name": "Python 3"
    },
    "language_info": {
      "name": "python"
    }
  },
  "cells": [
    {
      "cell_type": "markdown",
      "metadata": {
        "id": "view-in-github",
        "colab_type": "text"
      },
      "source": [
        "<a href=\"https://colab.research.google.com/github/VictorTrigo/Estadistica-Computacional/blob/master/leccion02.ipynb\" target=\"_parent\"><img src=\"https://colab.research.google.com/assets/colab-badge.svg\" alt=\"Open In Colab\"/></a>"
      ]
    },
    {
      "cell_type": "markdown",
      "source": [
        "**Problema 1** Encontrar maximo comun divisor"
      ],
      "metadata": {
        "id": "ZXa8X_5NF19H"
      }
    },
    {
      "cell_type": "markdown",
      "source": [
        "**Solucion 1**"
      ],
      "metadata": {
        "id": "l_jg55azGBI5"
      }
    },
    {
      "cell_type": "code",
      "source": [
        "n = int(input('Ingrese número:'))\n",
        "\n",
        "divisores = []\n",
        "\n",
        "for i in range(1, n+1):\n",
        "  if n%i==0:\n",
        "    divisores.append(i)\n",
        "\n",
        "print(divisores)"
      ],
      "metadata": {
        "colab": {
          "base_uri": "https://localhost:8080/"
        },
        "id": "q1LPZM7TEWwl",
        "outputId": "2e83a324-850d-4235-ea5a-6b2890436648"
      },
      "execution_count": null,
      "outputs": [
        {
          "output_type": "stream",
          "name": "stdout",
          "text": [
            "Ingrese número:60\n",
            "[1, 2, 3, 4, 5, 6, 10, 12, 15, 20, 30, 60]\n"
          ]
        }
      ]
    },
    {
      "cell_type": "code",
      "source": [
        "m= int(input('Ingrese número:'))\n",
        "\n",
        "divisores_2 = []\n",
        "\n",
        "for i in range(1, m+1):\n",
        "  if m%i==0:\n",
        "    divisores_2.append(i)\n",
        "\n",
        "print(divisores_2)"
      ],
      "metadata": {
        "colab": {
          "base_uri": "https://localhost:8080/"
        },
        "id": "LKqGUlZXGJgG",
        "outputId": "0ca6c3f0-addf-4d24-9a1b-3d7664c6ee04"
      },
      "execution_count": null,
      "outputs": [
        {
          "output_type": "stream",
          "name": "stdout",
          "text": [
            "Ingrese número:24\n",
            "[1, 2, 3, 4, 6, 8, 12, 24]\n"
          ]
        }
      ]
    },
    {
      "cell_type": "markdown",
      "source": [
        "*Encapsulamiento*"
      ],
      "metadata": {
        "id": "TXfRzcNOHLBf"
      }
    },
    {
      "cell_type": "code",
      "source": [
        "def calcular_divisores(n):\n",
        "  divisores = []\n",
        "\n",
        "  for i in range(1, n+1):\n",
        "    if n%i==0:\n",
        "      divisores.append(i)\n",
        "  return divisores"
      ],
      "metadata": {
        "id": "p9zB9WpcGbIo"
      },
      "execution_count": null,
      "outputs": []
    },
    {
      "cell_type": "code",
      "source": [
        "def calcular_divisores_python(n):\n",
        "  divisores = [i for i in range(1, n+1) if n%i==0]\n",
        "\n",
        "  return divisores"
      ],
      "metadata": {
        "id": "Q02WPhtCHRmH"
      },
      "execution_count": null,
      "outputs": []
    },
    {
      "cell_type": "code",
      "source": [
        "[i for i in range(1, n+1) if n%i==0]"
      ],
      "metadata": {
        "colab": {
          "base_uri": "https://localhost:8080/"
        },
        "id": "W6LZ6mk_HVmv",
        "outputId": "14e1f095-c7e9-4d00-91cb-bc2be2f323b1"
      },
      "execution_count": null,
      "outputs": [
        {
          "output_type": "execute_result",
          "data": {
            "text/plain": [
              "[1, 2, 3, 4, 5, 6, 10, 12, 15, 20, 30, 60]"
            ]
          },
          "metadata": {},
          "execution_count": 9
        }
      ]
    },
    {
      "cell_type": "code",
      "source": [
        "n= int(input('Ingrese número:'))\n",
        "print('El número ingresado es ',n )\n",
        "divisores_n = calcular_divisores(n)\n",
        "print(divisores_n)"
      ],
      "metadata": {
        "colab": {
          "base_uri": "https://localhost:8080/"
        },
        "id": "aeIo_YgJHXXY",
        "outputId": "56e8738b-6455-40e5-b142-6f44b6082a7d"
      },
      "execution_count": null,
      "outputs": [
        {
          "output_type": "stream",
          "name": "stdout",
          "text": [
            "Ingrese número:60\n",
            "El número ingresado es  60\n",
            "[1, 2, 3, 4, 5, 6, 10, 12, 15, 20, 30, 60]\n"
          ]
        }
      ]
    },
    {
      "cell_type": "code",
      "source": [
        "m= int(input('Ingrese número:'))\n",
        "print('El número ingresado es ',m )\n",
        "divisores_m = calcular_divisores(m)\n",
        "print(divisores_m)"
      ],
      "metadata": {
        "colab": {
          "base_uri": "https://localhost:8080/"
        },
        "id": "8DhS7nsPHdXQ",
        "outputId": "600dd266-a5d8-4322-f564-2b9a952da929"
      },
      "execution_count": null,
      "outputs": [
        {
          "output_type": "stream",
          "name": "stdout",
          "text": [
            "Ingrese número:24\n",
            "El número ingresado es  24\n",
            "[1, 2, 3, 4, 6, 8, 12, 24]\n"
          ]
        }
      ]
    },
    {
      "cell_type": "code",
      "source": [
        "maximo_comun_divisor = 1\n",
        "\n",
        "for x in divisores_n:\n",
        "  for y in divisores_m:\n",
        "    if x==y and x>maximo_comun_divisor:\n",
        "      maximo_comun_divisor = x\n",
        "print(maximo_comun_divisor)\n"
      ],
      "metadata": {
        "colab": {
          "base_uri": "https://localhost:8080/"
        },
        "id": "5CkwkkIcHgtY",
        "outputId": "008b8e02-6605-46fe-bfcd-92e5e2e34418"
      },
      "execution_count": null,
      "outputs": [
        {
          "output_type": "stream",
          "name": "stdout",
          "text": [
            "12\n"
          ]
        }
      ]
    },
    {
      "cell_type": "markdown",
      "source": [
        "**Solucion 2** Algoritmo de Euclides"
      ],
      "metadata": {
        "id": "_JzAEH0uHr26"
      }
    },
    {
      "cell_type": "code",
      "source": [
        "def gcd(m,n):\n",
        "  print('m = ', m, ' n = ', n)\n",
        "  if n==0: \n",
        "    print('TERMINO: m =', m)\n",
        "    return m\n",
        "  return gcd(n, m % n)"
      ],
      "metadata": {
        "id": "lZmBBYceHpbo"
      },
      "execution_count": null,
      "outputs": []
    },
    {
      "cell_type": "code",
      "source": [
        "gcd(24,60)"
      ],
      "metadata": {
        "colab": {
          "base_uri": "https://localhost:8080/"
        },
        "id": "wJ7gtodFH0Sy",
        "outputId": "7b77ebce-c1f9-46e2-d0e6-2c2ad1a38de5"
      },
      "execution_count": null,
      "outputs": [
        {
          "output_type": "stream",
          "name": "stdout",
          "text": [
            "m =  24  n =  60\n",
            "m =  60  n =  24\n",
            "m =  24  n =  12\n",
            "m =  12  n =  0\n",
            "TERMINO: m = 12\n"
          ]
        },
        {
          "output_type": "execute_result",
          "data": {
            "text/plain": [
              "12"
            ]
          },
          "metadata": {},
          "execution_count": 14
        }
      ]
    },
    {
      "cell_type": "code",
      "source": [
        "gcd(60,24)"
      ],
      "metadata": {
        "colab": {
          "base_uri": "https://localhost:8080/"
        },
        "id": "xv0ncXYKH17Z",
        "outputId": "fdb70864-5b5f-4034-f97f-a9560836c33f"
      },
      "execution_count": null,
      "outputs": [
        {
          "output_type": "stream",
          "name": "stdout",
          "text": [
            "m =  60  n =  24\n",
            "m =  24  n =  12\n",
            "m =  12  n =  0\n",
            "TERMINO: m = 12\n"
          ]
        },
        {
          "output_type": "execute_result",
          "data": {
            "text/plain": [
              "12"
            ]
          },
          "metadata": {},
          "execution_count": 15
        }
      ]
    },
    {
      "cell_type": "markdown",
      "source": [
        "**Solucion 3**"
      ],
      "metadata": {
        "id": "6cDc1-s4LNgR"
      }
    },
    {
      "cell_type": "code",
      "source": [
        "x = int(input(\"Ingrese número:\"))\n",
        "\n",
        "lista = calcular_divisores(x)\n",
        "if len(lista)==2:\n",
        "  print(\"Es primo\")"
      ],
      "metadata": {
        "colab": {
          "base_uri": "https://localhost:8080/"
        },
        "id": "YFZ88fo5H4y5",
        "outputId": "ebe6b961-b989-41dc-932e-0e117000e9cb"
      },
      "execution_count": null,
      "outputs": [
        {
          "name": "stdout",
          "output_type": "stream",
          "text": [
            "Ingrese número:60\n"
          ]
        }
      ]
    },
    {
      "cell_type": "code",
      "source": [
        "def es_primo(x):\n",
        "  lista = calcular_divisores(x)\n",
        "  return len(lista)==2"
      ],
      "metadata": {
        "id": "vT3CaTwnLWTb"
      },
      "execution_count": null,
      "outputs": []
    },
    {
      "cell_type": "code",
      "source": [
        "n = int(input(\"Ingrese número:\"))\n",
        "\n",
        "x = 2\n",
        "divisores_primos = []\n",
        "\n",
        "while(n>1):\n",
        "  if es_primo(x) and n%x==0:\n",
        "    divisores_primos.append(x)\n",
        "    n=n/x\n",
        "    # print('primo agregado')\n",
        "  else:\n",
        "    x = x + 1\n",
        "    # print('x = ', x)\n",
        "divisores_primos"
      ],
      "metadata": {
        "colab": {
          "base_uri": "https://localhost:8080/"
        },
        "id": "ByxWoDHRLauT",
        "outputId": "d11c93fd-a306-4a29-a508-27bd36ed0647"
      },
      "execution_count": null,
      "outputs": [
        {
          "name": "stdout",
          "output_type": "stream",
          "text": [
            "Ingrese número:60\n"
          ]
        },
        {
          "output_type": "execute_result",
          "data": {
            "text/plain": [
              "[2, 2, 3, 5]"
            ]
          },
          "metadata": {},
          "execution_count": 18
        }
      ]
    },
    {
      "cell_type": "code",
      "source": [
        "2*2*3*5"
      ],
      "metadata": {
        "id": "3Mj99r94Ldnr",
        "outputId": "298ec416-1a6e-43f3-bbd6-fa5b5c5f7abd",
        "colab": {
          "base_uri": "https://localhost:8080/"
        }
      },
      "execution_count": null,
      "outputs": [
        {
          "output_type": "execute_result",
          "data": {
            "text/plain": [
              "60"
            ]
          },
          "metadata": {},
          "execution_count": 19
        }
      ]
    },
    {
      "cell_type": "code",
      "source": [
        ""
      ],
      "metadata": {
        "id": "dFBlM0xDLgeD"
      },
      "execution_count": null,
      "outputs": []
    }
  ]
}