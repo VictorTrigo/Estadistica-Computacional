{
  "nbformat": 4,
  "nbformat_minor": 0,
  "metadata": {
    "colab": {
      "name": "leccion09.ipynb",
      "provenance": [],
      "collapsed_sections": [],
      "authorship_tag": "ABX9TyPx144fBPb9X0b88gV6JEct",
      "include_colab_link": true
    },
    "kernelspec": {
      "name": "python3",
      "display_name": "Python 3"
    },
    "language_info": {
      "name": "python"
    }
  },
  "cells": [
    {
      "cell_type": "markdown",
      "metadata": {
        "id": "view-in-github",
        "colab_type": "text"
      },
      "source": [
        "<a href=\"https://colab.research.google.com/github/VictorTrigo/Estadistica-Computacional/blob/master/leccion09.ipynb\" target=\"_parent\"><img src=\"https://colab.research.google.com/assets/colab-badge.svg\" alt=\"Open In Colab\"/></a>"
      ]
    },
    {
      "cell_type": "code",
      "execution_count": null,
      "metadata": {
        "id": "otX14cvwPn2Z"
      },
      "outputs": [],
      "source": [
        "## TALLER 6: SISTEMMA DE ECUACIONES NO LINEALES"
      ]
    },
    {
      "cell_type": "markdown",
      "source": [
        "Sea $F:\\mathbb{R}^2 \\rightarrow \\mathbb{R}^2$ dado por:\n",
        " \n",
        " $$F(x)=\\left(\\begin{array}{c}\n",
        " x_1^2 + x_2^2 - 2\\\\\n",
        " e^{x_1-1} + x_2^3 -2\n",
        " \\end{array}\\right)$$\n",
        " \n",
        "Entonces el Jacobiano es\n",
        "\n",
        " $$J_F(x)=\\left(\n",
        " \\begin{array}{cc}\n",
        " 2x_1 & 2x_2\\\\\n",
        " e^{x_1-1} & 3x_2^2 \n",
        " \\end{array}\\right)$$\n",
        " \n",
        " con punto de partida $x_0 = (1,5; 2)^T$ y criterio de parada $||F(x_k)||_2 \\leq 10^{-10}$"
      ],
      "metadata": {
        "id": "kTez6vpTTqj6"
      }
    },
    {
      "cell_type": "code",
      "source": [
        "import numpy as np"
      ],
      "metadata": {
        "id": "dSSt9sQjS5Jp"
      },
      "execution_count": null,
      "outputs": []
    },
    {
      "cell_type": "code",
      "source": [
        "def F(x):\n",
        "    x = np.array(x)\n",
        "    F1 = x[0]**2 + x[1]**2-2\n",
        "    F2 = np.exp(x[0]-1) + x[1]**3 - 2\n",
        "    return np.matrix(np.append(F1,F2)).T\n"
      ],
      "metadata": {
        "id": "sftoh0lzVeZx"
      },
      "execution_count": null,
      "outputs": []
    },
    {
      "cell_type": "code",
      "source": [
        "F([1.5,2])"
      ],
      "metadata": {
        "colab": {
          "base_uri": "https://localhost:8080/"
        },
        "id": "bO8Ij75HWD0y",
        "outputId": "01f15a3d-b439-43fa-e077-1e935f354653"
      },
      "execution_count": null,
      "outputs": [
        {
          "output_type": "execute_result",
          "data": {
            "text/plain": [
              "matrix([[4.25      ],\n",
              "        [7.64872127]])"
            ]
          },
          "metadata": {},
          "execution_count": 5
        }
      ]
    },
    {
      "cell_type": "code",
      "source": [
        "def F(x):\n",
        "    x = np.array(x)\n",
        "    F = np.zeros((2,1))\n",
        "    F[0] = x[0]**2 + x[1]**2-2\n",
        "    F[1] = np.exp(x[0]-1) + x[1]**3 - 2\n",
        "    return np.matrix(F)"
      ],
      "metadata": {
        "id": "HQKmSKMDWHQJ"
      },
      "execution_count": null,
      "outputs": []
    },
    {
      "cell_type": "code",
      "source": [
        "F([1.5,2])"
      ],
      "metadata": {
        "colab": {
          "base_uri": "https://localhost:8080/"
        },
        "id": "OZppcyO9Wmal",
        "outputId": "526cb524-a5af-41ce-d6be-1cadce804bad"
      },
      "execution_count": null,
      "outputs": [
        {
          "output_type": "execute_result",
          "data": {
            "text/plain": [
              "matrix([[4.25      ],\n",
              "        [7.64872127]])"
            ]
          },
          "metadata": {},
          "execution_count": 7
        }
      ]
    },
    {
      "cell_type": "code",
      "source": [
        "def JF(x):\n",
        "    x = np.array(x)\n",
        "    JF11 = 2*x[0] \n",
        "    JF12 = 2*x[1] \n",
        "    JF21 = np.exp(x[0]-1)\n",
        "    JF22 = 3*x[1]**2 \n",
        "    return np.matrix([np.append(JF11,JF12),np.append(JF21,JF22)])"
      ],
      "metadata": {
        "id": "7BgoUOW5WOZl"
      },
      "execution_count": null,
      "outputs": []
    },
    {
      "cell_type": "code",
      "source": [
        "JF([1.5,2])"
      ],
      "metadata": {
        "colab": {
          "base_uri": "https://localhost:8080/"
        },
        "id": "qmvX6YBSXfsI",
        "outputId": "f262f268-d901-4230-8116-8214c45802f2"
      },
      "execution_count": null,
      "outputs": [
        {
          "output_type": "execute_result",
          "data": {
            "text/plain": [
              "matrix([[ 3.        ,  4.        ],\n",
              "        [ 1.64872127, 12.        ]])"
            ]
          },
          "metadata": {},
          "execution_count": 13
        }
      ]
    },
    {
      "cell_type": "code",
      "source": [
        "def JF(x):\n",
        "    x = np.array(x)\n",
        "    J = np.zeros((2,2))\n",
        "    J[0][0] = 2*x[0] \n",
        "    J[0][1] = 2*x[1] \n",
        "    J[1][0] = np.exp(x[0]-1)\n",
        "    J[1][1] = 3*x[1]**2 \n",
        "    return np.matrix(J)"
      ],
      "metadata": {
        "id": "5NETbwsXXfm0"
      },
      "execution_count": null,
      "outputs": []
    },
    {
      "cell_type": "code",
      "source": [
        "JF([1.5,2])"
      ],
      "metadata": {
        "colab": {
          "base_uri": "https://localhost:8080/"
        },
        "id": "hZ0IKsFYXfg_",
        "outputId": "b4f7464e-bf8b-411c-eabc-ef6fb5bc7c9d"
      },
      "execution_count": null,
      "outputs": [
        {
          "output_type": "execute_result",
          "data": {
            "text/plain": [
              "matrix([[ 3.        ,  4.        ],\n",
              "        [ 1.64872127, 12.        ]])"
            ]
          },
          "metadata": {},
          "execution_count": 15
        }
      ]
    },
    {
      "cell_type": "code",
      "source": [
        "x0 = np.matrix([1.5,2.1]).T\n",
        "xn = x0\n",
        "Fx = F(xn)\n",
        "JFx = JF(xn)\n",
        "iteracion = 0\n",
        "print(\"Iteracion %d, ||x|| = %.12f, ||F|| = %.12f\" %(iteracion, np.linalg.norm(xn), np.linalg.norm(Fx)))\n",
        "while np.linalg.norm(Fx)>= 10**-10: \n",
        "    sn = - JFx.I*Fx\n",
        "    xn = xn + sn\n",
        "    Fx = F(xn)\n",
        "    JFx = JF(xn)\n",
        "    iteracion = iteracion + 1\n",
        "    print(\"Iteracion %d, ||x|| = %.12f, ||F|| = %.12f , ||s|| = %.12f\" %(iteracion, np.linalg.norm(xn), np.linalg.norm(Fx), np.linalg.norm(sn)))\n",
        "print(\"Solucion. ||x|| = %.12f, ||F|| = %.12f\" %(np.linalg.norm(xn), np.linalg.norm(Fx)))\n",
        "print(\"Solucion. x = (%.12f, %.12f)\" %(xn[0],xn[1]))"
      ],
      "metadata": {
        "colab": {
          "base_uri": "https://localhost:8080/"
        },
        "id": "ZcH3NV8yXfYr",
        "outputId": "b3ab51c9-d002-4d5f-a608-93f8128726b6"
      },
      "execution_count": null,
      "outputs": [
        {
          "output_type": "stream",
          "name": "stdout",
          "text": [
            "Iteracion 0, ||x|| = 2.580697580113, ||F|| = 10.054786577624\n",
            "Iteracion 1, ||x|| = 1.698470015423, ||F|| = 2.454881588066 , ||s|| = 0.940638290360\n",
            "Iteracion 2, ||x|| = 1.458715812771, ||F|| = 0.514911751967 , ||s|| = 0.357563731979\n",
            "Iteracion 3, ||x|| = 1.427343788397, ||F|| = 0.088170022163 , ||s|| = 0.193158717834\n",
            "Iteracion 4, ||x|| = 1.414541377306, ||F|| = 0.002703381966 , ||s|| = 0.030451734127\n",
            "Iteracion 5, ||x|| = 1.414214057283, ||F|| = 0.000003659339 , ||s|| = 0.001183138088\n",
            "Iteracion 6, ||x|| = 1.414213562374, ||F|| = 0.000000000006 , ||s|| = 0.000001485766\n",
            "Solucion. ||x|| = 1.414213562374, ||F|| = 0.000000000006\n",
            "Solucion. x = (0.999999999999, 1.000000000002)\n"
          ]
        }
      ]
    },
    {
      "cell_type": "code",
      "source": [
        ""
      ],
      "metadata": {
        "id": "WIFLtUuEaQuc"
      },
      "execution_count": null,
      "outputs": []
    }
  ]
}