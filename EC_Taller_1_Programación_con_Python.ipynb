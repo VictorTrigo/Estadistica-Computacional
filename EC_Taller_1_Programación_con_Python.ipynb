{
  "cells": [
    {
      "cell_type": "markdown",
      "metadata": {
        "id": "view-in-github",
        "colab_type": "text"
      },
      "source": [
        "<a href=\"https://colab.research.google.com/github/VictorTrigo/Estadistica-Computacional/blob/master/EC_Taller_1_Programaci%C3%B3n_con_Python.ipynb\" target=\"_parent\"><img src=\"https://colab.research.google.com/assets/colab-badge.svg\" alt=\"Open In Colab\"/></a>"
      ]
    },
    {
      "cell_type": "markdown",
      "id": "876a1fc1",
      "metadata": {
        "id": "876a1fc1"
      },
      "source": [
        "# Taller 1: \"Programación con Python\" \n",
        "\n",
        "<span style=\"color: blue\">***Estadística Computacional***</span>\n",
        "    \n",
        "<span style=\"color: blue\">***Curso de Python***</span>\n",
        "\n",
        "Profesor: **Rodrigo Salas, Dr. Ing.**  <a href=\"mailto:rodrigo.salas@uv.cl\">(e-mail)</a>\n",
        "\n",
        "Universidad de Valparaíso\n",
        "\n",
        "Instituto Milenio de Intelligent Healthcare Engineering **iHEALTH**\n"
      ]
    },
    {
      "cell_type": "markdown",
      "id": "85222fa0",
      "metadata": {
        "id": "85222fa0"
      },
      "source": [
        "### Table of Contents:\n",
        "\n",
        "* [1. Variables, Operaciones y Expresiones](#python)\n",
        "* [2. Estructuras de Datos](#estructuras)\n",
        "* [3. Flujos de Control](#control)\n",
        "* [4. Funciones](#funciones)\n",
        "* [5. Algoritmos](#algoritmos)\n"
      ]
    },
    {
      "cell_type": "markdown",
      "id": "b5d4ed46",
      "metadata": {
        "id": "b5d4ed46"
      },
      "source": [
        "### Hello, World!!"
      ]
    },
    {
      "cell_type": "code",
      "execution_count": null,
      "id": "038586f8",
      "metadata": {
        "colab": {
          "base_uri": "https://localhost:8080/"
        },
        "id": "038586f8",
        "outputId": "f136e7de-061d-437e-924b-c59bebbc014f"
      },
      "outputs": [
        {
          "output_type": "stream",
          "name": "stdout",
          "text": [
            "Hello, World!!\n"
          ]
        }
      ],
      "source": [
        "print(\"Hello, World!!\")"
      ]
    },
    {
      "cell_type": "markdown",
      "id": "353d857b",
      "metadata": {
        "id": "353d857b"
      },
      "source": [
        "### 1. Variables, Operaciones y Expresiones <a class=\"anchor\" id=\"python\"></a>"
      ]
    },
    {
      "cell_type": "markdown",
      "id": "26036bec",
      "metadata": {
        "id": "26036bec"
      },
      "source": [
        "**Operadores Aritméticos**\n",
        "\n",
        "| Símbolo | Significado       |\n",
        "|---------|-------------------|\n",
        "|   +     | Suma              |\n",
        "|   -     | Resta             |\n",
        "|   -     | Negativo          |\n",
        "|   *     | Multiplicación    |\n",
        "|   **    | Exponente         |\n",
        "|   /     | División          |\n",
        "|   //    | División entera   |\n",
        "|   %     | Módulo            |"
      ]
    },
    {
      "cell_type": "code",
      "execution_count": null,
      "id": "626e7444",
      "metadata": {
        "colab": {
          "base_uri": "https://localhost:8080/"
        },
        "id": "626e7444",
        "outputId": "f51e7f53-d958-4453-f9ea-ddeaf4a4a7eb"
      },
      "outputs": [
        {
          "output_type": "stream",
          "name": "stdout",
          "text": [
            "Enter a number: 5\n",
            "Enter a number: 2\n",
            "Addition =  7\n",
            "Substraction =  3\n",
            "Product =  10\n",
            "Division =  2.5\n",
            "Power =  25\n",
            "Integer Division =  2\n",
            "Module =  1\n"
          ]
        }
      ],
      "source": [
        "n1 = int(input(\"Enter a number: \"))\n",
        "n2 = int(input(\"Enter a number: \"))\n",
        "print(\"Addition = \", n1 + n2)\n",
        "print(\"Substraction = \", n1 - n2)\n",
        "print(\"Product = \", n1 * n2)\n",
        "print(\"Division = \", n1 / n2)\n",
        "print(\"Power = \", n1 ** n2)\n",
        "print(\"Integer Division = \", n1 // n2)\n",
        "print(\"Module = \", n1 % n2)"
      ]
    },
    {
      "cell_type": "markdown",
      "id": "2O_wr4uJTOaQ",
      "metadata": {
        "id": "2O_wr4uJTOaQ"
      },
      "source": [
        "**Ejercicio:** Dado dos número ingresados por el usuario  escribir el resultado de la división con una parte entera y con la parte fraccional.\n",
        "\n",
        "$$ 17/2 = 8 \\frac{1}{2} $$\n"
      ]
    },
    {
      "cell_type": "code",
      "execution_count": null,
      "id": "iTQE1LgYTOuL",
      "metadata": {
        "colab": {
          "base_uri": "https://localhost:8080/"
        },
        "id": "iTQE1LgYTOuL",
        "outputId": "f352b0f7-643f-46b6-df04-6cafd9e95d9d"
      },
      "outputs": [
        {
          "output_type": "stream",
          "name": "stdout",
          "text": [
            "El resultado es:  8 * 1 / 2\n",
            "El resultado es 8 1/2\n"
          ]
        }
      ],
      "source": [
        "a = 17\n",
        "b = 2\n",
        "x1 = a//b\n",
        "x2 = a%b\n",
        "x3 = b\n",
        "print(\"El resultado es: \", x1, \"*\", x2, \"/\", x3)\n",
        "print(\"El resultado es %d %d/%d\" %(x1,x2,x3))\n"
      ]
    },
    {
      "cell_type": "markdown",
      "id": "0fb21fe7",
      "metadata": {
        "id": "0fb21fe7"
      },
      "source": [
        "**Operadores de relación:**\n",
        "\n",
        "| Símbolo | Significado       |\n",
        "|---------|-------------------|\n",
        "|   ==    | Igual que         |\n",
        "|   !=    | Distinto que      |\n",
        "|   <     | Menor que         |\n",
        "|   >     | Mayor que         |\n",
        "|   <=    | Menor o igual que |\n",
        "|   >=    | Mayor o igual que |\n",
        "\n",
        "**Operadores Lógicos**\n",
        "\n",
        "| Símbolo   |\n",
        "|-----------|\n",
        "|   and     |\n",
        "|   or      |\n",
        "|   not     |\n",
        "|   ^ xor   |\n",
        "\n",
        "**Tabla de Valores**\n",
        "\n",
        "| and | False | True  |\n",
        "|-----|-------|-------|\n",
        "|False| False | False |\n",
        "|True | False | True  |\n",
        "\n",
        "|  or | False | True  |\n",
        "|-----|-------|-------|\n",
        "|False| False | True  |\n",
        "|True | True  | True  |\n",
        "\n",
        "| not |       |\n",
        "|-----|-------|\n",
        "|False| Ture  |\n",
        "|True | False |\n",
        "\n",
        "| xor | False | True  |\n",
        "|-----|-------|-------|\n",
        "|False| False | True  |\n",
        "|True | True  | False |"
      ]
    },
    {
      "cell_type": "code",
      "execution_count": null,
      "id": "1657a8da",
      "metadata": {
        "colab": {
          "base_uri": "https://localhost:8080/"
        },
        "id": "1657a8da",
        "outputId": "10bbc8f8-c9f7-48e9-dac2-bb2e00193395"
      },
      "outputs": [
        {
          "output_type": "stream",
          "name": "stdout",
          "text": [
            "Ingrese 0 (Falso) o 1 (Verdadero) :0\n",
            "Ingrese 0 (Falso) o 1 (Verdadero) :0\n",
            "p = False  not p =  True\n",
            "q = False  not q =  True\n",
            "False  and  False  es  False\n",
            "False  or  False  es  False\n",
            "False  xor  False  es  False\n"
          ]
        }
      ],
      "source": [
        "p = bool(int(input(\"Ingrese 0 (Falso) o 1 (Verdadero) :\")))\n",
        "q = bool(int(input(\"Ingrese 0 (Falso) o 1 (Verdadero) :\")))\n",
        "print(\"p =\",p, \" not p = \", not p)\n",
        "print(\"q =\",q, \" not q = \", not q)\n",
        "print(p,\" and \", q, \" es \", p and q)\n",
        "print(p,\" or \", q, \" es \", p or q)\n",
        "print(p,\" xor \", q, \" es \", p ^ q)"
      ]
    },
    {
      "cell_type": "markdown",
      "id": "vxJ82pPwTEHQ",
      "metadata": {
        "id": "vxJ82pPwTEHQ"
      },
      "source": [
        "**Ejercicio:** Determinar el valor de verdad de ***(p and q) or (not p and q)*** para p y q ingresados por el usuario"
      ]
    },
    {
      "cell_type": "code",
      "execution_count": null,
      "id": "zOU7CY2qTEbY",
      "metadata": {
        "colab": {
          "base_uri": "https://localhost:8080/"
        },
        "id": "zOU7CY2qTEbY",
        "outputId": "d3970a26-28cd-4473-a08d-f12e612a56b5"
      },
      "outputs": [
        {
          "output_type": "execute_result",
          "data": {
            "text/plain": [
              "True"
            ]
          },
          "metadata": {},
          "execution_count": 5
        }
      ],
      "source": [
        "p = False\n",
        "q = True\n",
        "(p and q) or (not p and q)"
      ]
    },
    {
      "cell_type": "markdown",
      "id": "s0ljxn1vTqkc",
      "metadata": {
        "id": "s0ljxn1vTqkc"
      },
      "source": [
        "**Precedencia de los operadores**\n",
        "\n",
        "| Prioridad | Operador    | Descripción                        |\n",
        "|-----------|-------------|------------------------------------|\n",
        "| 1         | **          | Exponente                          |\n",
        "| 2         | + -         | Símbolo unario positivo o negativo |\n",
        "| 3         | * / % //    | Multiplicación, división, módulo   |\n",
        "| 4         | + -         | Suma y resta                       |\n",
        "| 5         | &           | operador lógico bitwise and        |\n",
        "| 6         | | ^         | operador lógico bitwise or, xor    |\n",
        "| 7         | <= < > >=   | operadores de comparación          |\n",
        "| 8         | <> == ! =   | operadores de igualdad.            |\n",
        "| 9         | = %= /= \\*=  | operadores de asignación          |\n",
        "| 9         | //= -= += \\*\\*= | operadores de asignación       |\n",
        "| 10        | is is not   | operadores de identidad            |\n",
        "| 11        | in in not   | operadores de membresía           |\n",
        "| 12        | not or and  | operadores de lógicos            |\n",
        "\n",
        "\n",
        "\n",
        "\n"
      ]
    },
    {
      "cell_type": "markdown",
      "id": "kuQQYsf_Twx-",
      "metadata": {
        "id": "kuQQYsf_Twx-"
      },
      "source": [
        "**Ejercicio:** ¿Cuál es el resultado de la siguiente operación?\n",
        "\n",
        "$$3 * 5 / 2 - 4 ** 2 <= 5 - 3 / 2 ** 3\\ and\\ True$$"
      ]
    },
    {
      "cell_type": "code",
      "execution_count": null,
      "id": "X7qoo50-TpuF",
      "metadata": {
        "colab": {
          "base_uri": "https://localhost:8080/"
        },
        "id": "X7qoo50-TpuF",
        "outputId": "2206f650-f0b2-49c2-ff5e-177a5f456b00"
      },
      "outputs": [
        {
          "output_type": "stream",
          "name": "stdout",
          "text": [
            "True\n"
          ]
        }
      ],
      "source": [
        "x = 3 * 5 / 2 - 4 ** 2 <= 5 - 3 / 2 ** 3 and True\n",
        "print(x)"
      ]
    },
    {
      "cell_type": "code",
      "execution_count": null,
      "id": "p0N4gVM0xE7n",
      "metadata": {
        "colab": {
          "base_uri": "https://localhost:8080/"
        },
        "id": "p0N4gVM0xE7n",
        "outputId": "a1ae66f8-824c-4a16-ba24-4509cffb217a"
      },
      "outputs": [
        {
          "output_type": "stream",
          "name": "stdout",
          "text": [
            "True\n"
          ]
        }
      ],
      "source": [
        "x = (((((3 * 5) / 2) - (4 ** 2)) <= (5 - (3 / (2 ** 3)))) and True)\n",
        "print(x)"
      ]
    },
    {
      "cell_type": "markdown",
      "id": "h_PDRYvce56V",
      "metadata": {
        "id": "h_PDRYvce56V"
      },
      "source": [
        "### 2. Estructura de Datos <a class=\"anchor\" id=\"estructuras\"></a>"
      ]
    },
    {
      "cell_type": "code",
      "execution_count": null,
      "id": "Vawvk7OPSbL9",
      "metadata": {
        "colab": {
          "base_uri": "https://localhost:8080/"
        },
        "id": "Vawvk7OPSbL9",
        "outputId": "26257b39-6719-4f69-826e-d3dd61f720d4"
      },
      "outputs": [
        {
          "output_type": "execute_result",
          "data": {
            "text/plain": [
              "[7, 3, 2, 1, 4]"
            ]
          },
          "metadata": {},
          "execution_count": 8
        }
      ],
      "source": [
        "lista = [7, 3, 2, 1, 4]\n",
        "lista"
      ]
    },
    {
      "cell_type": "code",
      "execution_count": null,
      "id": "N6bD0H5Yr2H0",
      "metadata": {
        "colab": {
          "base_uri": "https://localhost:8080/"
        },
        "id": "N6bD0H5Yr2H0",
        "outputId": "2e702269-b608-4ccc-9800-951ff2b9151b"
      },
      "outputs": [
        {
          "output_type": "execute_result",
          "data": {
            "text/plain": [
              "list"
            ]
          },
          "metadata": {},
          "execution_count": 9
        }
      ],
      "source": [
        "type(lista)"
      ]
    },
    {
      "cell_type": "code",
      "execution_count": null,
      "id": "dRxFWMuuSbA5",
      "metadata": {
        "colab": {
          "base_uri": "https://localhost:8080/"
        },
        "id": "dRxFWMuuSbA5",
        "outputId": "ad13bfb6-2eba-436f-e117-26149b8ff228"
      },
      "outputs": [
        {
          "output_type": "execute_result",
          "data": {
            "text/plain": [
              "5"
            ]
          },
          "metadata": {},
          "execution_count": 10
        }
      ],
      "source": [
        "len(lista)"
      ]
    },
    {
      "cell_type": "code",
      "execution_count": null,
      "id": "jpmaYEqhSa2l",
      "metadata": {
        "colab": {
          "base_uri": "https://localhost:8080/"
        },
        "id": "jpmaYEqhSa2l",
        "outputId": "0932fca8-8697-4f34-fb9d-ace703b8a79d"
      },
      "outputs": [
        {
          "output_type": "execute_result",
          "data": {
            "text/plain": [
              "7"
            ]
          },
          "metadata": {},
          "execution_count": 11
        }
      ],
      "source": [
        "lista[0]"
      ]
    },
    {
      "cell_type": "code",
      "execution_count": null,
      "id": "lVd-UQ0kSavS",
      "metadata": {
        "id": "lVd-UQ0kSavS",
        "outputId": "23721ed4-b391-45a6-8d24-3a609840e9e2",
        "colab": {
          "base_uri": "https://localhost:8080/"
        }
      },
      "outputs": [
        {
          "output_type": "execute_result",
          "data": {
            "text/plain": [
              "4"
            ]
          },
          "metadata": {},
          "execution_count": 12
        }
      ],
      "source": [
        "lista[-1]"
      ]
    },
    {
      "cell_type": "code",
      "execution_count": null,
      "id": "JY_SeK_BSal_",
      "metadata": {
        "colab": {
          "base_uri": "https://localhost:8080/"
        },
        "id": "JY_SeK_BSal_",
        "outputId": "779c3f88-b044-4726-a301-fab8b2e1dde1"
      },
      "outputs": [
        {
          "output_type": "execute_result",
          "data": {
            "text/plain": [
              "[2, 1, 4]"
            ]
          },
          "metadata": {},
          "execution_count": 13
        }
      ],
      "source": [
        "lista[2:5]"
      ]
    },
    {
      "cell_type": "code",
      "execution_count": null,
      "id": "pL7_vLLtSaiR",
      "metadata": {
        "id": "pL7_vLLtSaiR"
      },
      "outputs": [],
      "source": [
        "dictionario = {'llave_1': 5, 'llave_2': 7}"
      ]
    },
    {
      "cell_type": "code",
      "execution_count": null,
      "id": "hYsAgT9mSaPR",
      "metadata": {
        "colab": {
          "base_uri": "https://localhost:8080/",
          "height": 35
        },
        "id": "hYsAgT9mSaPR",
        "outputId": "d35e16ed-fb76-48f8-d205-7d6e2ef0eb2c"
      },
      "outputs": [
        {
          "output_type": "execute_result",
          "data": {
            "text/plain": [
              "'Curso de Python'"
            ],
            "application/vnd.google.colaboratory.intrinsic+json": {
              "type": "string"
            }
          },
          "metadata": {},
          "execution_count": 15
        }
      ],
      "source": [
        "string = 'Curso de Python'\n",
        "string"
      ]
    },
    {
      "cell_type": "code",
      "execution_count": null,
      "id": "gxXrt1izrz1f",
      "metadata": {
        "colab": {
          "base_uri": "https://localhost:8080/"
        },
        "id": "gxXrt1izrz1f",
        "outputId": "b3d19d09-fce9-4235-d7a9-a48a58166ceb"
      },
      "outputs": [
        {
          "output_type": "execute_result",
          "data": {
            "text/plain": [
              "str"
            ]
          },
          "metadata": {},
          "execution_count": 16
        }
      ],
      "source": [
        "type(string)"
      ]
    },
    {
      "cell_type": "code",
      "execution_count": null,
      "id": "kwuRYHDkrlUq",
      "metadata": {
        "colab": {
          "base_uri": "https://localhost:8080/"
        },
        "id": "kwuRYHDkrlUq",
        "outputId": "0e680d48-855b-4439-e9d7-2d01d696e6eb"
      },
      "outputs": [
        {
          "output_type": "execute_result",
          "data": {
            "text/plain": [
              "(5, 7, 10)"
            ]
          },
          "metadata": {},
          "execution_count": 17
        }
      ],
      "source": [
        "tupla = (5,7,10)\n",
        "tupla"
      ]
    },
    {
      "cell_type": "code",
      "execution_count": null,
      "id": "hP3UuA1Prxam",
      "metadata": {
        "colab": {
          "base_uri": "https://localhost:8080/"
        },
        "id": "hP3UuA1Prxam",
        "outputId": "aea1de4f-d22b-4da4-cbd9-6f3657d11c09"
      },
      "outputs": [
        {
          "output_type": "execute_result",
          "data": {
            "text/plain": [
              "tuple"
            ]
          },
          "metadata": {},
          "execution_count": 19
        }
      ],
      "source": [
        "type(tupla)"
      ]
    },
    {
      "cell_type": "code",
      "execution_count": null,
      "id": "HpKTB70srlFC",
      "metadata": {
        "colab": {
          "base_uri": "https://localhost:8080/"
        },
        "id": "HpKTB70srlFC",
        "outputId": "e30b30a1-76a3-49f5-91db-267639ab3c5f"
      },
      "outputs": [
        {
          "output_type": "execute_result",
          "data": {
            "text/plain": [
              "{5, 7, 10}"
            ]
          },
          "metadata": {},
          "execution_count": 20
        }
      ],
      "source": [
        "conjunto = {5,7,10}\n",
        "conjunto"
      ]
    },
    {
      "cell_type": "code",
      "execution_count": null,
      "id": "JdFCC-adrk8P",
      "metadata": {
        "colab": {
          "base_uri": "https://localhost:8080/"
        },
        "id": "JdFCC-adrk8P",
        "outputId": "5b6ef32b-6a04-423b-a267-40d4662f06bc"
      },
      "outputs": [
        {
          "output_type": "execute_result",
          "data": {
            "text/plain": [
              "set"
            ]
          },
          "metadata": {},
          "execution_count": 21
        }
      ],
      "source": [
        "type(conjunto)"
      ]
    },
    {
      "cell_type": "code",
      "execution_count": null,
      "id": "JI85aLw6rkss",
      "metadata": {
        "id": "JI85aLw6rkss"
      },
      "outputs": [],
      "source": [
        ""
      ]
    },
    {
      "cell_type": "markdown",
      "id": "1986dc26",
      "metadata": {
        "id": "1986dc26"
      },
      "source": [
        "### 3. Flujos de Control  <a class=\"anchor\" id=\"control\"></a>\n",
        "\n",
        "*Ejemplo de la sentencia if:* Revisar si un número es par o impar"
      ]
    },
    {
      "cell_type": "code",
      "execution_count": null,
      "id": "76b2c230",
      "metadata": {
        "colab": {
          "base_uri": "https://localhost:8080/"
        },
        "id": "76b2c230",
        "outputId": "2cae6e0e-fb91-4699-f785-e186da10ddd9"
      },
      "outputs": [
        {
          "output_type": "stream",
          "name": "stdout",
          "text": [
            "Ingrese un número entero: 5\n",
            "El número es impar\n"
          ]
        }
      ],
      "source": [
        "n = int(input('Ingrese un número entero: '))\n",
        "if n%2 == 0:\n",
        "    print('El número es par')\n",
        "else:\n",
        "    print('El número es impar')"
      ]
    },
    {
      "cell_type": "markdown",
      "id": "P1-Dmtg7S7Ta",
      "metadata": {
        "id": "P1-Dmtg7S7Ta"
      },
      "source": [
        "**Ejemplo:** Dada la nota final del estudiante indicar si el estudiante aprobó la asignatura con nota superior o igual a 4.0 o reprobó la asignatura con nota inferior a 4.0"
      ]
    },
    {
      "cell_type": "code",
      "execution_count": null,
      "id": "gBnLY4GVS9FY",
      "metadata": {
        "colab": {
          "base_uri": "https://localhost:8080/"
        },
        "id": "gBnLY4GVS9FY",
        "outputId": "5ebc3a26-fc66-449e-c1f0-83df66b09079"
      },
      "outputs": [
        {
          "output_type": "stream",
          "name": "stdout",
          "text": [
            "Ingrese Nota Final:6\n",
            "Es estudiante aprobó la asignatura\n"
          ]
        }
      ],
      "source": [
        "nota_final = float(input(\"Ingrese Nota Final:\"))\n",
        "if nota_final >= 4.0:\n",
        "    print(\"Es estudiante aprobó la asignatura\")\n",
        "else:\n",
        "    print(\"Es estudiante reaprobó la asignatura\")"
      ]
    },
    {
      "cell_type": "markdown",
      "id": "tJl4OUoPSxPd",
      "metadata": {
        "id": "tJl4OUoPSxPd"
      },
      "source": [
        "**Ejercicio:** A través del análisis de la discriminante $\\Delta = b^2 - 4ac$ determinar si la ecuación cuadrática \n",
        "\n",
        "$$ax^2 + bx + c = 0$$\n",
        "\n",
        "tiene 2 soluciones reales ($\\Delta>0$), 1 solución real ($\\Delta=0$) o 2 soluciones imaginarias ($\\Delta<0$).\n",
        "El usario ingresa los valores para las variables a, b y c"
      ]
    },
    {
      "cell_type": "code",
      "execution_count": null,
      "id": "7HgQFN1NSzSo",
      "metadata": {
        "colab": {
          "base_uri": "https://localhost:8080/"
        },
        "id": "7HgQFN1NSzSo",
        "outputId": "5e9d721e-b30f-4b27-bfaa-154520dcf3a7"
      },
      "outputs": [
        {
          "output_type": "stream",
          "name": "stdout",
          "text": [
            "Ingrese a:4\n",
            "Ingrese b:5\n",
            "Ingrese c:6\n",
            "Discriminante =  -71.0\n",
            "Soluciones imaginarias\n"
          ]
        }
      ],
      "source": [
        "a = float(input(\"Ingrese a:\"))\n",
        "b = float(input(\"Ingrese b:\"))\n",
        "c = float(input(\"Ingrese c:\"))\n",
        "D = b**2 - 4*a*c\n",
        "print('Discriminante = ', D)\n",
        "if D==0:\n",
        "  print(\"Una solución\")\n",
        "elif D>0:\n",
        "  print(\"Dos soluciones reales\")\n",
        "else:\n",
        "  print(\"Soluciones imaginarias\")"
      ]
    },
    {
      "cell_type": "code",
      "execution_count": null,
      "id": "ootFzy4Cze4h",
      "metadata": {
        "colab": {
          "base_uri": "https://localhost:8080/"
        },
        "id": "ootFzy4Cze4h",
        "outputId": "11158b83-b313-488e-ddff-01f05b556daa"
      },
      "outputs": [
        {
          "output_type": "stream",
          "name": "stdout",
          "text": [
            "ingrese vocal:u\n",
            "Ulises\n"
          ]
        }
      ],
      "source": [
        "a = input('ingrese vocal:')\n",
        "if a == 'a':\n",
        "  print('Amanda')\n",
        "elif a== 'e':\n",
        "  print('Ernesto')\n",
        "elif a== 'i':\n",
        "  print('Ignacia')\n",
        "elif a== 'o':\n",
        "  print('Oscar')\n",
        "elif a== 'u':\n",
        "  print('Ulises')\n",
        "else:\n",
        "  print('Ingrese vocal')"
      ]
    },
    {
      "cell_type": "markdown",
      "id": "00c72746",
      "metadata": {
        "id": "00c72746"
      },
      "source": [
        "*Ejemplo de la sentencia while:* Sumar los números hasta que exceda 100"
      ]
    },
    {
      "cell_type": "code",
      "execution_count": null,
      "id": "95cffc0b",
      "metadata": {
        "colab": {
          "base_uri": "https://localhost:8080/"
        },
        "id": "95cffc0b",
        "outputId": "94c00bb3-d455-4008-b38c-b5c16eae1d11"
      },
      "outputs": [
        {
          "output_type": "stream",
          "name": "stdout",
          "text": [
            "Enter a number: 50\n",
            "The current result is: 50\n",
            "Enter a number: 20\n",
            "The current result is: 70\n",
            "Enter a number: 30\n",
            "The current result is: 100\n",
            "Enter a number: 1\n",
            "The current result is: 101\n",
            "The sum is higher than 100.\n"
          ]
        }
      ],
      "source": [
        "S = 0\n",
        "while(S<=100):\n",
        "    n = int(input('Enter a number: '))\n",
        "    S = S + n\n",
        "    print(\"The current result is:\", S)\n",
        "else:\n",
        "    print(\"The sum is higher than 100.\")"
      ]
    },
    {
      "cell_type": "markdown",
      "id": "0c3cb9fc",
      "metadata": {
        "id": "0c3cb9fc"
      },
      "source": [
        "*Ejemplo de la sentencia for:* Obtener los primeros N números de la secuencia de Fibonacci.\n",
        "\n",
        "Secuencia: 1, 1, 2, 3, 5, 8, 13, 21, 34, 55...\n",
        "\n",
        "$x1 = 1$\n",
        "\n",
        "$x2 = 1$\n",
        "\n",
        "$x(n) = x(n-1)+x(n-2)$\n",
        "\n",
        "\n",
        "\n",
        "\n"
      ]
    },
    {
      "cell_type": "code",
      "execution_count": null,
      "id": "e83e1b8d",
      "metadata": {
        "colab": {
          "base_uri": "https://localhost:8080/"
        },
        "id": "e83e1b8d",
        "outputId": "20f62142-cbf0-4c80-ae86-b5ec2fdda44b"
      },
      "outputs": [
        {
          "output_type": "stream",
          "name": "stdout",
          "text": [
            "Enter a number: 15\n",
            "1\n",
            "1\n",
            "2\n",
            "3\n",
            "5\n",
            "8\n",
            "13\n",
            "21\n",
            "34\n",
            "55\n",
            "89\n",
            "144\n",
            "233\n",
            "377\n",
            "610\n"
          ]
        }
      ],
      "source": [
        "N = int(input('Enter a number: '))\n",
        "a1 = 1\n",
        "a2 = 1\n",
        "if N<1:\n",
        "    print(\"Please enter a positive integer\")\n",
        "if N>=1:\n",
        "    print(a1)\n",
        "if N>=2:\n",
        "    print(a2)\n",
        "for j in range(3,N+1):\n",
        "    f = a1 + a2\n",
        "    print(f)\n",
        "    #a1, a2 = a2, f\n",
        "    a1 = a2\n",
        "    a2 = f"
      ]
    },
    {
      "cell_type": "markdown",
      "id": "wHE9j0iKSkpr",
      "metadata": {
        "id": "wHE9j0iKSkpr"
      },
      "source": [
        "**Ejemplo:** Imprimir los nombres de una lista"
      ]
    },
    {
      "cell_type": "code",
      "execution_count": null,
      "id": "JhqwKgOVShcc",
      "metadata": {
        "colab": {
          "base_uri": "https://localhost:8080/"
        },
        "id": "JhqwKgOVShcc",
        "outputId": "e0a58d59-28ff-4503-fcc0-46e431cf9a1c"
      },
      "outputs": [
        {
          "output_type": "stream",
          "name": "stdout",
          "text": [
            "Juan\n",
            "Pedro\n",
            "Ana\n",
            "Carolina\n",
            "Antonio\n"
          ]
        }
      ],
      "source": [
        "nombres = ['Juan', 'Pedro', 'Ana', 'Carolina', 'Antonio']\n",
        "\n",
        "for nom in nombres:\n",
        "    print(nom)"
      ]
    },
    {
      "cell_type": "markdown",
      "id": "k_viJGU3sejv",
      "metadata": {
        "id": "k_viJGU3sejv"
      },
      "source": [
        "**Ejercicio:** Realizar un programa que calcule la suma de los primeros n números enteros al cuadrado:\n",
        "\n",
        "$$1^2 + 2^2 + 3^2 + 4^2 + .... + n^2$$ "
      ]
    },
    {
      "cell_type": "code",
      "execution_count": null,
      "id": "oYBUAhM3sget",
      "metadata": {
        "colab": {
          "base_uri": "https://localhost:8080/"
        },
        "id": "oYBUAhM3sget",
        "outputId": "c0203491-2b1f-4327-e82d-cf0f78492a8b"
      },
      "outputs": [
        {
          "output_type": "stream",
          "name": "stdout",
          "text": [
            "Ingrese cantidad de elementos5\n",
            "Resultado =  55\n"
          ]
        }
      ],
      "source": [
        "n = int(input('Ingrese cantidad de elementos'))\n",
        "S = 0 \n",
        "for j in range(1,n+1):\n",
        "    S = S + j**2\n",
        "print('Resultado = ', S)"
      ]
    },
    {
      "cell_type": "code",
      "execution_count": null,
      "id": "kCLcttfR3cGJ",
      "metadata": {
        "colab": {
          "base_uri": "https://localhost:8080/"
        },
        "id": "kCLcttfR3cGJ",
        "outputId": "a359fe88-93d9-44a6-d5b8-d8164c7fc19f"
      },
      "outputs": [
        {
          "output_type": "execute_result",
          "data": {
            "text/plain": [
              "55"
            ]
          },
          "metadata": {},
          "execution_count": 37
        }
      ],
      "source": [
        "1**2 + 2**2 + 3**2 + 4**2 + 5**2"
      ]
    },
    {
      "cell_type": "markdown",
      "id": "6221e59e",
      "metadata": {
        "id": "6221e59e"
      },
      "source": [
        "### 4. Funciones  <a class=\"anchor\" id=\"funciones\"></a>"
      ]
    },
    {
      "cell_type": "markdown",
      "id": "259e772a",
      "metadata": {
        "id": "259e772a"
      },
      "source": [
        "*Ejemplo:* Convertir la temperatura Fahrenheit a Celsius"
      ]
    },
    {
      "cell_type": "code",
      "execution_count": null,
      "id": "78123111",
      "metadata": {
        "id": "78123111"
      },
      "outputs": [],
      "source": [
        "def fahrenheit_to_celsius(temperature):\n",
        "    return (temperature-32) * 5/9"
      ]
    },
    {
      "cell_type": "code",
      "execution_count": null,
      "id": "81dc2d41",
      "metadata": {
        "colab": {
          "base_uri": "https://localhost:8080/"
        },
        "id": "81dc2d41",
        "outputId": "eb2ffea1-c647-4439-cccb-c332c49a52cb"
      },
      "outputs": [
        {
          "output_type": "stream",
          "name": "stdout",
          "text": [
            "Enter the temperature in Fahrenheit degree:20\n",
            "The temperature in Celsius degree is: -6.666666666666667\n"
          ]
        }
      ],
      "source": [
        "temp = float(input('Enter the temperature in Fahrenheit degree:'))\n",
        "celsius = fahrenheit_to_celsius(temp)\n",
        "print(\"The temperature in Celsius degree is:\", celsius)"
      ]
    },
    {
      "cell_type": "code",
      "execution_count": null,
      "id": "sFen9FQu44LC",
      "metadata": {
        "id": "sFen9FQu44LC"
      },
      "outputs": [],
      "source": [
        "def celsius_to_fahrenheit(temp):\n",
        "  T = (9/5) * temp + 32\n",
        "  return T "
      ]
    },
    {
      "cell_type": "code",
      "execution_count": null,
      "id": "uinTjKj85LEj",
      "metadata": {
        "colab": {
          "base_uri": "https://localhost:8080/"
        },
        "id": "uinTjKj85LEj",
        "outputId": "c473ed8e-abb4-4120-d1e3-dd74eb673c5a"
      },
      "outputs": [
        {
          "output_type": "execute_result",
          "data": {
            "text/plain": [
              "199.94"
            ]
          },
          "metadata": {},
          "execution_count": 43
        }
      ],
      "source": [
        "celsius_to_fahrenheit(93.3)"
      ]
    },
    {
      "cell_type": "code",
      "execution_count": null,
      "id": "TM9lAje45VqE",
      "metadata": {
        "colab": {
          "base_uri": "https://localhost:8080/"
        },
        "id": "TM9lAje45VqE",
        "outputId": "fb864687-3e29-41af-8908-4b83b871498c"
      },
      "outputs": [
        {
          "output_type": "execute_result",
          "data": {
            "text/plain": [
              "122.0"
            ]
          },
          "metadata": {},
          "execution_count": 44
        }
      ],
      "source": [
        "celsius_to_fahrenheit(50)"
      ]
    },
    {
      "cell_type": "markdown",
      "id": "7dEpgN8p4fla",
      "metadata": {
        "id": "7dEpgN8p4fla"
      },
      "source": [
        "### 5. Algoritmos <a class=\"anchor\" id=\"algoritmos\"></a>"
      ]
    },
    {
      "cell_type": "markdown",
      "id": "OninF1i34kXD",
      "metadata": {
        "id": "OninF1i34kXD"
      },
      "source": [
        "Números de Bernoulli -  Algorimo Akiyama–Tanigawa\n",
        "\n",
        "https://rosettacode.org/wiki/Bernoulli_numbers#Python"
      ]
    },
    {
      "cell_type": "code",
      "execution_count": null,
      "id": "ArdKyop14i9m",
      "metadata": {
        "colab": {
          "base_uri": "https://localhost:8080/"
        },
        "id": "ArdKyop14i9m",
        "outputId": "9cd48e94-2ff8-4278-bffe-eadf5fb07628"
      },
      "outputs": [
        {
          "output_type": "stream",
          "name": "stdout",
          "text": [
            "B( 0) =                                            1/1\n",
            "B( 1) =                                            1/2\n",
            "B( 2) =                                            1/6\n",
            "B( 4) =                                           -1/30\n",
            "B( 6) =                                            1/42\n",
            "B( 8) =                                           -1/30\n",
            "B(10) =                                            5/66\n",
            "B(12) =                                         -691/2730\n",
            "B(14) =                                            7/6\n",
            "B(16) =                                        -3617/510\n",
            "B(18) =                                        43867/798\n",
            "B(20) =                                      -174611/330\n",
            "B(22) =                                       854513/138\n",
            "B(24) =                                   -236364091/2730\n",
            "B(26) =                                      8553103/6\n",
            "B(28) =                                 -23749461029/870\n",
            "B(30) =                                8615841276005/14322\n",
            "B(32) =                               -7709321041217/510\n",
            "B(34) =                                2577687858367/6\n",
            "B(36) =                        -26315271553053477373/1919190\n",
            "B(38) =                             2929993913841559/6\n",
            "B(40) =                       -261082718496449122051/13530\n",
            "B(42) =                       1520097643918070802691/1806\n",
            "B(44) =                     -27833269579301024235023/690\n",
            "B(46) =                     596451111593912163277961/282\n",
            "B(48) =                -5609403368997817686249127547/46410\n",
            "B(50) =                  495057205241079648212477525/66\n",
            "B(52) =              -801165718135489957347924991853/1590\n",
            "B(54) =             29149963634884862421418123812691/798\n",
            "B(56) =          -2479392929313226753685415739663229/870\n",
            "B(58) =          84483613348880041862046775994036021/354\n",
            "B(60) = -1215233140483755572040304994079820246041491/56786730\n"
          ]
        }
      ],
      "source": [
        "from fractions import Fraction as Fr\n",
        " \n",
        "def bernoulli(n):\n",
        "    A = [0] * (n+1)\n",
        "    for m in range(n+1):\n",
        "        A[m] = Fr(1, m+1)\n",
        "        for j in range(m, 0, -1):\n",
        "          A[j-1] = j*(A[j-1] - A[j])\n",
        "    return A[0] # (which is Bn)\n",
        " \n",
        "bn = [(i, bernoulli(i)) for i in range(61)]\n",
        "bn = [(i, b) for i,b in bn if b]\n",
        "width = max(len(str(b.numerator)) for i,b in bn)\n",
        "for i,b in bn:\n",
        "    print('B(%2i) = %*i/%i' % (i, width, b.numerator, b.denominator))"
      ]
    },
    {
      "cell_type": "markdown",
      "id": "nBJZIB2fR5iB",
      "metadata": {
        "id": "nBJZIB2fR5iB"
      },
      "source": [
        "**Ejemplo: Adivina un número.** Crear un juego donde el usuario debe adivinar un número entre 1 y 100. Si el número ingresado por el usuario es menor que el de la máquina, entonces deberá indicar que debe subir el número. Por otro lado si el número del usuario es mayor que el de la máquina, entonces se debe indicar que debe bajar."
      ]
    },
    {
      "cell_type": "code",
      "execution_count": null,
      "id": "Ge4s6rOkR56w",
      "metadata": {
        "colab": {
          "base_uri": "https://localhost:8080/"
        },
        "id": "Ge4s6rOkR56w",
        "outputId": "c8d92cf0-da69-47d5-f2e0-e4ad0f9b0d8d"
      },
      "outputs": [
        {
          "output_type": "stream",
          "name": "stdout",
          "text": [
            "Ingrese un número:50\n",
            "El número debe ser más grande\n",
            "Ingrese un número:75\n",
            "El número debe ser más pequeño\n",
            "Ingrese un número:62\n",
            "El número debe ser más pequeño\n",
            "Ingrese un número:55\n",
            "El número debe ser más grande\n",
            "Ingrese un número:58\n",
            "El número debe ser más grande\n",
            "Ingrese un número:59\n",
            "Ud. ha adivinado el número!!!\n",
            "Números de intentos =  6\n"
          ]
        }
      ],
      "source": [
        "from numpy.random import randint \n",
        "numero_maquina = randint(100)+1\n",
        "intentos = 1\n",
        "while intentos<20:\n",
        "    n = int(input(\"Ingrese un número:\"))\n",
        "    if n == numero_maquina:\n",
        "        print(\"Ud. ha adivinado el número!!!\")\n",
        "        print(\"Números de intentos = \",intentos)\n",
        "        break\n",
        "    if n>numero_maquina:\n",
        "        print(\"El número debe ser más pequeño\")\n",
        "    else:\n",
        "        print(\"El número debe ser más grande\")\n",
        "    intentos +=1\n",
        "else:\n",
        "    print(\"Ud. ha excedido el número máximo de intentos\")"
      ]
    },
    {
      "cell_type": "markdown",
      "id": "ICbRPQ_nRjet",
      "metadata": {
        "id": "ICbRPQ_nRjet"
      },
      "source": [
        "**Ejercicio:** Crear el juego del 21 donde dos jugadores piden cartas del mazo con valores entre 1 y 13. Si al pedir cartas, la suma de las cartas solicitadas supera 21, entonces el jugador pierde automáticamente. Si el jugador obtiene 21 automáticamente gana. El jugador que se acerca lo más posible a 21 sin pasarse gana."
      ]
    },
    {
      "cell_type": "code",
      "execution_count": null,
      "id": "pTY_vICbRi2X",
      "metadata": {
        "colab": {
          "base_uri": "https://localhost:8080/"
        },
        "id": "pTY_vICbRi2X",
        "outputId": "a2f1eaa8-38d4-44d7-b108-29d19e8c6e7d"
      },
      "outputs": [
        {
          "output_type": "stream",
          "name": "stdout",
          "text": [
            "Su carta es:  7\n",
            "La suma es:  7\n",
            "Quiere otra carta (S/N)S\n",
            "Su carta es:  4\n",
            "La suma es:  11\n",
            "Quiere otra carta (S/N)S\n",
            "Su carta es:  9\n",
            "La suma es:  20\n",
            "Quiere otra carta (S/N)N\n",
            "Fin\n"
          ]
        }
      ],
      "source": [
        "carta = randint(13)+1\n",
        "print(\"Su carta es: \", carta)\n",
        "Suma_carta = carta\n",
        "print(\"La suma es: \", Suma_carta)\n",
        "c = input(\"Quiere otra carta (S/N)\")\n",
        "while c=='S':\n",
        "  carta = randint(13)+1\n",
        "  print(\"Su carta es: \", carta)\n",
        "  Suma_carta += carta\n",
        "  print(\"La suma es: \", Suma_carta)\n",
        "  if Suma_carta>21:\n",
        "    print(\"Perdió\")\n",
        "    break\n",
        "  if Suma_carta==21:\n",
        "    print(\"Ganó\")\n",
        "    break\n",
        "  c = input(\"Quiere otra carta (S/N)\")\n",
        "print(\"Fin\")"
      ]
    },
    {
      "cell_type": "markdown",
      "id": "RN-KS1VdRibR",
      "metadata": {
        "id": "RN-KS1VdRibR"
      },
      "source": [
        "**Ejemplo: Ecuación del Amor.** Gráficos de funciones paramétricas.\n",
        "Graficar:\n",
        "\n",
        "$$x(t) = 16\\sin^3(t)$$\n",
        "\n",
        "$$y(t) = 13\\cos(t) - 5\\cos(2t) - 2\\cos(3t) - cos(4t)$$\n",
        "\n",
        "para $t \\in [0,2\\pi]$"
      ]
    },
    {
      "cell_type": "code",
      "execution_count": null,
      "id": "Ihe3OWg0RvnE",
      "metadata": {
        "id": "Ihe3OWg0RvnE"
      },
      "outputs": [],
      "source": [
        "import matplotlib.pyplot as plt\n",
        "import numpy as np\n",
        "%matplotlib inline"
      ]
    },
    {
      "cell_type": "code",
      "execution_count": null,
      "id": "h5HuISIxRkWj",
      "metadata": {
        "colab": {
          "base_uri": "https://localhost:8080/",
          "height": 282
        },
        "id": "h5HuISIxRkWj",
        "outputId": "496d0c10-c248-47fd-f0e2-33d9812fd898"
      },
      "outputs": [
        {
          "output_type": "execute_result",
          "data": {
            "text/plain": [
              "[<matplotlib.lines.Line2D at 0x7fa856710710>]"
            ]
          },
          "metadata": {},
          "execution_count": 7
        },
        {
          "output_type": "display_data",
          "data": {
            "text/plain": [
              "<Figure size 432x288 with 1 Axes>"
            ],
            "image/png": "[encoded data removed]"
          },
          "metadata": {
            "needs_background": "light"
          }
        }
      ],
      "source": [
        "t = np.arange(0,2*np.pi, 0.1)\n",
        "x = 16*np.sin(t)**3\n",
        "y = 13*np.cos(t)-5*np.cos(2*t)-2*np.cos(3*t)-np.cos(4*t)\n",
        "plt.plot(x,y)"
      ]
    },
    {
      "cell_type": "markdown",
      "id": "qNPz2WrGReo3",
      "metadata": {
        "id": "qNPz2WrGReo3"
      },
      "source": [
        "**Ejercicio:** Graficar la función paramétrica:\n",
        "\n",
        "$$x(t) = r\\cos(t)$$\n",
        "$$y(t) = r\\sin(t)$$\n",
        "\n",
        "con $r=3$ y $t \\in [0,2\\pi]$"
      ]
    },
    {
      "cell_type": "code",
      "execution_count": null,
      "id": "tMLem8QpRhak",
      "metadata": {
        "colab": {
          "base_uri": "https://localhost:8080/",
          "height": 265
        },
        "id": "tMLem8QpRhak",
        "outputId": "93de07b2-a272-4273-e671-b9ddf657d0b5"
      },
      "outputs": [
        {
          "output_type": "display_data",
          "data": {
            "text/plain": [
              "<Figure size 432x288 with 1 Axes>"
            ],
            "image/png": "[encoded data removed]"
          },
          "metadata": {
            "needs_background": "light"
          }
        }
      ],
      "source": [
        "t = np.arange(0,2*np.pi+0.1, 0.1)\n",
        "r = 3\n",
        "x = r*np.cos(t)\n",
        "y = r*np.sin(t)\n",
        "ax = plt.plot(x,y,'-')\n",
        "plt.gca().set_aspect('equal')"
      ]
    },
    {
      "cell_type": "markdown",
      "id": "wIDkpbuJRaq4",
      "metadata": {
        "id": "wIDkpbuJRaq4"
      },
      "source": [
        "# Referencias\n",
        "- https://uniwebsidad.com/libros/python/capitulo-2/estructuras-de-control-de-flujo\n",
        "- http://www.uacj.mx/CGTI/CDTE/JPM/Documents/IIT/selectivas/selectiva-doble-si-entoncessino.html\n",
        "- Cairó, O. (2005). Metodología de la programación. Algoritmos, diagramas de flujo y programas. 3ª. Edición. México: Alfaomega."
      ]
    },
    {
      "cell_type": "markdown",
      "id": "qpd0XEUnClFC",
      "metadata": {
        "id": "qpd0XEUnClFC"
      },
      "source": [
        "### Gracias por su atención\n",
        "\n",
        "Esto es todo por hoy.\n"
      ]
    },
    {
      "cell_type": "code",
      "execution_count": null,
      "id": "lXix6Fwz4_su",
      "metadata": {
        "id": "lXix6Fwz4_su"
      },
      "outputs": [],
      "source": [
        ""
      ]
    }
  ],
  "metadata": {
    "colab": {
      "name": "EC_Taller_1_Programación_con_Python.ipynb",
      "provenance": [],
      "collapsed_sections": [],
      "include_colab_link": true
    },
    "kernelspec": {
      "display_name": "Python 3",
      "language": "python",
      "name": "python3"
    },
    "language_info": {
      "codemirror_mode": {
        "name": "ipython",
        "version": 3
      },
      "file_extension": ".py",
      "mimetype": "text/x-python",
      "name": "python",
      "nbconvert_exporter": "python",
      "pygments_lexer": "ipython3",
      "version": "3.8.8"
    }
  },
  "nbformat": 4,
  "nbformat_minor": 5
}