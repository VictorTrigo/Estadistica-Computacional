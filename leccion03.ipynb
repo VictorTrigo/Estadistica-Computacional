{
  "nbformat": 4,
  "nbformat_minor": 0,
  "metadata": {
    "colab": {
      "name": "leccion03.ipynb",
      "provenance": [],
      "collapsed_sections": [],
      "authorship_tag": "ABX9TyNSBp55znryPdh7TFM8Xo0f",
      "include_colab_link": true
    },
    "kernelspec": {
      "name": "python3",
      "display_name": "Python 3"
    },
    "language_info": {
      "name": "python"
    }
  },
  "cells": [
    {
      "cell_type": "markdown",
      "metadata": {
        "id": "view-in-github",
        "colab_type": "text"
      },
      "source": [
        "<a href=\"https://colab.research.google.com/github/VictorTrigo/Estadistica-Computacional/blob/master/leccion03.ipynb\" target=\"_parent\"><img src=\"https://colab.research.google.com/assets/colab-badge.svg\" alt=\"Open In Colab\"/></a>"
      ]
    },
    {
      "cell_type": "code",
      "source": [
        "import numpy as np\n",
        "import matplotlib.pyplot as plt\n",
        "from tabulate import tabulate\n",
        "import collections"
      ],
      "metadata": {
        "id": "lgZ_o0ySeJmr"
      },
      "execution_count": null,
      "outputs": []
    },
    {
      "cell_type": "code",
      "source": [
        "datos = (15, 32, 7, 55, 19, 23, 42, 17)"
      ],
      "metadata": {
        "id": "S1BKypUbYoNv"
      },
      "execution_count": null,
      "outputs": []
    },
    {
      "cell_type": "markdown",
      "source": [
        "Promedio Aritmetico"
      ],
      "metadata": {
        "id": "RJsdIvAeXEx_"
      }
    },
    {
      "cell_type": "code",
      "execution_count": null,
      "metadata": {
        "id": "_jUwMj9A6uBj"
      },
      "outputs": [],
      "source": [
        "def promedio(datos):\n",
        "  suma = 0\n",
        "  n = len(datos)\n",
        "  for x in datos:\n",
        "    suma = suma + x\n",
        "  prom = suma / n\n",
        "  return prom"
      ]
    },
    {
      "cell_type": "code",
      "source": [
        "p = promedio(datos)\n",
        "print('El resultado del promedio es: ', p)"
      ],
      "metadata": {
        "colab": {
          "base_uri": "https://localhost:8080/"
        },
        "id": "6QlsAqnQXNC7",
        "outputId": "ce403c0b-be00-4e2f-dd3b-5fde5b2c7832"
      },
      "execution_count": null,
      "outputs": [
        {
          "output_type": "stream",
          "name": "stdout",
          "text": [
            "El resultado del promedio es:  26.25\n"
          ]
        }
      ]
    },
    {
      "cell_type": "markdown",
      "source": [
        "Varianza"
      ],
      "metadata": {
        "id": "mcl6CXtHXtXY"
      }
    },
    {
      "cell_type": "code",
      "source": [
        "def varianza(datos):\n",
        "  suma = 0\n",
        "  n = len(datos)\n",
        "  prom = promedio(datos)\n",
        "  for x in datos:\n",
        "    suma = suma + (x - prom)**2\n",
        "  var = suma/n\n",
        "  return var"
      ],
      "metadata": {
        "id": "mWnGNhrQXlBY"
      },
      "execution_count": null,
      "outputs": []
    },
    {
      "cell_type": "code",
      "source": [
        "var = varianza(datos)\n",
        "print(\"El resultado de la varianza es: \", var)"
      ],
      "metadata": {
        "colab": {
          "base_uri": "https://localhost:8080/"
        },
        "id": "4hwuI9gHYIlU",
        "outputId": "ac50380e-1c27-4774-bcf3-51adf3a73576"
      },
      "execution_count": null,
      "outputs": [
        {
          "output_type": "stream",
          "name": "stdout",
          "text": [
            "El resultado de la varianza es:  219.1875\n"
          ]
        }
      ]
    },
    {
      "cell_type": "markdown",
      "source": [
        "Máximo"
      ],
      "metadata": {
        "id": "WjQ_Ne_YYxoX"
      }
    },
    {
      "cell_type": "code",
      "source": [
        "def maximo(datos):\n",
        "  mx = datos[0]\n",
        "  for x in datos:\n",
        "    if x > mx:\n",
        "      mx = x\n",
        "  return mx"
      ],
      "metadata": {
        "id": "XXh65lEXYKXs"
      },
      "execution_count": null,
      "outputs": []
    },
    {
      "cell_type": "code",
      "source": [
        "max = maximo(datos)\n",
        "print(\"Maximo = \", max)"
      ],
      "metadata": {
        "colab": {
          "base_uri": "https://localhost:8080/"
        },
        "id": "VTw268MkZGTu",
        "outputId": "c46ae0c4-d3fb-48f2-8978-17c4944859dd"
      },
      "execution_count": null,
      "outputs": [
        {
          "output_type": "stream",
          "name": "stdout",
          "text": [
            "Maximo =  55\n"
          ]
        }
      ]
    },
    {
      "cell_type": "markdown",
      "source": [
        "Mínimo"
      ],
      "metadata": {
        "id": "O18MPc6Tbx3R"
      }
    },
    {
      "cell_type": "code",
      "source": [
        "def minimo(datos):\n",
        "  n = len(datos)\n",
        "  mn = datos[n-1]\n",
        "  for x in datos:\n",
        "    if x < mn:\n",
        "      mn = x\n",
        "  return mn"
      ],
      "metadata": {
        "id": "vfjTrW1vbzVU"
      },
      "execution_count": null,
      "outputs": []
    },
    {
      "cell_type": "code",
      "source": [
        "min = minimo(datos)\n",
        "print(\"Minimo = \", min)"
      ],
      "metadata": {
        "colab": {
          "base_uri": "https://localhost:8080/"
        },
        "id": "JuWWPpYXcDqc",
        "outputId": "3b7f8185-6813-4036-92a5-850f77731bd4"
      },
      "execution_count": null,
      "outputs": [
        {
          "output_type": "stream",
          "name": "stdout",
          "text": [
            "Minimo =  7\n"
          ]
        }
      ]
    },
    {
      "cell_type": "markdown",
      "source": [
        "Cuartiles"
      ],
      "metadata": {
        "id": "80HIn8OfZWAX"
      }
    },
    {
      "cell_type": "code",
      "source": [
        "def cuartil(datos, q=2):\n",
        "  datos.sort()\n",
        "  n = len(datos)\n",
        "  pos = int(q*(n+1)/4)\n",
        "  alpha = q*(n+1)/4-pos\n",
        "  return (1-alpha)*datos[pos-1] + alpha*datos[pos]"
      ],
      "metadata": {
        "id": "n5WGpXplZOSH"
      },
      "execution_count": null,
      "outputs": []
    },
    {
      "cell_type": "code",
      "source": [
        "q2 = cuartil(np.array(datos))\n",
        "q2"
      ],
      "metadata": {
        "colab": {
          "base_uri": "https://localhost:8080/"
        },
        "id": "A6d8VEPqahh5",
        "outputId": "a93d9798-f4fd-448f-9ff5-71ec847d3fc5"
      },
      "execution_count": null,
      "outputs": [
        {
          "output_type": "execute_result",
          "data": {
            "text/plain": [
              "21.0"
            ]
          },
          "metadata": {},
          "execution_count": 24
        }
      ]
    },
    {
      "cell_type": "markdown",
      "source": [
        "Percentiles"
      ],
      "metadata": {
        "id": "w5av8B5la2r1"
      }
    },
    {
      "cell_type": "code",
      "source": [
        "def percentil(datos, q=50):\n",
        "  datos.sort()\n",
        "  n = len(datos)\n",
        "  pos = int(q*(n+1)/100)\n",
        "  alpha = q*(n+1)/100-pos\n",
        "  return (1-alpha)*datos[pos-1] + alpha*datos[pos]"
      ],
      "metadata": {
        "id": "CmtrCQqHcaOJ"
      },
      "execution_count": null,
      "outputs": []
    },
    {
      "cell_type": "code",
      "source": [
        "q50 = percentil(np.array(datos))\n",
        "q50"
      ],
      "metadata": {
        "colab": {
          "base_uri": "https://localhost:8080/"
        },
        "id": "CxKfhB1meRcX",
        "outputId": "05c835f0-2a8e-47a4-e2b3-eaf42a3a2350"
      },
      "execution_count": null,
      "outputs": [
        {
          "output_type": "execute_result",
          "data": {
            "text/plain": [
              "21.0"
            ]
          },
          "metadata": {},
          "execution_count": 32
        }
      ]
    },
    {
      "cell_type": "markdown",
      "source": [
        "Histograma de Frecuencias"
      ],
      "metadata": {
        "id": "cw5KkV1gcanq"
      }
    },
    {
      "cell_type": "code",
      "source": [
        "def histograma(datos, n_bins):\n",
        "  n = len(datos)\n",
        "  mx = maximo(datos)\n",
        "  mn = minimo(datos)\n",
        "  rango = mx - mn\n",
        "  a = rango/n_bins\n",
        "  limites = [(mn+i*a, mn+(i+1)*a) for i in range(n_bins)]\n",
        "  T = {'datos':[], 'index':[], 'lim_inf':[], 'lim_sup':[], 'marca':[], 'n':[], 'f':[], 'ancho':a}\n",
        "  i = 0\n",
        "  for (lim_inf, lim_sup) in limites:\n",
        "    G = [x for x in datos if x>lim_inf and x<lim_sup]\n",
        "    T[\"datos\"].append(G)\n",
        "    T['index'].append(i)\n",
        "    T['lim_inf'].append(lim_inf)\n",
        "    T['lim_sup'].append(lim_sup)\n",
        "    T[\"marca\"].append((lim_inf+lim_sup)/2)\n",
        "    T[\"n\"].append(len(G))\n",
        "    T[\"f\"].append(len(G)/n)\n",
        "    i = i+1\n",
        "  return T"
      ],
      "metadata": {
        "id": "wjqeJFfmayvo"
      },
      "execution_count": null,
      "outputs": []
    },
    {
      "cell_type": "code",
      "source": [
        "datos = [10, 25, 36, 3, 27, 45, 73, 83, 21, 54, 67, 53, 68, 73, 81]\n",
        "T = histograma(datos, 5)\n",
        "\n",
        "plt.bar(T[\"marca\"], T[\"f\"], width=0.75*T[\"ancho\"])"
      ],
      "metadata": {
        "colab": {
          "base_uri": "https://localhost:8080/",
          "height": 282
        },
        "id": "5tG45jI9bo2o",
        "outputId": "d65f9e94-7814-4f4c-e974-c64d6fe68eb3"
      },
      "execution_count": null,
      "outputs": [
        {
          "output_type": "execute_result",
          "data": {
            "text/plain": [
              "<BarContainer object of 5 artists>"
            ]
          },
          "metadata": {},
          "execution_count": 37
        },
        {
          "output_type": "display_data",
          "data": {
            "text/plain": [
              "<Figure size 432x288 with 1 Axes>"
            ],
            "image/png": "[encoded data removed]"
          },
          "metadata": {
            "needs_background": "light"
          }
        }
      ]
    },
    {
      "cell_type": "markdown",
      "source": [
        "Tabla de Frecuencias"
      ],
      "metadata": {
        "id": "fFwFh950h2s-"
      }
    },
    {
      "cell_type": "code",
      "source": [
        "#del T[\"datos\"]\n",
        "#del T[\"ancho\"]\n",
        "\n",
        "print(tabulate(T, headers=T.keys()))"
      ],
      "metadata": {
        "colab": {
          "base_uri": "https://localhost:8080/"
        },
        "id": "VbUmRXL4heXI",
        "outputId": "f29db635-8ed8-457e-a0c2-f5ae022e0a1a"
      },
      "execution_count": null,
      "outputs": [
        {
          "output_type": "stream",
          "name": "stdout",
          "text": [
            "  index    lim_inf    lim_sup    marca    n          f\n",
            "-------  ---------  ---------  -------  ---  ---------\n",
            "      0          3         19       11    1  0.0666667\n",
            "      1         19         35       27    3  0.2\n",
            "      2         35         51       43    2  0.133333\n",
            "      3         51         67       59    2  0.133333\n",
            "      4         67         83       75    4  0.266667\n"
          ]
        }
      ]
    },
    {
      "cell_type": "markdown",
      "source": [
        "Moda"
      ],
      "metadata": {
        "id": "xZ4KIkyoi2zo"
      }
    },
    {
      "cell_type": "code",
      "source": [
        "datos = [3, 3, 2, 2, 4, 4, 1, 5, 5, 3, 2, 2, 5, 1, 3, 3, 3, 2]\n",
        "conteo = collections.Counter(datos)\n",
        "moda, n_modal = conteo.most_common(1)[0]\n",
        "print('El elemento que mas se repite es', moda, 'con', n_modal, 'repeticiones')"
      ],
      "metadata": {
        "colab": {
          "base_uri": "https://localhost:8080/"
        },
        "id": "qD7kRhAfiYD8",
        "outputId": "1eed42d5-d5c0-470b-ce65-acbe519da98d"
      },
      "execution_count": null,
      "outputs": [
        {
          "output_type": "stream",
          "name": "stdout",
          "text": [
            "El elemento que mas se repite es 3 con 6 repeticiones\n"
          ]
        }
      ]
    },
    {
      "cell_type": "markdown",
      "source": [
        "Momentos Muestrales no-centrados"
      ],
      "metadata": {
        "id": "HCTOir8OjiVQ"
      }
    },
    {
      "cell_type": "code",
      "source": [
        "m1 = np.mean(datos)\n",
        "m2 = np.mean([x**2 for x in datos])\n",
        "m3 = np.mean([x**3 for x in datos])\n",
        "m4 = np.mean([x**4 for x in datos])\n",
        "print('Momentos:', round(m1, 2), round(m2, 2), round(m3, 2), round(m4, 2))"
      ],
      "metadata": {
        "colab": {
          "base_uri": "https://localhost:8080/"
        },
        "id": "CI78C81XjXhV",
        "outputId": "cd72e9f8-c3a7-46f2-ec4b-061503379aa6"
      },
      "execution_count": null,
      "outputs": [
        {
          "output_type": "stream",
          "name": "stdout",
          "text": [
            "Momentos: 2.94 10.17 39.28 164.17\n"
          ]
        }
      ]
    },
    {
      "cell_type": "markdown",
      "source": [
        "Momentos Muestrales centrados"
      ],
      "metadata": {
        "id": "ipNleD0LkcJ0"
      }
    },
    {
      "cell_type": "code",
      "source": [
        "m1 = np.mean(datos)\n",
        "mc2 = np.mean([(x-m1)**2 for x in datos])\n",
        "mc3 = np.mean([(x-m1)**3 for x in datos])\n",
        "mc4 = np.mean([(x-m1)**4 for x in datos])\n",
        "print('Momentos Centrados:', round(m1, 2), round(mc2, 2), round(mc3, 2), round(mc4, 2))"
      ],
      "metadata": {
        "colab": {
          "base_uri": "https://localhost:8080/"
        },
        "id": "-4kR96R3kbel",
        "outputId": "bd88efb9-cce4-40f5-cbb4-91d99cdd6811"
      },
      "execution_count": null,
      "outputs": [
        {
          "output_type": "stream",
          "name": "stdout",
          "text": [
            "Momentos Centrados: 2.94 1.5 0.53 4.92\n"
          ]
        }
      ]
    },
    {
      "cell_type": "markdown",
      "source": [
        "Descriptores Estadísticos en funcion de momentos"
      ],
      "metadata": {
        "id": "7oHx3EUJkvxy"
      }
    },
    {
      "cell_type": "code",
      "source": [
        "m1 = np.mean(datos)\n",
        "varianza = mc2\n",
        "sesgo = mc3 / np.sqrt(mc2)**3\n",
        "curtosis = mc4 / mc2**2 -3"
      ],
      "metadata": {
        "id": "xYmsqo5_ktPG"
      },
      "execution_count": null,
      "outputs": []
    },
    {
      "cell_type": "markdown",
      "source": [
        "Promedio Truncado"
      ],
      "metadata": {
        "id": "z-LY9W04lLHu"
      }
    },
    {
      "cell_type": "code",
      "source": [
        "def trimmed_mean(datos, alpha):\n",
        "  datos.sort()\n",
        "  n = len(datos)\n",
        "  m = int(len(datos)*alpha)\n",
        "  return np.mean(datos[m:n-m])"
      ],
      "metadata": {
        "id": "EWBd3I3llHBe"
      },
      "execution_count": null,
      "outputs": []
    },
    {
      "cell_type": "code",
      "source": [
        "trimmed_mean(datos, .05)"
      ],
      "metadata": {
        "colab": {
          "base_uri": "https://localhost:8080/"
        },
        "id": "BRkOPY2KlkIU",
        "outputId": "6d0630c9-403c-41fb-8673-7744cda4f7b4"
      },
      "execution_count": null,
      "outputs": [
        {
          "output_type": "execute_result",
          "data": {
            "text/plain": [
              "2.9444444444444446"
            ]
          },
          "metadata": {},
          "execution_count": 53
        }
      ]
    },
    {
      "cell_type": "markdown",
      "source": [
        "Median Absolute Deviation"
      ],
      "metadata": {
        "id": "OOV9h9S_mGXt"
      }
    },
    {
      "cell_type": "code",
      "source": [
        "def mad(datos):\n",
        "  med = np.median(datos)\n",
        "  des = [np.abs(x-med) for x in datos]\n",
        "  meda = np.median(des)\n",
        "  return meda"
      ],
      "metadata": {
        "id": "j5rjSbpalnGG"
      },
      "execution_count": null,
      "outputs": []
    },
    {
      "cell_type": "code",
      "source": [
        "mad(datos)"
      ],
      "metadata": {
        "colab": {
          "base_uri": "https://localhost:8080/"
        },
        "id": "7WOIRhGnmk1J",
        "outputId": "b1cbd4b7-3dcb-42a2-f051-aea74270624e"
      },
      "execution_count": null,
      "outputs": [
        {
          "output_type": "execute_result",
          "data": {
            "text/plain": [
              "1.0"
            ]
          },
          "metadata": {},
          "execution_count": 59
        }
      ]
    },
    {
      "cell_type": "markdown",
      "source": [
        "Covarianza y Correlación"
      ],
      "metadata": {
        "id": "sD5RjoNmnIml"
      }
    },
    {
      "cell_type": "code",
      "source": [
        "media = [.2, .5]\n",
        "cov = [[.09, .1], [.1, .25]]\n",
        "x, y = np.random.multivariate_normal(media, cov, 100).T"
      ],
      "metadata": {
        "id": "ENdiFxTumoSZ"
      },
      "execution_count": null,
      "outputs": []
    },
    {
      "cell_type": "code",
      "source": [
        "prom_x = np.mean(x)\n",
        "prom_y = np.mean(y)\n",
        "covar = np.mean([(x - prom_x)*(y - prom_y) for (x,y) in zip(x,y)])\n",
        "corr = covar / (np.std(x) * np.std(y))"
      ],
      "metadata": {
        "id": "7war_Zs6nsKC"
      },
      "execution_count": null,
      "outputs": []
    },
    {
      "cell_type": "code",
      "source": [
        "print('Covarianza:', covar)\n",
        "print('Correlación:', corr)"
      ],
      "metadata": {
        "colab": {
          "base_uri": "https://localhost:8080/"
        },
        "id": "5I1D118Anyh8",
        "outputId": "f104eb89-89f1-4964-9110-72c82fd65aea"
      },
      "execution_count": null,
      "outputs": [
        {
          "output_type": "stream",
          "name": "stdout",
          "text": [
            "Covarianza: 0.08768358876242757\n",
            "Correlación: 0.6427725675962493\n"
          ]
        }
      ]
    },
    {
      "cell_type": "code",
      "source": [
        "plt.plot(x, y, 'x')\n",
        "plt.show()"
      ],
      "metadata": {
        "colab": {
          "base_uri": "https://localhost:8080/",
          "height": 267
        },
        "id": "npDXf2rhodBS",
        "outputId": "a4c861a5-6eff-4d5f-b25a-e04e0b246d0c"
      },
      "execution_count": null,
      "outputs": [
        {
          "output_type": "display_data",
          "data": {
            "text/plain": [
              "<Figure size 432x288 with 1 Axes>"
            ],
            "image/png": "[encoded data removed]"
          },
          "metadata": {
            "needs_background": "light"
          }
        }
      ]
    },
    {
      "cell_type": "markdown",
      "source": [
        "Función de Distribución Empírica"
      ],
      "metadata": {
        "id": "ElHFtpbQo8MG"
      }
    },
    {
      "cell_type": "code",
      "source": [
        "def f_emp(x, datos):\n",
        "  datos.sort()\n",
        "  delta = 1/len(datos)\n",
        "  indices = list(np.where(datos > x))[0]\n",
        "  if len(indices) >= 1:\n",
        "    ind = indices[0]\n",
        "  else:\n",
        "    ind = len(datos)\n",
        "  return ind*delta"
      ],
      "metadata": {
        "id": "rV6pCERuoxT3"
      },
      "execution_count": null,
      "outputs": []
    },
    {
      "cell_type": "code",
      "source": [
        "x = np.linspace(0, 100, 1000)\n",
        "y = [f_emp(item, datos) for item in x]\n",
        "plt.plot(x,y,'-')"
      ],
      "metadata": {
        "colab": {
          "base_uri": "https://localhost:8080/",
          "height": 282
        },
        "id": "tRhJM3fgqL4H",
        "outputId": "d3c6d435-087d-4ee8-c858-9ae17be90521"
      },
      "execution_count": null,
      "outputs": [
        {
          "output_type": "execute_result",
          "data": {
            "text/plain": [
              "[<matplotlib.lines.Line2D at 0x7fcd6416a3d0>]"
            ]
          },
          "metadata": {},
          "execution_count": 73
        },
        {
          "output_type": "display_data",
          "data": {
            "text/plain": [
              "<Figure size 432x288 with 1 Axes>"
            ],
            "image/png": "[encoded data removed]"
          },
          "metadata": {
            "needs_background": "light"
          }
        }
      ]
    },
    {
      "cell_type": "code",
      "source": [
        ""
      ],
      "metadata": {
        "id": "ZTFf_bBfqYUY"
      },
      "execution_count": null,
      "outputs": []
    }
  ]
}