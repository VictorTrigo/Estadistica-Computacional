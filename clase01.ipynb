{
  "nbformat": 4,
  "nbformat_minor": 0,
  "metadata": {
    "colab": {
      "name": "clase01.ipynb",
      "provenance": [],
      "collapsed_sections": [],
      "authorship_tag": "ABX9TyNoE2wu5pEZOXF5tURiUvrt",
      "include_colab_link": true
    },
    "kernelspec": {
      "name": "python3",
      "display_name": "Python 3"
    },
    "language_info": {
      "name": "python"
    }
  },
  "cells": [
    {
      "cell_type": "markdown",
      "metadata": {
        "id": "view-in-github",
        "colab_type": "text"
      },
      "source": [
        "<a href=\"https://colab.research.google.com/github/VictorTrigo/Estadistica-Computacional/blob/master/clase01.ipynb\" target=\"_parent\"><img src=\"https://colab.research.google.com/assets/colab-badge.svg\" alt=\"Open In Colab\"/></a>"
      ]
    },
    {
      "cell_type": "markdown",
      "source": [
        "# Clase 1 : Programación en Python\n",
        "(06/04/2022)\n",
        "\n"
      ],
      "metadata": {
        "id": "ppRpD7xt48LS"
      }
    },
    {
      "cell_type": "code",
      "execution_count": null,
      "metadata": {
        "id": "BNKRPa0qK82B",
        "colab": {
          "base_uri": "https://localhost:8080/"
        },
        "outputId": "c7d86f12-9f88-43d1-db3d-97ee7149aef9"
      },
      "outputs": [
        {
          "output_type": "stream",
          "name": "stdout",
          "text": [
            "Hola, mundo!\n"
          ]
        }
      ],
      "source": [
        "print('Hola, mundo!')"
      ]
    },
    {
      "cell_type": "code",
      "source": [
        "# Operaciones\n",
        "n1 = int(input(\"Enter a number: \"))\n",
        "n2 = int(input(\"Enter a number: \"))\n",
        "print(\"Addition = \", n1 + n2)\n",
        "print(\"Substraction = \", n1 - n2)\n",
        "print(\"Product = \", n1 * n2)\n",
        "print(\"Division = \", n1 / n2)\n",
        "print(\"Power = \", n1 ** n2)\n",
        "print(\"Integer Division = \", n1 // n2)\n",
        "print(\"Module = \", n1 % n2)"
      ],
      "metadata": {
        "colab": {
          "base_uri": "https://localhost:8080/"
        },
        "id": "eEj-OS274hsG",
        "outputId": "24fb53c0-aedc-4ab6-f8fd-471452c2363c"
      },
      "execution_count": 1,
      "outputs": [
        {
          "output_type": "stream",
          "name": "stdout",
          "text": [
            "Enter a number: 10\n",
            "Enter a number: 2\n",
            "Addition =  12\n",
            "Substraction =  8\n",
            "Product =  20\n",
            "Division =  5.0\n",
            "Power =  100\n",
            "Integer Division =  5\n",
            "Module =  0\n"
          ]
        }
      ]
    },
    {
      "cell_type": "code",
      "source": [
        "# Operaciones Logicas\n",
        "p = bool(int(input(\"Ingrese 0 (Falso) o 1 (Verdadero) :\")))\n",
        "q = bool(int(input(\"Ingrese 0 (Falso) o 1 (Verdadero) :\")))\n",
        "print(\"p =\",p, \" not p = \", not p)\n",
        "print(\"q =\",q, \" not q = \", not q)\n",
        "print(p,\" and \", q, \" es \", p and q)\n",
        "print(p,\" or \", q, \" es \", p or q)\n",
        "print(p,\" xor \", q, \" es \", p ^ q)"
      ],
      "metadata": {
        "colab": {
          "base_uri": "https://localhost:8080/"
        },
        "id": "NCsXhPw54kwb",
        "outputId": "82b9db74-528d-4414-8cd0-f7bc8935bb2a"
      },
      "execution_count": 2,
      "outputs": [
        {
          "output_type": "stream",
          "name": "stdout",
          "text": [
            "Ingrese 0 (Falso) o 1 (Verdadero) :0\n",
            "Ingrese 0 (Falso) o 1 (Verdadero) :1\n",
            "p = False  not p =  True\n",
            "q = True  not q =  False\n",
            "False  and  True  es  False\n",
            "False  or  True  es  True\n",
            "False  xor  True  es  True\n"
          ]
        }
      ]
    },
    {
      "cell_type": "markdown",
      "source": [
        "## Estructuras de datos"
      ],
      "metadata": {
        "id": "NJrEJO655abq"
      }
    },
    {
      "cell_type": "code",
      "source": [
        "lista = [7, 3, 2, 1, 4]\n",
        "lista"
      ],
      "metadata": {
        "colab": {
          "base_uri": "https://localhost:8080/"
        },
        "id": "fiKlzST24wO1",
        "outputId": "4d29daca-c81b-4283-c8df-5ecfa41dc162"
      },
      "execution_count": 3,
      "outputs": [
        {
          "output_type": "execute_result",
          "data": {
            "text/plain": [
              "[7, 3, 2, 1, 4]"
            ]
          },
          "metadata": {},
          "execution_count": 3
        }
      ]
    },
    {
      "cell_type": "code",
      "source": [
        "type(lista)"
      ],
      "metadata": {
        "colab": {
          "base_uri": "https://localhost:8080/"
        },
        "id": "foQdpgE-5kKH",
        "outputId": "30b4e55c-a7f2-4f45-f18a-9b9dde879f8b"
      },
      "execution_count": 4,
      "outputs": [
        {
          "output_type": "execute_result",
          "data": {
            "text/plain": [
              "list"
            ]
          },
          "metadata": {},
          "execution_count": 4
        }
      ]
    },
    {
      "cell_type": "code",
      "source": [
        "len(lista)"
      ],
      "metadata": {
        "colab": {
          "base_uri": "https://localhost:8080/"
        },
        "id": "jTGMJKvx5k7e",
        "outputId": "a7b4660c-a90b-49f2-c9e8-9ebc317ed4bc"
      },
      "execution_count": 5,
      "outputs": [
        {
          "output_type": "execute_result",
          "data": {
            "text/plain": [
              "5"
            ]
          },
          "metadata": {},
          "execution_count": 5
        }
      ]
    },
    {
      "cell_type": "code",
      "source": [
        "lista[0]"
      ],
      "metadata": {
        "colab": {
          "base_uri": "https://localhost:8080/"
        },
        "id": "U_j6Xsri5mwO",
        "outputId": "9ef61886-b78c-4dff-bb0d-bd91541c99fa"
      },
      "execution_count": 6,
      "outputs": [
        {
          "output_type": "execute_result",
          "data": {
            "text/plain": [
              "7"
            ]
          },
          "metadata": {},
          "execution_count": 6
        }
      ]
    },
    {
      "cell_type": "code",
      "source": [
        "lista[-1]"
      ],
      "metadata": {
        "colab": {
          "base_uri": "https://localhost:8080/"
        },
        "id": "9YXL2T5C5pSm",
        "outputId": "c12cef7d-9563-4caa-e45d-d1439e20819c"
      },
      "execution_count": 7,
      "outputs": [
        {
          "output_type": "execute_result",
          "data": {
            "text/plain": [
              "4"
            ]
          },
          "metadata": {},
          "execution_count": 7
        }
      ]
    },
    {
      "cell_type": "code",
      "source": [
        "lista[2:5]"
      ],
      "metadata": {
        "colab": {
          "base_uri": "https://localhost:8080/"
        },
        "id": "5H3EsSqb5qD2",
        "outputId": "abfef35e-5d5e-4652-c417-882caa8fa260"
      },
      "execution_count": 8,
      "outputs": [
        {
          "output_type": "execute_result",
          "data": {
            "text/plain": [
              "[2, 1, 4]"
            ]
          },
          "metadata": {},
          "execution_count": 8
        }
      ]
    },
    {
      "cell_type": "code",
      "source": [
        "dictionario = {'llave_1': 5, 'llave_2': 7}\n",
        "dictionario"
      ],
      "metadata": {
        "colab": {
          "base_uri": "https://localhost:8080/"
        },
        "id": "FXRGXnZS5sAH",
        "outputId": "988eeb68-5944-4547-ade6-fad4211ad1ea"
      },
      "execution_count": 11,
      "outputs": [
        {
          "output_type": "execute_result",
          "data": {
            "text/plain": [
              "{'llave_1': 5, 'llave_2': 7}"
            ]
          },
          "metadata": {},
          "execution_count": 11
        }
      ]
    },
    {
      "cell_type": "code",
      "source": [
        "string = 'Curso de Python'\n",
        "string"
      ],
      "metadata": {
        "colab": {
          "base_uri": "https://localhost:8080/",
          "height": 35
        },
        "id": "q1jwgBep5-0x",
        "outputId": "6b315e20-a314-4883-b1a6-a9c385e33f74"
      },
      "execution_count": 12,
      "outputs": [
        {
          "output_type": "execute_result",
          "data": {
            "text/plain": [
              "'Curso de Python'"
            ],
            "application/vnd.google.colaboratory.intrinsic+json": {
              "type": "string"
            }
          },
          "metadata": {},
          "execution_count": 12
        }
      ]
    },
    {
      "cell_type": "code",
      "source": [
        "tupla = (5,7,10)\n",
        "tupla"
      ],
      "metadata": {
        "colab": {
          "base_uri": "https://localhost:8080/"
        },
        "id": "7EFpciHO6DGA",
        "outputId": "19e7ff63-719a-4a2c-99c3-3c37db228d75"
      },
      "execution_count": 13,
      "outputs": [
        {
          "output_type": "execute_result",
          "data": {
            "text/plain": [
              "(5, 7, 10)"
            ]
          },
          "metadata": {},
          "execution_count": 13
        }
      ]
    },
    {
      "cell_type": "code",
      "source": [
        "conjunto = {5,7,10}\n",
        "conjunto"
      ],
      "metadata": {
        "colab": {
          "base_uri": "https://localhost:8080/"
        },
        "id": "aUESwdoN6IkA",
        "outputId": "244a5b27-cb2a-4c83-f3dd-2fd339218148"
      },
      "execution_count": 14,
      "outputs": [
        {
          "output_type": "execute_result",
          "data": {
            "text/plain": [
              "{5, 7, 10}"
            ]
          },
          "metadata": {},
          "execution_count": 14
        }
      ]
    },
    {
      "cell_type": "markdown",
      "source": [
        "## Flujos de control"
      ],
      "metadata": {
        "id": "7G1cfOpq6PBI"
      }
    },
    {
      "cell_type": "markdown",
      "source": [
        "Ejemplo 1: Ejemplo de la sentencia if: Revisar si un número es par o impar"
      ],
      "metadata": {
        "id": "qIxhMGRh66T3"
      }
    },
    {
      "cell_type": "code",
      "source": [
        "n = int(input('Ingrese un número entero: '))\n",
        "if n%2 == 0:\n",
        "    print('El número es par')\n",
        "else:\n",
        "    print('El número es impar')"
      ],
      "metadata": {
        "colab": {
          "base_uri": "https://localhost:8080/"
        },
        "id": "VOUq3tvU6K6F",
        "outputId": "73f33e6c-608c-4407-ee4d-37ce8406e842"
      },
      "execution_count": 17,
      "outputs": [
        {
          "output_type": "stream",
          "name": "stdout",
          "text": [
            "Ingrese un número entero: 20\n",
            "El número es par\n"
          ]
        }
      ]
    },
    {
      "cell_type": "markdown",
      "source": [
        "Ejemplo 2: Dada la nota final del estudiante indicar si el estudiante aprobó la asignatura con nota superior o igual a 4.0 o reprobó la asignatura con nota inferior a 4.0"
      ],
      "metadata": {
        "id": "cx759KwE7BqO"
      }
    },
    {
      "cell_type": "code",
      "source": [
        "nota_final = float(input(\"Ingrese Nota Final:\"))\n",
        "if nota_final >= 4.0:\n",
        "    print(\"Es estudiante aprobó la asignatura\")\n",
        "else:\n",
        "    print(\"Es estudiante reaprobó la asignatura\")"
      ],
      "metadata": {
        "colab": {
          "base_uri": "https://localhost:8080/"
        },
        "id": "dvJwYYzg6jZy",
        "outputId": "92ea4650-0bb5-4bf3-ed23-cac1af9c4fb4"
      },
      "execution_count": 18,
      "outputs": [
        {
          "output_type": "stream",
          "name": "stdout",
          "text": [
            "Ingrese Nota Final:7\n",
            "Es estudiante aprobó la asignatura\n"
          ]
        }
      ]
    },
    {
      "cell_type": "markdown",
      "source": [
        "Ejemplo de la sentencia while: Sumar los números hasta que exceda 100"
      ],
      "metadata": {
        "id": "WiXdCrDG7bb4"
      }
    },
    {
      "cell_type": "code",
      "source": [
        "S = 0\n",
        "while(S<=100):\n",
        "    n = int(input('Enter a number: '))\n",
        "    S = S + n\n",
        "    print(\"The current result is:\", S)\n",
        "else:\n",
        "    print(\"The sum is higher than 100.\")"
      ],
      "metadata": {
        "colab": {
          "base_uri": "https://localhost:8080/"
        },
        "id": "sK-UNoKG7R-8",
        "outputId": "cb9cb6ee-8066-4b99-9a9d-17c10ba721e7"
      },
      "execution_count": 20,
      "outputs": [
        {
          "output_type": "stream",
          "name": "stdout",
          "text": [
            "Enter a number: 4\n",
            "The current result is: 4\n",
            "Enter a number: 5\n",
            "The current result is: 9\n",
            "Enter a number: 6\n",
            "The current result is: 15\n",
            "Enter a number: 13\n",
            "The current result is: 28\n",
            "Enter a number: 32\n",
            "The current result is: 60\n",
            "Enter a number: 100\n",
            "The current result is: 160\n",
            "The sum is higher than 100.\n"
          ]
        }
      ]
    },
    {
      "cell_type": "markdown",
      "source": [
        "Ejemplo de la sentencia for: Obtener los primeros N números de la secuencia de Fibonacci.\n",
        "\n",
        "Secuencia: 1, 1, 2, 3, 5, 8, 13, 21, 34, 55...\n",
        "\n",
        "$x1 = 1$\n",
        "\n",
        "$x2 = 1$\n",
        "\n",
        "$x(n) = x(n-1)+x(n-2)$"
      ],
      "metadata": {
        "id": "r-T6vY9j7vC2"
      }
    },
    {
      "cell_type": "code",
      "source": [
        "N = int(input('Enter a number: '))\n",
        "a1 = 1\n",
        "a2 = 1\n",
        "if N<1:\n",
        "    print(\"Please enter a positive integer\")\n",
        "if N>=1:\n",
        "    print(a1)\n",
        "if N>=2:\n",
        "    print(a2)\n",
        "for j in range(3,N+1):\n",
        "    f = a1 + a2\n",
        "    print(f)\n",
        "    #a1, a2 = a2, f\n",
        "    a1 = a2\n",
        "    a2 = f"
      ],
      "metadata": {
        "colab": {
          "base_uri": "https://localhost:8080/"
        },
        "id": "fvIoK8eS7h6m",
        "outputId": "b4e77744-0380-44df-a7ae-cd9b43e0fb3d"
      },
      "execution_count": 21,
      "outputs": [
        {
          "output_type": "stream",
          "name": "stdout",
          "text": [
            "Enter a number: 7\n",
            "1\n",
            "1\n",
            "2\n",
            "3\n",
            "5\n",
            "8\n",
            "13\n"
          ]
        }
      ]
    },
    {
      "cell_type": "markdown",
      "source": [
        "Ejercicio: Realizar un programa que calcule la suma de los primeros n números enteros al cuadrado"
      ],
      "metadata": {
        "id": "QkY8kcyZ8K3C"
      }
    },
    {
      "cell_type": "code",
      "source": [
        "nombres = ['Juan', 'Pedro', 'Ana', 'Carolina', 'Antonio']\n",
        "\n",
        "for nom in nombres:\n",
        "    print(nom)"
      ],
      "metadata": {
        "colab": {
          "base_uri": "https://localhost:8080/"
        },
        "id": "ukn5K7iv75tZ",
        "outputId": "6ccae112-137f-40fd-8083-e930c2647bd0"
      },
      "execution_count": 22,
      "outputs": [
        {
          "output_type": "stream",
          "name": "stdout",
          "text": [
            "Juan\n",
            "Pedro\n",
            "Ana\n",
            "Carolina\n",
            "Antonio\n"
          ]
        }
      ]
    },
    {
      "cell_type": "markdown",
      "source": [
        "## Funciones"
      ],
      "metadata": {
        "id": "ceWvqi5U8ONX"
      }
    },
    {
      "cell_type": "markdown",
      "metadata": {
        "id": "259e772a"
      },
      "source": [
        "Ejemplo de convertir la temperatura Fahrenheit a Celsius"
      ]
    },
    {
      "cell_type": "code",
      "execution_count": 23,
      "metadata": {
        "id": "78123111"
      },
      "outputs": [],
      "source": [
        "def fahrenheit_to_celsius(temperature):\n",
        "    return (temperature-32) * 5/9"
      ]
    },
    {
      "cell_type": "code",
      "execution_count": 24,
      "metadata": {
        "colab": {
          "base_uri": "https://localhost:8080/"
        },
        "id": "81dc2d41",
        "outputId": "f799b93f-2710-4052-910b-e4f78c105713"
      },
      "outputs": [
        {
          "output_type": "stream",
          "name": "stdout",
          "text": [
            "Enter the temperature in Fahrenheit degree:50\n",
            "The temperature in Celsius degree is: 10.0\n"
          ]
        }
      ],
      "source": [
        "temp = float(input('Enter the temperature in Fahrenheit degree:'))\n",
        "celsius = fahrenheit_to_celsius(temp)\n",
        "print(\"The temperature in Celsius degree is:\", celsius)"
      ]
    },
    {
      "cell_type": "code",
      "execution_count": 25,
      "metadata": {
        "id": "sFen9FQu44LC"
      },
      "outputs": [],
      "source": [
        "def celsius_to_fahrenheit(temp):\n",
        "  T = (9/5) * temp + 32\n",
        "  return T "
      ]
    },
    {
      "cell_type": "code",
      "execution_count": 26,
      "metadata": {
        "colab": {
          "base_uri": "https://localhost:8080/"
        },
        "id": "uinTjKj85LEj",
        "outputId": "18b3fe8a-ebe5-49ca-b4e9-851e4a465bcb"
      },
      "outputs": [
        {
          "output_type": "execute_result",
          "data": {
            "text/plain": [
              "199.94"
            ]
          },
          "metadata": {},
          "execution_count": 26
        }
      ],
      "source": [
        "celsius_to_fahrenheit(93.3)"
      ]
    },
    {
      "cell_type": "code",
      "execution_count": 27,
      "metadata": {
        "colab": {
          "base_uri": "https://localhost:8080/"
        },
        "id": "TM9lAje45VqE",
        "outputId": "e9f151a6-99bf-4243-f019-c69324f82090"
      },
      "outputs": [
        {
          "output_type": "execute_result",
          "data": {
            "text/plain": [
              "122.0"
            ]
          },
          "metadata": {},
          "execution_count": 27
        }
      ],
      "source": [
        "celsius_to_fahrenheit(50)"
      ]
    },
    {
      "cell_type": "markdown",
      "source": [
        "## Algoritmo"
      ],
      "metadata": {
        "id": "4x50olqj8_TY"
      }
    },
    {
      "cell_type": "markdown",
      "source": [
        "Números de Bernoulli - Algorimo Akiyama–Tanigawa"
      ],
      "metadata": {
        "id": "m0zWz3qs9EbP"
      }
    },
    {
      "cell_type": "code",
      "source": [
        "from fractions import Fraction as Fr\n",
        " \n",
        "def bernoulli(n):\n",
        "    A = [0] * (n+1)\n",
        "    for m in range(n+1):\n",
        "        A[m] = Fr(1, m+1)\n",
        "        for j in range(m, 0, -1):\n",
        "          A[j-1] = j*(A[j-1] - A[j])\n",
        "    return A[0] # (which is Bn)\n",
        " \n",
        "bn = [(i, bernoulli(i)) for i in range(61)]\n",
        "bn = [(i, b) for i,b in bn if b]\n",
        "width = max(len(str(b.numerator)) for i,b in bn)\n",
        "for i,b in bn:\n",
        "    print('B(%2i) = %*i/%i' % (i, width, b.numerator, b.denominator))"
      ],
      "metadata": {
        "colab": {
          "base_uri": "https://localhost:8080/"
        },
        "id": "5wHjCOJN87uz",
        "outputId": "03c91a94-1d67-485e-ef6b-d5b50e21956e"
      },
      "execution_count": 28,
      "outputs": [
        {
          "output_type": "stream",
          "name": "stdout",
          "text": [
            "B( 0) =                                            1/1\n",
            "B( 1) =                                            1/2\n",
            "B( 2) =                                            1/6\n",
            "B( 4) =                                           -1/30\n",
            "B( 6) =                                            1/42\n",
            "B( 8) =                                           -1/30\n",
            "B(10) =                                            5/66\n",
            "B(12) =                                         -691/2730\n",
            "B(14) =                                            7/6\n",
            "B(16) =                                        -3617/510\n",
            "B(18) =                                        43867/798\n",
            "B(20) =                                      -174611/330\n",
            "B(22) =                                       854513/138\n",
            "B(24) =                                   -236364091/2730\n",
            "B(26) =                                      8553103/6\n",
            "B(28) =                                 -23749461029/870\n",
            "B(30) =                                8615841276005/14322\n",
            "B(32) =                               -7709321041217/510\n",
            "B(34) =                                2577687858367/6\n",
            "B(36) =                        -26315271553053477373/1919190\n",
            "B(38) =                             2929993913841559/6\n",
            "B(40) =                       -261082718496449122051/13530\n",
            "B(42) =                       1520097643918070802691/1806\n",
            "B(44) =                     -27833269579301024235023/690\n",
            "B(46) =                     596451111593912163277961/282\n",
            "B(48) =                -5609403368997817686249127547/46410\n",
            "B(50) =                  495057205241079648212477525/66\n",
            "B(52) =              -801165718135489957347924991853/1590\n",
            "B(54) =             29149963634884862421418123812691/798\n",
            "B(56) =          -2479392929313226753685415739663229/870\n",
            "B(58) =          84483613348880041862046775994036021/354\n",
            "B(60) = -1215233140483755572040304994079820246041491/56786730\n"
          ]
        }
      ]
    },
    {
      "cell_type": "markdown",
      "source": [
        "Ejemplo: Adivina un número. Crear un juego donde el usuario debe adivinar un número entre 1 y 100. Si el número ingresado por el usuario es menor que el de la máquina, entonces deberá indicar que debe subir el número. Por otro lado si el número del usuario es mayor que el de la máquina, entonces se debe indicar que debe bajar."
      ],
      "metadata": {
        "id": "AwHPnXEA9MZ2"
      }
    },
    {
      "cell_type": "code",
      "source": [
        "from numpy.random import randint \n",
        "numero_maquina = randint(100)+1\n",
        "intentos = 1\n",
        "while intentos<20:\n",
        "    n = int(input(\"Ingrese un número:\"))\n",
        "    if n == numero_maquina:\n",
        "        print(\"Ud. ha adivinado el número!!!\")\n",
        "        print(\"Números de intentos = \",intentos)\n",
        "        break\n",
        "    if n>numero_maquina:\n",
        "        print(\"El número debe ser más pequeño\")\n",
        "    else:\n",
        "        print(\"El número debe ser más grande\")\n",
        "    intentos +=1\n",
        "else:\n",
        "    print(\"Ud. ha excedido el número máximo de intentos\")"
      ],
      "metadata": {
        "colab": {
          "base_uri": "https://localhost:8080/"
        },
        "id": "Ux_jA1pL9HCz",
        "outputId": "1c13ea3b-8150-4ca4-a1a6-a89c4ea1822d"
      },
      "execution_count": 29,
      "outputs": [
        {
          "output_type": "stream",
          "name": "stdout",
          "text": [
            "Ingrese un número:4\n",
            "El número debe ser más grande\n",
            "Ingrese un número:5\n",
            "El número debe ser más grande\n",
            "Ingrese un número:50\n",
            "El número debe ser más grande\n",
            "Ingrese un número:75\n",
            "El número debe ser más grande\n",
            "Ingrese un número:82\n",
            "El número debe ser más pequeño\n",
            "Ingrese un número:80\n",
            "El número debe ser más pequeño\n",
            "Ingrese un número:78\n",
            "Ud. ha adivinado el número!!!\n",
            "Números de intentos =  7\n"
          ]
        }
      ]
    },
    {
      "cell_type": "markdown",
      "source": [
        "Ejercicio: Crear el juego del 21 donde dos jugadores piden cartas del mazo con valores entre 1 y 13. Si al pedir cartas, la suma de las cartas solicitadas supera 21, entonces el jugador pierde automáticamente. Si el jugador obtiene 21 automáticamente gana. El jugador que se acerca lo más posible a 21 sin pasarse gana."
      ],
      "metadata": {
        "id": "3ZTjztMK9YGT"
      }
    },
    {
      "cell_type": "code",
      "source": [
        "carta = randint(13)+1\n",
        "print(\"Su carta es: \", carta)\n",
        "Suma_carta = carta\n",
        "print(\"La suma es: \", Suma_carta)\n",
        "c = input(\"Quiere otra carta (S/N)\")\n",
        "while c=='S':\n",
        "  carta = randint(13)+1\n",
        "  print(\"Su carta es: \", carta)\n",
        "  Suma_carta += carta\n",
        "  print(\"La suma es: \", Suma_carta)\n",
        "  if Suma_carta>21:\n",
        "    print(\"Perdió\")\n",
        "    break\n",
        "  if Suma_carta==21:\n",
        "    print(\"Ganó\")\n",
        "    break\n",
        "  c = input(\"Quiere otra carta (S/N)\")\n",
        "print(\"Fin\")"
      ],
      "metadata": {
        "colab": {
          "base_uri": "https://localhost:8080/"
        },
        "id": "YONEUc9s9PJa",
        "outputId": "dd49e473-1dd6-45fe-cd86-b67dbcc748c2"
      },
      "execution_count": 30,
      "outputs": [
        {
          "output_type": "stream",
          "name": "stdout",
          "text": [
            "Su carta es:  13\n",
            "La suma es:  13\n",
            "Quiere otra carta (S/N)S\n",
            "Su carta es:  1\n",
            "La suma es:  14\n",
            "Quiere otra carta (S/N)S\n",
            "Su carta es:  1\n",
            "La suma es:  15\n",
            "Quiere otra carta (S/N)S\n",
            "Su carta es:  6\n",
            "La suma es:  21\n",
            "Ganó\n",
            "Fin\n"
          ]
        }
      ]
    },
    {
      "cell_type": "code",
      "source": [
        ""
      ],
      "metadata": {
        "id": "k-4kN_XX9biM"
      },
      "execution_count": null,
      "outputs": []
    }
  ]
}