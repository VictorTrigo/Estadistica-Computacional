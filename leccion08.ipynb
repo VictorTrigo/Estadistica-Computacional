{
  "nbformat": 4,
  "nbformat_minor": 0,
  "metadata": {
    "colab": {
      "name": "leccion08.ipynb",
      "provenance": [],
      "collapsed_sections": [],
      "authorship_tag": "ABX9TyPJ1LJZMqWu9eYT6K5lTxqy",
      "include_colab_link": true
    },
    "kernelspec": {
      "name": "python3",
      "display_name": "Python 3"
    },
    "language_info": {
      "name": "python"
    }
  },
  "cells": [
    {
      "cell_type": "markdown",
      "metadata": {
        "id": "view-in-github",
        "colab_type": "text"
      },
      "source": [
        "<a href=\"https://colab.research.google.com/github/VictorTrigo/Estadistica-Computacional/blob/master/leccion08.ipynb\" target=\"_parent\"><img src=\"https://colab.research.google.com/assets/colab-badge.svg\" alt=\"Open In Colab\"/></a>"
      ]
    },
    {
      "cell_type": "code",
      "source": [
        "import numpy as np\n",
        "import matplotlib.pyplot as plt"
      ],
      "metadata": {
        "id": "Cv4sgGZtfNlN"
      },
      "execution_count": null,
      "outputs": []
    },
    {
      "cell_type": "markdown",
      "source": [
        "### Análisis de Error\n",
        "\n",
        "¿Cuántos dígitos significativos tiene el número $\\hat{x}=1.41421348163$ como solución de $\\sqrt{2}$?"
      ],
      "metadata": {
        "id": "BU9koKwBKWtr"
      }
    },
    {
      "cell_type": "code",
      "source": [
        "x_real = np.sqrt(2)\n",
        "x_real"
      ],
      "metadata": {
        "colab": {
          "base_uri": "https://localhost:8080/"
        },
        "id": "dkwDxgsBfMid",
        "outputId": "6e0929f5-f1d3-44bf-b9c1-8da824203534"
      },
      "execution_count": null,
      "outputs": [
        {
          "output_type": "execute_result",
          "data": {
            "text/plain": [
              "1.4142135623730951"
            ]
          },
          "metadata": {},
          "execution_count": 3
        }
      ]
    },
    {
      "cell_type": "code",
      "source": [
        "x_aprox = 1.41421348163\n",
        "x_aprox"
      ],
      "metadata": {
        "colab": {
          "base_uri": "https://localhost:8080/"
        },
        "id": "IjVMZA3PfZcB",
        "outputId": "946a1486-ec47-4abe-a116-f1c107b8a93d"
      },
      "execution_count": null,
      "outputs": [
        {
          "output_type": "execute_result",
          "data": {
            "text/plain": [
              "1.41421348163"
            ]
          },
          "metadata": {},
          "execution_count": 4
        }
      ]
    },
    {
      "cell_type": "code",
      "source": [
        "e_a = np.abs(x_real- x_aprox)\n",
        "e_a"
      ],
      "metadata": {
        "colab": {
          "base_uri": "https://localhost:8080/"
        },
        "id": "t_tq3gMXfe6U",
        "outputId": "30ad54a6-15c5-47cb-a83f-a36b53149685"
      },
      "execution_count": null,
      "outputs": [
        {
          "output_type": "execute_result",
          "data": {
            "text/plain": [
              "8.074309509886746e-08"
            ]
          },
          "metadata": {},
          "execution_count": 5
        }
      ]
    },
    {
      "cell_type": "code",
      "source": [
        "e_r = np.abs(x_real- x_aprox)/np.abs(x_real)\n",
        "e_r"
      ],
      "metadata": {
        "colab": {
          "base_uri": "https://localhost:8080/"
        },
        "id": "4jWAhAPafpjN",
        "outputId": "482b1c6d-0c19-4f01-9d7f-7a3d209eb2b4"
      },
      "execution_count": null,
      "outputs": [
        {
          "output_type": "execute_result",
          "data": {
            "text/plain": [
              "5.709399007839946e-08"
            ]
          },
          "metadata": {},
          "execution_count": 6
        }
      ]
    },
    {
      "cell_type": "code",
      "source": [
        "0.000000057"
      ],
      "metadata": {
        "colab": {
          "base_uri": "https://localhost:8080/"
        },
        "id": "1SJglQXLfxFR",
        "outputId": "c646d9ff-cfff-4497-a7ac-237cd5192d62"
      },
      "execution_count": null,
      "outputs": [
        {
          "output_type": "execute_result",
          "data": {
            "text/plain": [
              "5.7e-08"
            ]
          },
          "metadata": {},
          "execution_count": 7
        }
      ]
    },
    {
      "cell_type": "code",
      "source": [
        "e_r < 10**-6/2"
      ],
      "metadata": {
        "colab": {
          "base_uri": "https://localhost:8080/"
        },
        "id": "w52XNkebf6RE",
        "outputId": "beed953f-9e4f-45f0-a3d7-d4f7c1fe1b70"
      },
      "execution_count": null,
      "outputs": [
        {
          "output_type": "execute_result",
          "data": {
            "text/plain": [
              "True"
            ]
          },
          "metadata": {},
          "execution_count": 8
        }
      ]
    },
    {
      "cell_type": "code",
      "source": [
        "def f(x):\n",
        "  return x**2 - 2"
      ],
      "metadata": {
        "id": "axHDb_8BgXsG"
      },
      "execution_count": null,
      "outputs": []
    },
    {
      "cell_type": "code",
      "source": [
        "t = 8\n",
        "epsilon = 10**(1-t)/2\n",
        "f(x_aprox-epsilon)*f(x_aprox+epsilon)\n",
        "# en 8 da positivo . plt tiene 7 digitos significativos"
      ],
      "metadata": {
        "colab": {
          "base_uri": "https://localhost:8080/"
        },
        "id": "8cuM0hPegHD5",
        "outputId": "4d593e04-f579-4b4f-9611-c3fffa8ca719"
      },
      "execution_count": null,
      "outputs": [
        {
          "output_type": "execute_result",
          "data": {
            "text/plain": [
              "3.2155577352605514e-14"
            ]
          },
          "metadata": {},
          "execution_count": 10
        }
      ]
    },
    {
      "cell_type": "code",
      "source": [
        "# observar los 7 numeros significativos\n",
        "print(x_real)\n",
        "print(x_aprox)"
      ],
      "metadata": {
        "colab": {
          "base_uri": "https://localhost:8080/"
        },
        "id": "NTN6Mqaqgpij",
        "outputId": "afe5ca58-ab36-40e3-bb31-db3a5916f053"
      },
      "execution_count": null,
      "outputs": [
        {
          "output_type": "stream",
          "name": "stdout",
          "text": [
            "1.4142135623730951\n",
            "1.41421348163\n"
          ]
        }
      ]
    },
    {
      "cell_type": "code",
      "source": [
        "# Ejemplo del principio de Archimedes"
      ],
      "metadata": {
        "id": "_y14_9JKhChz"
      },
      "execution_count": null,
      "outputs": []
    },
    {
      "cell_type": "code",
      "source": [
        "def f_arquimedes(d):\n",
        "  return 2552 - 30*d**2 + d**3"
      ],
      "metadata": {
        "id": "M9KbJoRdhvX6"
      },
      "execution_count": null,
      "outputs": []
    },
    {
      "cell_type": "code",
      "source": [
        "d = np.linspace(0,20, 1000)\n",
        "y = f_arquimedes(d)\n",
        "plt.plot(d,y)\n",
        "plt.xlabel('d')\n",
        "plt.text(8, 1600, '$ 2552 - 30d^2 + d^3 $')\n",
        "plt.grid()\n",
        "plt.plot(11.75, 0, 'o')\n"
      ],
      "metadata": {
        "colab": {
          "base_uri": "https://localhost:8080/",
          "height": 296
        },
        "id": "M1AJSY29iALA",
        "outputId": "7d3c464c-972b-49d3-9e80-d124fd3ff79c"
      },
      "execution_count": null,
      "outputs": [
        {
          "output_type": "execute_result",
          "data": {
            "text/plain": [
              "[<matplotlib.lines.Line2D at 0x7f8534b0e990>]"
            ]
          },
          "metadata": {},
          "execution_count": 14
        },
        {
          "output_type": "display_data",
          "data": {
            "text/plain": [
              "<Figure size 432x288 with 1 Axes>"
            ],
            "image/png": "[encoded data removed]"
          },
          "metadata": {
            "needs_background": "light"
          }
        }
      ]
    },
    {
      "cell_type": "code",
      "source": [
        "# Encontrar punto donde se hace cero"
      ],
      "metadata": {
        "id": "VtoSfV66iY4X"
      },
      "execution_count": null,
      "outputs": []
    },
    {
      "cell_type": "code",
      "source": [
        "# Método de la Bisección "
      ],
      "metadata": {
        "id": "DhmKTYOFjoQ7"
      },
      "execution_count": null,
      "outputs": []
    },
    {
      "cell_type": "code",
      "source": [
        "def method_bisec(f,a,b,tol=10**(-4)):\n",
        "    fa=f(a);\n",
        "    fb=f(b);\n",
        "    if fa==0:\n",
        "        return a\n",
        "    elif fb==0:\n",
        "        return b\n",
        "    elif fa*fb>0:\n",
        "        print('no podemos asegurar que exista una raiz')\n",
        "        return np.nan\n",
        "    m=(a+b)/2;\n",
        "    fm=f(m);\n",
        "    i=0;\n",
        "    while(np.abs(fm)>tol):\n",
        "      if fm==0:\n",
        "          return m;\n",
        "      elif fa*fm<0:\n",
        "          b=m;\n",
        "          fb=fm;\n",
        "      else: a=m;fa=fm;\n",
        "            \n",
        "      m=(a+b)/2;\n",
        "      fm=f(m);\n",
        "      i+=1;\n",
        "    print('numero de iteraciones', i)\n",
        "    return m "
      ],
      "metadata": {
        "id": "En_wss9yjyZU"
      },
      "execution_count": null,
      "outputs": []
    },
    {
      "cell_type": "code",
      "source": [
        "method_bisec(f_arquimedes,11,12)"
      ],
      "metadata": {
        "colab": {
          "base_uri": "https://localhost:8080/"
        },
        "id": "IDniWjUmls9d",
        "outputId": "648fbcc4-805a-455e-b9e8-e4247bdc554c"
      },
      "execution_count": null,
      "outputs": [
        {
          "output_type": "stream",
          "name": "stdout",
          "text": [
            "numero de iteraciones 18\n"
          ]
        },
        {
          "output_type": "execute_result",
          "data": {
            "text/plain": [
              "11.861501693725586"
            ]
          },
          "metadata": {},
          "execution_count": 18
        }
      ]
    },
    {
      "cell_type": "code",
      "source": [
        "x_solucion = method_bisec(f_arquimedes,11,12, tol=10**-8)\n",
        "x_solucion"
      ],
      "metadata": {
        "colab": {
          "base_uri": "https://localhost:8080/"
        },
        "id": "d0yV6OQWl3pE",
        "outputId": "31d50f04-1614-452a-f5c6-603876082e0d"
      },
      "execution_count": null,
      "outputs": [
        {
          "output_type": "stream",
          "name": "stdout",
          "text": [
            "numero de iteraciones 33\n"
          ]
        },
        {
          "output_type": "execute_result",
          "data": {
            "text/plain": [
              "11.861501508101355"
            ]
          },
          "metadata": {},
          "execution_count": 19
        }
      ]
    },
    {
      "cell_type": "code",
      "source": [
        "t = 12\n",
        "epsilon = 10**(2-t)/2   # 2 en el (2-t) por que el 11 tiene 2 digitos en arriba\n",
        "# Test de signos\n",
        "f_arquimedes(x_solucion-epsilon)*f_arquimedes(x_solucion+epsilon)\n",
        "# digitos significativos = 12"
      ],
      "metadata": {
        "colab": {
          "base_uri": "https://localhost:8080/"
        },
        "id": "CHW6ASJ9lMjk",
        "outputId": "465a3509-530b-4842-dfad-62e7445515e2"
      },
      "execution_count": null,
      "outputs": [
        {
          "output_type": "execute_result",
          "data": {
            "text/plain": [
              "-1.792074508811147e-16"
            ]
          },
          "metadata": {},
          "execution_count": 20
        }
      ]
    },
    {
      "cell_type": "code",
      "source": [
        "def method_bisec(f,a,b,tol=10**(-4)):\n",
        "    fa=f(a);\n",
        "    fb=f(b);\n",
        "    plt.plot([a,a],[0,fa],'-b')\n",
        "    plt.plot([a,a],[0,fa],'-b')\n",
        "    if fa==0:\n",
        "        return a\n",
        "    elif fb==0:\n",
        "        return b\n",
        "    elif fa*fb>0:\n",
        "        print('no podemos asegurar que exista una raiz')\n",
        "        return np.nan\n",
        "    m=(a+b)/2;\n",
        "    fm=f(m);\n",
        "    \n",
        "    i=0;\n",
        "    while(np.abs(fm)>tol):\n",
        "        plt.plot([m,m],[0,fm],'-m')\n",
        "        if fm==0:\n",
        "            return m;\n",
        "        elif fa*fm<0:\n",
        "            b=m;\n",
        "            fb=fm;\n",
        "        else: a=m;fa=fm;\n",
        "            \n",
        "        m=(a+b)/2;\n",
        "        fm=f(m);\n",
        "        i+=1;\n",
        "    print('numero de iteraciones', i)\n",
        "    return m \n"
      ],
      "metadata": {
        "id": "Cl72gf8ZmpjH"
      },
      "execution_count": null,
      "outputs": []
    },
    {
      "cell_type": "code",
      "source": [
        "d = np.linspace(11, 12, 100)\n",
        "y = f_arquimedes(d)\n",
        "plt.plot(d,y)\n",
        "plt.grid()\n",
        "x_solucion = method_bisec(f_arquimedes,11,12, tol=10**-4)"
      ],
      "metadata": {
        "colab": {
          "base_uri": "https://localhost:8080/",
          "height": 282
        },
        "id": "Ij7JYFSOnfXE",
        "outputId": "fa23e9c6-fa3e-4d6d-ffa8-7db1a8d85bf4"
      },
      "execution_count": null,
      "outputs": [
        {
          "output_type": "stream",
          "name": "stdout",
          "text": [
            "numero de iteraciones 18\n"
          ]
        },
        {
          "output_type": "display_data",
          "data": {
            "text/plain": [
              "<Figure size 432x288 with 1 Axes>"
            ],
            "image/png": "[encoded data removed]"
          },
          "metadata": {
            "needs_background": "light"
          }
        }
      ]
    },
    {
      "cell_type": "code",
      "source": [
        "# Bonus Track\n",
        "# Juego de Adivina un número"
      ],
      "metadata": {
        "id": "HS2lL7j1oX6q"
      },
      "execution_count": null,
      "outputs": []
    },
    {
      "cell_type": "code",
      "source": [
        "# computador piensa un númeeo\n",
        "x_computador = np.random.randint(0,101)\n"
      ],
      "metadata": {
        "id": "jRCFZ5SApGhc"
      },
      "execution_count": null,
      "outputs": []
    },
    {
      "cell_type": "code",
      "source": [
        "x_computador = np.random.randint(0,101)\n",
        "x = int(input('Ingresa un numero entre 0 y 100: '))\n",
        "while(x != x_computador):\n",
        "  if x > x_computador:\n",
        "    print('baje su numero')\n",
        "  elif x < x_computador:\n",
        "    print('suba su numero')\n",
        "  else:\n",
        "    print('el numero es correcto')\n",
        "    break\n",
        "  x = int(input('Ingresa un numero entre 0 y 100: '))\n",
        "print('el numero es correcto')"
      ],
      "metadata": {
        "colab": {
          "base_uri": "https://localhost:8080/"
        },
        "id": "UG6c7H4BpdEG",
        "outputId": "a14e317c-1b55-4e43-a9ce-7efb7099413c"
      },
      "execution_count": null,
      "outputs": [
        {
          "output_type": "stream",
          "name": "stdout",
          "text": [
            "Ingresa un numero entre 0 y 100: 3\n",
            "suba su numero\n",
            "Ingresa un numero entre 0 y 100: 50\n",
            "suba su numero\n",
            "Ingresa un numero entre 0 y 100: 75\n",
            "baje su numero\n",
            "Ingresa un numero entre 0 y 100: 63\n",
            "baje su numero\n",
            "Ingresa un numero entre 0 y 100: 57\n",
            "baje su numero\n",
            "Ingresa un numero entre 0 y 100: 54\n",
            "suba su numero\n",
            "Ingresa un numero entre 0 y 100: 55\n",
            "suba su numero\n",
            "Ingresa un numero entre 0 y 100: 56\n",
            "el numero es correcto\n"
          ]
        }
      ]
    },
    {
      "cell_type": "code",
      "source": [
        "# Agregar contador de numer de intentos"
      ],
      "metadata": {
        "id": "KgeguNplqHfB"
      },
      "execution_count": null,
      "outputs": []
    },
    {
      "cell_type": "code",
      "source": [
        "#16/04"
      ],
      "metadata": {
        "id": "O87s3ffDq80I"
      },
      "execution_count": null,
      "outputs": []
    },
    {
      "cell_type": "code",
      "source": [
        "# Metodo Regula Falsi\n",
        "def method_Rfalsi(f,a,b,tol=10**(-4)):\n",
        "    fa=f(a);\n",
        "    fb=f(b);\n",
        "    if fa==0:\n",
        "        return a\n",
        "    elif fb==0:\n",
        "        return b\n",
        "    elif fa*fb>0:\n",
        "        print('no podemos asegurar que exista una raiz')\n",
        "    m=a-fa*(b-a)/(fb-fa)\n",
        "    fm=f(m);\n",
        "    i=0;\n",
        "    while(np.abs(fm)>tol):\n",
        "      if fm==0:\n",
        "          return m;\n",
        "      elif fa*fm<0:\n",
        "          b=m;\n",
        "          fb=fm;\n",
        "      else: a=m;fa=fm;\n",
        "            \n",
        "      m=a-fa*(b-a)/(fb-fa)\n",
        "      fm=f(m);\n",
        "      i+=1;\n",
        "    print('numero de iteraciones', i)\n",
        "    return m "
      ],
      "metadata": {
        "id": "6ND5ZZcVQSa5"
      },
      "execution_count": null,
      "outputs": []
    },
    {
      "cell_type": "code",
      "source": [
        "method_Rfalsi(f_arquimedes,11,12,tol=10**(-4))"
      ],
      "metadata": {
        "colab": {
          "base_uri": "https://localhost:8080/"
        },
        "id": "g7lPyBFiRFW3",
        "outputId": "dd6b498f-513f-42b4-e1e2-be4a98413763"
      },
      "execution_count": null,
      "outputs": [
        {
          "output_type": "stream",
          "name": "stdout",
          "text": [
            "numero de iteraciones 3\n"
          ]
        },
        {
          "output_type": "execute_result",
          "data": {
            "text/plain": [
              "11.861501513388243"
            ]
          },
          "metadata": {},
          "execution_count": 29
        }
      ]
    },
    {
      "cell_type": "code",
      "source": [
        "def f_arquimedes(d):\n",
        "  return 2552 - 30*d**2 + d**3\n",
        "def df_f_arquimedes(d):\n",
        "  return -60*d + 3*d**2"
      ],
      "metadata": {
        "id": "nhoHKYP9RNZ_"
      },
      "execution_count": null,
      "outputs": []
    },
    {
      "cell_type": "code",
      "source": [
        "def method_newton(f,df,x0,tol=10**(-12)):\n",
        "  fm = f(x0)\n",
        "  x = x0\n",
        "  k=0\n",
        "  while(np.abs(fm)>tol):\n",
        "    x = x - f(x)/df(x)\n",
        "    fm = f(x)\n",
        "    k+=1\n",
        "    if k>1000:\n",
        "      print('no converge')\n",
        "      break\n",
        "  print('Cantidad de iteraciones: ',k)\n",
        "  return x\n"
      ],
      "metadata": {
        "id": "OBbNzCM1TrjW"
      },
      "execution_count": null,
      "outputs": []
    },
    {
      "cell_type": "code",
      "source": [
        "x_aprox = method_newton(f_arquimedes,df_f_arquimedes,11,tol=10**(-12))\n",
        "x_aprox"
      ],
      "metadata": {
        "colab": {
          "base_uri": "https://localhost:8080/"
        },
        "id": "s4eo0o2qUfLd",
        "outputId": "8b17fc03-6ed2-4084-fdc3-def00653a878"
      },
      "execution_count": null,
      "outputs": [
        {
          "output_type": "stream",
          "name": "stdout",
          "text": [
            "Cantidad de iteraciones:  4\n"
          ]
        },
        {
          "output_type": "execute_result",
          "data": {
            "text/plain": [
              "11.861501508120414"
            ]
          },
          "metadata": {},
          "execution_count": 32
        }
      ]
    },
    {
      "cell_type": "code",
      "source": [
        "# digitos significativos\n",
        "t = 17\n",
        "epsilon = 10**(2-t)/2\n",
        "# test de signo\n",
        "f_arquimedes(x_aprox-epsilon)*f_arquimedes(x_aprox+epsilon)"
      ],
      "metadata": {
        "colab": {
          "base_uri": "https://localhost:8080/"
        },
        "id": "WRGA4l5OUpuD",
        "outputId": "2b80fb69-7712-40e7-d420-23ddd7efa874"
      },
      "execution_count": null,
      "outputs": [
        {
          "output_type": "execute_result",
          "data": {
            "text/plain": [
              "2.0679515313825692e-25"
            ]
          },
          "metadata": {},
          "execution_count": 33
        }
      ]
    },
    {
      "cell_type": "code",
      "source": [
        "# 16 D.S (cambio de signo entre 16 y 17)\n"
      ],
      "metadata": {
        "id": "6l06N7ZqVXSg"
      },
      "execution_count": null,
      "outputs": []
    },
    {
      "cell_type": "code",
      "source": [
        "print(\"%.32f\" %x_aprox)"
      ],
      "metadata": {
        "id": "IufTG1ilV04d",
        "outputId": "1cba709c-ede9-40eb-9bdc-1b77206e4c0e",
        "colab": {
          "base_uri": "https://localhost:8080/"
        }
      },
      "execution_count": null,
      "outputs": [
        {
          "output_type": "stream",
          "name": "stdout",
          "text": [
            "11.86150150812041381698236364172772\n"
          ]
        }
      ]
    },
    {
      "cell_type": "code",
      "source": [
        "print(\"%.100f\" %x_aprox)"
      ],
      "metadata": {
        "id": "H3b1DsM7V1Gx",
        "outputId": "fb261f97-f307-499b-8149-4bedf647902d",
        "colab": {
          "base_uri": "https://localhost:8080/"
        }
      },
      "execution_count": null,
      "outputs": [
        {
          "output_type": "stream",
          "name": "stdout",
          "text": [
            "11.8615015081204138169823636417277157306671142578125000000000000000000000000000000000000000000000000000\n"
          ]
        }
      ]
    },
    {
      "cell_type": "code",
      "source": [
        "def method_diferencias_finitas_newton(f,x0,tol=10**(-12),hk=10**-8):\n",
        "  fm = f(x0)\n",
        "  x = x0\n",
        "  k=0\n",
        "  while(np.abs(fm)>tol):\n",
        "    df = (f(x+hk)-f(x))/hk\n",
        "    x = x - f(x)/df\n",
        "    fm = f(x)\n",
        "    k+=1\n",
        "    if k>1000:\n",
        "      print('no converge')\n",
        "      break\n",
        "  print('Cantidad de iteraciones: ',k)\n",
        "  return x"
      ],
      "metadata": {
        "id": "cZuEs4TYV4JH"
      },
      "execution_count": null,
      "outputs": []
    },
    {
      "cell_type": "code",
      "source": [
        "x_aprox = method_diferencias_finitas_newton(f_arquimedes,11)\n",
        "x_aprox"
      ],
      "metadata": {
        "colab": {
          "base_uri": "https://localhost:8080/"
        },
        "id": "35sN4RT7jq9s",
        "outputId": "c99cedd2-6469-4c8f-b40f-a46776f19885"
      },
      "execution_count": null,
      "outputs": [
        {
          "output_type": "stream",
          "name": "stdout",
          "text": [
            "Cantidad de iteraciones:  4\n"
          ]
        },
        {
          "output_type": "execute_result",
          "data": {
            "text/plain": [
              "11.861501508120412"
            ]
          },
          "metadata": {},
          "execution_count": 40
        }
      ]
    },
    {
      "cell_type": "code",
      "source": [
        "# digitos significativos\n",
        "t = 16\n",
        "epsilon = 10**(2-t)/2\n",
        "# test de signo\n",
        "f_arquimedes(x_aprox-epsilon)*f_arquimedes(x_aprox+epsilon)"
      ],
      "metadata": {
        "colab": {
          "base_uri": "https://localhost:8080/"
        },
        "id": "aScCPfBuj2Kf",
        "outputId": "ed00804e-bd6c-4c9e-8a25-ce780d662eac"
      },
      "execution_count": null,
      "outputs": [
        {
          "output_type": "execute_result",
          "data": {
            "text/plain": [
              "-3.2570236619275465e-24"
            ]
          },
          "metadata": {},
          "execution_count": 43
        }
      ]
    },
    {
      "cell_type": "code",
      "source": [
        "def method_secante(f,x0,tol=10**(-12),hk=10**-8):\n",
        "  fm = f(x0)\n",
        "  x = x0\n",
        "  k = 0\n",
        "  while(np.abs(fm)>tol):\n",
        "    df = (f(x+hk)-f(x))/hk\n",
        "    x_anterior = x\n",
        "    x = x - f(x)/df\n",
        "    hk = x - x_anterior\n",
        "    fm = f(x)\n",
        "    k+=1\n",
        "    if k>1000:\n",
        "      print('no converge')\n",
        "      break\n",
        "  print('Cantidad de iteraciones: ',k)\n",
        "  return x"
      ],
      "metadata": {
        "id": "hQsKftiikSaO"
      },
      "execution_count": null,
      "outputs": []
    },
    {
      "cell_type": "code",
      "source": [
        "x_aprox = method_secante(f_arquimedes,11)\n",
        "x_aprox"
      ],
      "metadata": {
        "colab": {
          "base_uri": "https://localhost:8080/"
        },
        "id": "8uG3c_YClGDd",
        "outputId": "0242c31c-4be1-43b1-84e7-3bdbadcf0a51"
      },
      "execution_count": null,
      "outputs": [
        {
          "output_type": "stream",
          "name": "stdout",
          "text": [
            "Cantidad de iteraciones:  5\n"
          ]
        },
        {
          "output_type": "execute_result",
          "data": {
            "text/plain": [
              "11.861501508120414"
            ]
          },
          "metadata": {},
          "execution_count": 45
        }
      ]
    },
    {
      "cell_type": "code",
      "source": [
        "# digitos significativos\n",
        "t = 16\n",
        "epsilon = 10**(2-t)/2\n",
        "# test de signo\n",
        "f_arquimedes(x_aprox-epsilon)*f_arquimedes(x_aprox+epsilon)"
      ],
      "metadata": {
        "colab": {
          "base_uri": "https://localhost:8080/"
        },
        "id": "UR6aqj59lKzf",
        "outputId": "c4048a69-9e6a-4bc6-cf74-b4c8c29ad683"
      },
      "execution_count": null,
      "outputs": [
        {
          "output_type": "execute_result",
          "data": {
            "text/plain": [
              "-3.308722450212111e-24"
            ]
          },
          "metadata": {},
          "execution_count": 48
        }
      ]
    },
    {
      "cell_type": "code",
      "source": [
        "## Punto Fijo"
      ],
      "metadata": {
        "id": "ddLvwn_llOxy"
      },
      "execution_count": null,
      "outputs": []
    },
    {
      "cell_type": "code",
      "source": [
        "def g(x):\n",
        "  return np.exp(-x)"
      ],
      "metadata": {
        "id": "OK_Zh3_2pL6E"
      },
      "execution_count": null,
      "outputs": []
    },
    {
      "cell_type": "code",
      "source": [
        "x = np.linspace(0,1,100)\n",
        "plt.plot(x,g(x),'-')\n",
        "plt.plot(x,x,'-r')\n",
        "plt.grid()\n",
        "x0 = 0.1\n",
        "x1 = g(x0)\n",
        "plt.plot(x0,x1,'*')\n",
        "x2 = g(x1)\n",
        "plt.plot([x0,x0],[x0,x1],'-r')\n",
        "plt.plot([x0,x1],[x1,x1],'-m')\n",
        "plt.plot([x1,x1],[x1,x2],'-m')\n",
        "x3 = g(x2)\n",
        "plt.plot([x1,x2],[x2,x2],'-c')\n",
        "plt.plot([x2,x2],[x2,x3],'-c')\n",
        "x4 = g(x3)\n",
        "plt.plot([x2,x3],[x3,x3],'-b')\n",
        "plt.plot([x3,x3],[x3,x4],'-b')\n",
        "x5 = g(x4)\n",
        "plt.plot([x3,x4],[x4,x4],'-g')\n",
        "plt.plot([x4,x4],[x4,x5],'-g')"
      ],
      "metadata": {
        "colab": {
          "base_uri": "https://localhost:8080/",
          "height": 282
        },
        "id": "uvIL9UmupIkU",
        "outputId": "d5363e34-5872-4c56-c39b-8ce4d5b3e9f9"
      },
      "execution_count": null,
      "outputs": [
        {
          "output_type": "execute_result",
          "data": {
            "text/plain": [
              "[<matplotlib.lines.Line2D at 0x7f852b2f5f50>]"
            ]
          },
          "metadata": {},
          "execution_count": 61
        },
        {
          "output_type": "display_data",
          "data": {
            "text/plain": [
              "<Figure size 432x288 with 1 Axes>"
            ],
            "image/png": "[encoded data removed]"
          },
          "metadata": {
            "needs_background": "light"
          }
        }
      ]
    },
    {
      "cell_type": "code",
      "source": [
        "def g(x):\n",
        "  return np.cos(x)"
      ],
      "metadata": {
        "id": "dNMtYXvTpZAc"
      },
      "execution_count": null,
      "outputs": []
    },
    {
      "cell_type": "code",
      "source": [
        "x = np.linspace(0,1,100)\n",
        "plt.plot(x,g(x),'-')\n",
        "plt.plot(x,x,'-r')\n",
        "plt.grid()\n",
        "x0 = 0.1\n",
        "x1 = g(x0)\n",
        "plt.plot(x0,x1,'*')\n",
        "x2 = g(x1)\n",
        "plt.plot([x0,x0],[x0,x1],'-r')\n",
        "plt.plot([x0,x1],[x1,x1],'-m')\n",
        "plt.plot([x1,x1],[x1,x2],'-m')\n",
        "x3 = g(x2)\n",
        "plt.plot([x1,x2],[x2,x2],'-c')\n",
        "plt.plot([x2,x2],[x2,x3],'-c')\n",
        "x4 = g(x3)\n",
        "plt.plot([x2,x3],[x3,x3],'-b')\n",
        "plt.plot([x3,x3],[x3,x4],'-b')\n",
        "x5 = g(x4)\n",
        "plt.plot([x3,x4],[x4,x4],'-g')\n",
        "plt.plot([x4,x4],[x4,x5],'-g')"
      ],
      "metadata": {
        "colab": {
          "base_uri": "https://localhost:8080/",
          "height": 282
        },
        "id": "-FFS8zEUvIoI",
        "outputId": "5d3f97ef-bdfa-4a70-cebb-139c35d436a5"
      },
      "execution_count": null,
      "outputs": [
        {
          "output_type": "execute_result",
          "data": {
            "text/plain": [
              "[<matplotlib.lines.Line2D at 0x7f852b215dd0>]"
            ]
          },
          "metadata": {},
          "execution_count": 63
        },
        {
          "output_type": "display_data",
          "data": {
            "text/plain": [
              "<Figure size 432x288 with 1 Axes>"
            ],
            "image/png": "[encoded data removed]"
          },
          "metadata": {
            "needs_background": "light"
          }
        }
      ]
    },
    {
      "cell_type": "code",
      "source": [
        "from scipy import optimize"
      ],
      "metadata": {
        "id": "OMQby0RAvKqe"
      },
      "execution_count": null,
      "outputs": []
    },
    {
      "cell_type": "code",
      "source": [
        "def f(x):\n",
        "  return x**3-2*x-5\n",
        "def df(x):\n",
        "  return 3*x**2-2"
      ],
      "metadata": {
        "id": "_1-QPoRkvRus"
      },
      "execution_count": null,
      "outputs": []
    },
    {
      "cell_type": "code",
      "source": [
        "solucion = optimize.root(f, 1, jac=df, method = 'hybr')\n",
        "solucion"
      ],
      "metadata": {
        "colab": {
          "base_uri": "https://localhost:8080/"
        },
        "id": "s90-Ca-QvRpb",
        "outputId": "645d8ecc-efc7-4f33-821d-120f8234146e"
      },
      "execution_count": null,
      "outputs": [
        {
          "output_type": "execute_result",
          "data": {
            "text/plain": [
              "    fjac: array([[-1.]])\n",
              "     fun: array([-8.8817842e-16])\n",
              " message: 'The solution converged.'\n",
              "    nfev: 13\n",
              "    njev: 2\n",
              "     qtf: array([3.49063001e-11])\n",
              "       r: array([-11.16143852])\n",
              "  status: 1\n",
              " success: True\n",
              "       x: array([2.09455148])"
            ]
          },
          "metadata": {},
          "execution_count": 67
        }
      ]
    },
    {
      "cell_type": "code",
      "source": [
        "x = np.linspace(0,5,100)\n",
        "y = f(x)\n",
        "plt.plot(x,y)\n",
        "plt.grid()"
      ],
      "metadata": {
        "colab": {
          "base_uri": "https://localhost:8080/",
          "height": 265
        },
        "id": "a_nl3C6Avdc5",
        "outputId": "17e4be95-81e5-48dd-9172-c37a4a0212b4"
      },
      "execution_count": null,
      "outputs": [
        {
          "output_type": "display_data",
          "data": {
            "text/plain": [
              "<Figure size 432x288 with 1 Axes>"
            ],
            "image/png": "[encoded data removed]"
          },
          "metadata": {
            "needs_background": "light"
          }
        }
      ]
    },
    {
      "cell_type": "code",
      "source": [
        "optimize.fsolve(f,2)"
      ],
      "metadata": {
        "colab": {
          "base_uri": "https://localhost:8080/"
        },
        "id": "C-d8mW4zvoIh",
        "outputId": "255e41de-c04c-4a0a-fbf7-6435206c4e10"
      },
      "execution_count": null,
      "outputs": [
        {
          "output_type": "execute_result",
          "data": {
            "text/plain": [
              "array([2.09455148])"
            ]
          },
          "metadata": {},
          "execution_count": 69
        }
      ]
    }
  ]
}