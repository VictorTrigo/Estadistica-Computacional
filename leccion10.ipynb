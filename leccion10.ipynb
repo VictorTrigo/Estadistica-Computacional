{
  "nbformat": 4,
  "nbformat_minor": 0,
  "metadata": {
    "colab": {
      "name": "leccion10.ipynb",
      "provenance": [],
      "collapsed_sections": [],
      "authorship_tag": "ABX9TyNhIWB59t0mdAufGj9aLhNr",
      "include_colab_link": true
    },
    "kernelspec": {
      "name": "python3",
      "display_name": "Python 3"
    },
    "language_info": {
      "name": "python"
    }
  },
  "cells": [
    {
      "cell_type": "markdown",
      "metadata": {
        "id": "view-in-github",
        "colab_type": "text"
      },
      "source": [
        "<a href=\"https://colab.research.google.com/github/VictorTrigo/Estadistica-Computacional/blob/master/leccion10.ipynb\" target=\"_parent\"><img src=\"https://colab.research.google.com/assets/colab-badge.svg\" alt=\"Open In Colab\"/></a>"
      ]
    },
    {
      "cell_type": "markdown",
      "source": [
        "# Propiedades de Matrices"
      ],
      "metadata": {
        "id": "wQafHtzEQ-Ir"
      }
    },
    {
      "cell_type": "code",
      "execution_count": null,
      "metadata": {
        "id": "SijXx9ayLeQv"
      },
      "outputs": [],
      "source": [
        "import numpy as np\n",
        "import scipy.linalg as linalg"
      ]
    },
    {
      "cell_type": "markdown",
      "source": [
        "Definicion"
      ],
      "metadata": {
        "id": "IV7cg8gkLwrh"
      }
    },
    {
      "cell_type": "code",
      "source": [
        "Lista = [[4, 7, -2], [1, -6, 8], [-3, 10, 6]]\n",
        "Arreglo = np.array(Lista)\n",
        "Matriz = np.matrix(Lista)"
      ],
      "metadata": {
        "id": "lRMYWsauLm_O"
      },
      "execution_count": null,
      "outputs": []
    },
    {
      "cell_type": "code",
      "source": [
        "Lista"
      ],
      "metadata": {
        "colab": {
          "base_uri": "https://localhost:8080/"
        },
        "id": "IUeufhMHLqLb",
        "outputId": "0019e887-e737-4b55-da8e-bb4e648d89a2"
      },
      "execution_count": null,
      "outputs": [
        {
          "output_type": "execute_result",
          "data": {
            "text/plain": [
              "[[4, 7, -2], [1, -6, 8], [-3, 10, 6]]"
            ]
          },
          "metadata": {},
          "execution_count": 3
        }
      ]
    },
    {
      "cell_type": "code",
      "source": [
        "Arreglo"
      ],
      "metadata": {
        "colab": {
          "base_uri": "https://localhost:8080/"
        },
        "id": "fE97OzzkLra7",
        "outputId": "2956af36-a920-4761-a63c-8790422841c4"
      },
      "execution_count": null,
      "outputs": [
        {
          "output_type": "execute_result",
          "data": {
            "text/plain": [
              "array([[ 4,  7, -2],\n",
              "       [ 1, -6,  8],\n",
              "       [-3, 10,  6]])"
            ]
          },
          "metadata": {},
          "execution_count": 4
        }
      ]
    },
    {
      "cell_type": "code",
      "source": [
        "Matriz "
      ],
      "metadata": {
        "colab": {
          "base_uri": "https://localhost:8080/"
        },
        "id": "EG6TLuYTLssT",
        "outputId": "22ba612e-e394-4af3-9486-228546bd9a00"
      },
      "execution_count": null,
      "outputs": [
        {
          "output_type": "execute_result",
          "data": {
            "text/plain": [
              "matrix([[ 4,  7, -2],\n",
              "        [ 1, -6,  8],\n",
              "        [-3, 10,  6]])"
            ]
          },
          "metadata": {},
          "execution_count": 6
        }
      ]
    },
    {
      "cell_type": "code",
      "source": [
        "3*Lista"
      ],
      "metadata": {
        "colab": {
          "base_uri": "https://localhost:8080/"
        },
        "id": "UoSdDvj2LuqU",
        "outputId": "eb9442aa-09a3-42da-f429-4449f7085454"
      },
      "execution_count": null,
      "outputs": [
        {
          "output_type": "execute_result",
          "data": {
            "text/plain": [
              "[[4, 7, -2],\n",
              " [1, -6, 8],\n",
              " [-3, 10, 6],\n",
              " [4, 7, -2],\n",
              " [1, -6, 8],\n",
              " [-3, 10, 6],\n",
              " [4, 7, -2],\n",
              " [1, -6, 8],\n",
              " [-3, 10, 6]]"
            ]
          },
          "metadata": {},
          "execution_count": 7
        }
      ]
    },
    {
      "cell_type": "code",
      "source": [
        "3*Arreglo"
      ],
      "metadata": {
        "colab": {
          "base_uri": "https://localhost:8080/"
        },
        "id": "NDoIDoR9L0yU",
        "outputId": "df75c6c3-e2e6-4125-bf41-34b370eb81da"
      },
      "execution_count": null,
      "outputs": [
        {
          "output_type": "execute_result",
          "data": {
            "text/plain": [
              "array([[ 12,  21,  -6],\n",
              "       [  3, -18,  24],\n",
              "       [ -9,  30,  18]])"
            ]
          },
          "metadata": {},
          "execution_count": 8
        }
      ]
    },
    {
      "cell_type": "code",
      "source": [
        "3*Matriz"
      ],
      "metadata": {
        "colab": {
          "base_uri": "https://localhost:8080/"
        },
        "id": "AjAPb1utL1xl",
        "outputId": "e991a58b-78e7-45f1-bb92-7d11479e093b"
      },
      "execution_count": null,
      "outputs": [
        {
          "output_type": "execute_result",
          "data": {
            "text/plain": [
              "matrix([[ 12,  21,  -6],\n",
              "        [  3, -18,  24],\n",
              "        [ -9,  30,  18]])"
            ]
          },
          "metadata": {},
          "execution_count": 9
        }
      ]
    },
    {
      "cell_type": "code",
      "source": [
        "A2 = np.array([[1,1,1],[1,1,1],[1,1,1]])\n",
        "M2 = np.matrix(A2)\n",
        "M2"
      ],
      "metadata": {
        "colab": {
          "base_uri": "https://localhost:8080/"
        },
        "id": "Y-YclXoTL2-d",
        "outputId": "7ea75475-c06f-4451-8707-26cf2a484934"
      },
      "execution_count": null,
      "outputs": [
        {
          "output_type": "execute_result",
          "data": {
            "text/plain": [
              "matrix([[1, 1, 1],\n",
              "        [1, 1, 1],\n",
              "        [1, 1, 1]])"
            ]
          },
          "metadata": {},
          "execution_count": 10
        }
      ]
    },
    {
      "cell_type": "code",
      "source": [
        "Arreglo*A2 # Producto elemento a elemento. Producto de Hadamard\n",
        "\n",
        "# a_{11} = 4*1 = 4\n",
        "# a_{21} = 1*1 = 1\n",
        "# a_{31} = -3*1 = -3\n",
        "# ...."
      ],
      "metadata": {
        "colab": {
          "base_uri": "https://localhost:8080/"
        },
        "id": "Ye14Y-mRL6N9",
        "outputId": "b5a6a1ef-0c20-4b79-9195-4bad591e954f"
      },
      "execution_count": null,
      "outputs": [
        {
          "output_type": "execute_result",
          "data": {
            "text/plain": [
              "array([[ 4,  7, -2],\n",
              "       [ 1, -6,  8],\n",
              "       [-3, 10,  6]])"
            ]
          },
          "metadata": {},
          "execution_count": 11
        }
      ]
    },
    {
      "cell_type": "code",
      "source": [
        "Matriz*M2 # Producto Matricial\n",
        "\n",
        "# a_{11} = 4*1+ 7*1 -2*1 = 9\n",
        "# a_{21} = 1*1 + -6*1 + 8*1 = 3\n",
        "# a_{31} = -3*1 + 10*1 + 6*1 = 13\n",
        "# ...."
      ],
      "metadata": {
        "colab": {
          "base_uri": "https://localhost:8080/"
        },
        "id": "ME_SZsC-L8Y1",
        "outputId": "a881f61e-d3c7-4452-aaae-fdf862e40818"
      },
      "execution_count": null,
      "outputs": [
        {
          "output_type": "execute_result",
          "data": {
            "text/plain": [
              "matrix([[ 9,  9,  9],\n",
              "        [ 3,  3,  3],\n",
              "        [13, 13, 13]])"
            ]
          },
          "metadata": {},
          "execution_count": 12
        }
      ]
    },
    {
      "cell_type": "markdown",
      "source": [
        "Operaciones"
      ],
      "metadata": {
        "id": "R2iG-sCwLyWx"
      }
    },
    {
      "cell_type": "code",
      "source": [
        "Matriz"
      ],
      "metadata": {
        "colab": {
          "base_uri": "https://localhost:8080/"
        },
        "id": "xQihBkdsL_f2",
        "outputId": "5ae12664-af2f-4ee3-e693-fe1743d4a835"
      },
      "execution_count": null,
      "outputs": [
        {
          "output_type": "execute_result",
          "data": {
            "text/plain": [
              "matrix([[ 4,  7, -2],\n",
              "        [ 1, -6,  8],\n",
              "        [-3, 10,  6]])"
            ]
          },
          "metadata": {},
          "execution_count": 13
        }
      ]
    },
    {
      "cell_type": "code",
      "source": [
        "Matriz.T # Matriz Transpuesta"
      ],
      "metadata": {
        "colab": {
          "base_uri": "https://localhost:8080/"
        },
        "id": "QZ37rfxdMFQ3",
        "outputId": "f6872285-0164-4ec8-988e-0618d8d4f5d6"
      },
      "execution_count": null,
      "outputs": [
        {
          "output_type": "execute_result",
          "data": {
            "text/plain": [
              "matrix([[ 4,  1, -3],\n",
              "        [ 7, -6, 10],\n",
              "        [-2,  8,  6]])"
            ]
          },
          "metadata": {},
          "execution_count": 14
        }
      ]
    },
    {
      "cell_type": "code",
      "source": [
        "np.diag(Matriz) # Diagonal de la matriz"
      ],
      "metadata": {
        "colab": {
          "base_uri": "https://localhost:8080/"
        },
        "id": "FnaooOiMMGzG",
        "outputId": "130a6818-01c4-492b-b364-9f972e99a86d"
      },
      "execution_count": null,
      "outputs": [
        {
          "output_type": "execute_result",
          "data": {
            "text/plain": [
              "array([ 4, -6,  6])"
            ]
          },
          "metadata": {},
          "execution_count": 15
        }
      ]
    },
    {
      "cell_type": "code",
      "source": [
        "np.diag(np.diag(Matriz)) # Matriz diagonal"
      ],
      "metadata": {
        "colab": {
          "base_uri": "https://localhost:8080/"
        },
        "id": "sVN2w69UMIE-",
        "outputId": "3e17f385-8705-477d-87b0-2f7a5f3a121d"
      },
      "execution_count": null,
      "outputs": [
        {
          "output_type": "execute_result",
          "data": {
            "text/plain": [
              "array([[ 4,  0,  0],\n",
              "       [ 0, -6,  0],\n",
              "       [ 0,  0,  6]])"
            ]
          },
          "metadata": {},
          "execution_count": 16
        }
      ]
    },
    {
      "cell_type": "code",
      "source": [
        "np.tril(Matriz) # Matriz Triangular inferior"
      ],
      "metadata": {
        "colab": {
          "base_uri": "https://localhost:8080/"
        },
        "id": "2tN8gtDNMKCH",
        "outputId": "322a3e89-683d-47a9-a5d7-eb4b443a1ba2"
      },
      "execution_count": null,
      "outputs": [
        {
          "output_type": "execute_result",
          "data": {
            "text/plain": [
              "array([[ 4,  0,  0],\n",
              "       [ 1, -6,  0],\n",
              "       [-3, 10,  6]])"
            ]
          },
          "metadata": {},
          "execution_count": 17
        }
      ]
    },
    {
      "cell_type": "code",
      "source": [
        "np.triu(Matriz) # Matriz Triangular superior"
      ],
      "metadata": {
        "colab": {
          "base_uri": "https://localhost:8080/"
        },
        "id": "DvHV9bwxMTNf",
        "outputId": "bf893065-0335-41e4-b1bc-3833ec6bef79"
      },
      "execution_count": null,
      "outputs": [
        {
          "output_type": "execute_result",
          "data": {
            "text/plain": [
              "array([[ 4,  7, -2],\n",
              "       [ 0, -6,  8],\n",
              "       [ 0,  0,  6]])"
            ]
          },
          "metadata": {},
          "execution_count": 20
        }
      ]
    },
    {
      "cell_type": "code",
      "source": [
        "#Propiedad M = triangular_sumerior + triangular_inferior - diagonal\n",
        "np.tril(Matriz)+np.triu(Matriz)-np.diag(np.diag(Matriz)) "
      ],
      "metadata": {
        "colab": {
          "base_uri": "https://localhost:8080/"
        },
        "id": "H6DdQY54MLX3",
        "outputId": "870c978b-397f-488f-b65f-7f44bae447df"
      },
      "execution_count": null,
      "outputs": [
        {
          "output_type": "execute_result",
          "data": {
            "text/plain": [
              "array([[ 4,  7, -2],\n",
              "       [ 1, -6,  8],\n",
              "       [-3, 10,  6]])"
            ]
          },
          "metadata": {},
          "execution_count": 21
        }
      ]
    },
    {
      "cell_type": "code",
      "source": [
        "np.trace(Matriz)"
      ],
      "metadata": {
        "colab": {
          "base_uri": "https://localhost:8080/"
        },
        "id": "TFbJi09GMMy3",
        "outputId": "3b25aedc-29eb-413d-a4d7-626943e5f3b4"
      },
      "execution_count": null,
      "outputs": [
        {
          "output_type": "execute_result",
          "data": {
            "text/plain": [
              "4"
            ]
          },
          "metadata": {},
          "execution_count": 19
        }
      ]
    },
    {
      "cell_type": "code",
      "source": [
        "M1 = Matriz\n",
        "print(np.trace(M1+M2))\n",
        "print(np.trace(M1)+np.trace(M2))"
      ],
      "metadata": {
        "colab": {
          "base_uri": "https://localhost:8080/"
        },
        "id": "LrrDfEt3MOfX",
        "outputId": "977b9c8d-c967-4f31-97c4-9305523bbca8"
      },
      "execution_count": null,
      "outputs": [
        {
          "output_type": "stream",
          "name": "stdout",
          "text": [
            "7\n",
            "7\n"
          ]
        }
      ]
    },
    {
      "cell_type": "code",
      "source": [
        "alfa = 5\n",
        "print(np.trace(alfa*M1))\n",
        "print(alfa*np.trace(M1))"
      ],
      "metadata": {
        "colab": {
          "base_uri": "https://localhost:8080/"
        },
        "id": "5sifJLI0MiRa",
        "outputId": "c8ca740f-0ae0-44fe-eb22-de5779887bd5"
      },
      "execution_count": null,
      "outputs": [
        {
          "output_type": "stream",
          "name": "stdout",
          "text": [
            "20\n",
            "20\n"
          ]
        }
      ]
    },
    {
      "cell_type": "code",
      "source": [
        "print(np.trace(M1*M2))\n",
        "print(np.trace(M2*M1))"
      ],
      "metadata": {
        "colab": {
          "base_uri": "https://localhost:8080/"
        },
        "id": "B7ytfbKYMjjC",
        "outputId": "17563f83-2fb1-4083-e812-49a00b2d5d80"
      },
      "execution_count": null,
      "outputs": [
        {
          "output_type": "stream",
          "name": "stdout",
          "text": [
            "25\n",
            "25\n"
          ]
        }
      ]
    },
    {
      "cell_type": "code",
      "source": [
        "np.all(np.conjugate(M1)==M1.T)  #  Hermítica, matriz conjugada es igual a la transpuesta"
      ],
      "metadata": {
        "colab": {
          "base_uri": "https://localhost:8080/"
        },
        "id": "Ysi2-HioMlga",
        "outputId": "e73f4d2c-1692-4207-8173-5c542027193c"
      },
      "execution_count": null,
      "outputs": [
        {
          "output_type": "execute_result",
          "data": {
            "text/plain": [
              "False"
            ]
          },
          "metadata": {},
          "execution_count": 25
        }
      ]
    },
    {
      "cell_type": "code",
      "source": [
        "num_complejo = 3 + 5j\n",
        "np.conjugate(num_complejo)"
      ],
      "metadata": {
        "colab": {
          "base_uri": "https://localhost:8080/"
        },
        "id": "khvBcBjfMsaj",
        "outputId": "a470d566-60c8-44d7-9659-240e5cbe4028"
      },
      "execution_count": null,
      "outputs": [
        {
          "output_type": "execute_result",
          "data": {
            "text/plain": [
              "(3-5j)"
            ]
          },
          "metadata": {},
          "execution_count": 26
        }
      ]
    },
    {
      "cell_type": "code",
      "source": [
        "A = np.matrix([[1, 2-3j, 0],[2+3j, 5, 4-7j], [0, 4+7j, 5]])\n",
        "A"
      ],
      "metadata": {
        "colab": {
          "base_uri": "https://localhost:8080/"
        },
        "id": "_vIfNJreMtv7",
        "outputId": "5f065aef-5585-4d1f-ef1b-57e809d49f5f"
      },
      "execution_count": null,
      "outputs": [
        {
          "output_type": "execute_result",
          "data": {
            "text/plain": [
              "matrix([[1.+0.j, 2.-3.j, 0.+0.j],\n",
              "        [2.+3.j, 5.+0.j, 4.-7.j],\n",
              "        [0.+0.j, 4.+7.j, 5.+0.j]])"
            ]
          },
          "metadata": {},
          "execution_count": 27
        }
      ]
    },
    {
      "cell_type": "code",
      "source": [
        "np.conjugate(A)"
      ],
      "metadata": {
        "colab": {
          "base_uri": "https://localhost:8080/"
        },
        "id": "REBejDdrMvH7",
        "outputId": "c5a03d7d-6556-4644-e4b7-b461a5e78148"
      },
      "execution_count": null,
      "outputs": [
        {
          "output_type": "execute_result",
          "data": {
            "text/plain": [
              "matrix([[1.-0.j, 2.+3.j, 0.-0.j],\n",
              "        [2.-3.j, 5.-0.j, 4.+7.j],\n",
              "        [0.-0.j, 4.-7.j, 5.-0.j]])"
            ]
          },
          "metadata": {},
          "execution_count": 28
        }
      ]
    },
    {
      "cell_type": "code",
      "source": [
        "if np.all(np.conjugate(A)==A.T):\n",
        "  print(\"La matriz es hermítica\")\n",
        "else:\n",
        "  print(\"La matriz no es hermítica\")"
      ],
      "metadata": {
        "colab": {
          "base_uri": "https://localhost:8080/"
        },
        "id": "y1YQhxzKMv7L",
        "outputId": "23c46182-4370-4ec4-c72b-f2b204d1b1ab"
      },
      "execution_count": null,
      "outputs": [
        {
          "output_type": "stream",
          "name": "stdout",
          "text": [
            "La matriz es hermítica\n"
          ]
        }
      ]
    },
    {
      "cell_type": "code",
      "source": [
        "np.conjugate(A)==A.T"
      ],
      "metadata": {
        "colab": {
          "base_uri": "https://localhost:8080/"
        },
        "id": "ezcJ4eHHMxT0",
        "outputId": "59891ab0-f240-40a6-8a79-b191f82c80b6"
      },
      "execution_count": null,
      "outputs": [
        {
          "output_type": "execute_result",
          "data": {
            "text/plain": [
              "matrix([[ True,  True,  True],\n",
              "        [ True,  True,  True],\n",
              "        [ True,  True,  True]])"
            ]
          },
          "metadata": {},
          "execution_count": 30
        }
      ]
    },
    {
      "cell_type": "code",
      "source": [
        "B = np.matrix([[4, 7, 6], [7, -3, -2], [9, -2, 10]])\n",
        "B"
      ],
      "metadata": {
        "colab": {
          "base_uri": "https://localhost:8080/"
        },
        "id": "xEzaq3_BMzET",
        "outputId": "8dabc792-d9d5-4dc0-e4dc-54ead52eafad"
      },
      "execution_count": null,
      "outputs": [
        {
          "output_type": "execute_result",
          "data": {
            "text/plain": [
              "matrix([[ 4,  7,  6],\n",
              "        [ 7, -3, -2],\n",
              "        [ 9, -2, 10]])"
            ]
          },
          "metadata": {},
          "execution_count": 31
        }
      ]
    },
    {
      "cell_type": "code",
      "source": [
        "B.T"
      ],
      "metadata": {
        "colab": {
          "base_uri": "https://localhost:8080/"
        },
        "id": "WDB0tT_aM0vU",
        "outputId": "ab462647-5977-4f22-de4f-cc8f00b80630"
      },
      "execution_count": null,
      "outputs": [
        {
          "output_type": "execute_result",
          "data": {
            "text/plain": [
              "matrix([[ 4,  7,  9],\n",
              "        [ 7, -3, -2],\n",
              "        [ 6, -2, 10]])"
            ]
          },
          "metadata": {},
          "execution_count": 32
        }
      ]
    },
    {
      "cell_type": "code",
      "source": [
        "if np.all(B.T==B):\n",
        "  print(\"La matriz es simétrica\")\n",
        "else:\n",
        "  print(\"La matriz no es simétrica\")"
      ],
      "metadata": {
        "colab": {
          "base_uri": "https://localhost:8080/"
        },
        "id": "tycHQJizM1y4",
        "outputId": "110b93dc-f2bb-4117-ab51-c3db60e2cba7"
      },
      "execution_count": null,
      "outputs": [
        {
          "output_type": "stream",
          "name": "stdout",
          "text": [
            "La matriz no es simétrica\n"
          ]
        }
      ]
    },
    {
      "cell_type": "code",
      "source": [
        "np.all(B.T==B)"
      ],
      "metadata": {
        "colab": {
          "base_uri": "https://localhost:8080/"
        },
        "id": "IxIdcMyxM3Ll",
        "outputId": "dea1fafc-dba0-402f-b8a8-8cb4cb5997d0"
      },
      "execution_count": null,
      "outputs": [
        {
          "output_type": "execute_result",
          "data": {
            "text/plain": [
              "False"
            ]
          },
          "metadata": {},
          "execution_count": 34
        }
      ]
    },
    {
      "cell_type": "markdown",
      "source": [
        "Determinante"
      ],
      "metadata": {
        "id": "uXS9WatAM7E9"
      }
    },
    {
      "cell_type": "code",
      "source": [
        "M1"
      ],
      "metadata": {
        "colab": {
          "base_uri": "https://localhost:8080/"
        },
        "id": "2fac-rENM9lo",
        "outputId": "b9db889d-5b94-482f-92a6-e721e4c0bd0f"
      },
      "execution_count": null,
      "outputs": [
        {
          "output_type": "execute_result",
          "data": {
            "text/plain": [
              "matrix([[ 4,  7, -2],\n",
              "        [ 1, -6,  8],\n",
              "        [-3, 10,  6]])"
            ]
          },
          "metadata": {},
          "execution_count": 35
        }
      ]
    },
    {
      "cell_type": "code",
      "source": [
        "linalg.det(M1)"
      ],
      "metadata": {
        "colab": {
          "base_uri": "https://localhost:8080/"
        },
        "id": "89FugGj0M4IU",
        "outputId": "4256e0e2-57b7-452a-9ff4-b012da92419e"
      },
      "execution_count": null,
      "outputs": [
        {
          "output_type": "execute_result",
          "data": {
            "text/plain": [
              "-658.0"
            ]
          },
          "metadata": {},
          "execution_count": 36
        }
      ]
    },
    {
      "cell_type": "code",
      "source": [
        "# Propiedad: det(a*A) = a^n *det(A)\n",
        "print(linalg.det(5*M1))\n",
        "print(5**3*linalg.det(M1))"
      ],
      "metadata": {
        "colab": {
          "base_uri": "https://localhost:8080/"
        },
        "id": "ryX2ByaUM-3t",
        "outputId": "2051e4ec-bdec-4118-db2d-37d4db6ac6a3"
      },
      "execution_count": null,
      "outputs": [
        {
          "output_type": "stream",
          "name": "stdout",
          "text": [
            "-82250.0\n",
            "-82250.0\n"
          ]
        }
      ]
    },
    {
      "cell_type": "code",
      "source": [
        "# Propiedad: Si una fila o columna es nula, entonces la determinante es cero."
      ],
      "metadata": {
        "id": "Gkog3r2KNBwO"
      },
      "execution_count": null,
      "outputs": []
    },
    {
      "cell_type": "code",
      "source": [
        "A = np.matrix([[1,2,3],[0,0,0],[4,5,6]])\n",
        "A"
      ],
      "metadata": {
        "colab": {
          "base_uri": "https://localhost:8080/"
        },
        "id": "44XB0jocNdB4",
        "outputId": "145991d2-49d1-45a7-ce30-1f3f04349dd9"
      },
      "execution_count": null,
      "outputs": [
        {
          "output_type": "execute_result",
          "data": {
            "text/plain": [
              "matrix([[1, 2, 3],\n",
              "        [0, 0, 0],\n",
              "        [4, 5, 6]])"
            ]
          },
          "metadata": {},
          "execution_count": 45
        }
      ]
    },
    {
      "cell_type": "code",
      "source": [
        "linalg.det(A)"
      ],
      "metadata": {
        "colab": {
          "base_uri": "https://localhost:8080/"
        },
        "id": "lU3Fv2rYNTbg",
        "outputId": "3a5f10d0-f4d1-4323-d967-97d7c18faa20"
      },
      "execution_count": null,
      "outputs": [
        {
          "output_type": "execute_result",
          "data": {
            "text/plain": [
              "0.0"
            ]
          },
          "metadata": {},
          "execution_count": 40
        }
      ]
    },
    {
      "cell_type": "code",
      "source": [
        "# Propiedad: Si una fila o columna es proporcional a otra fila o columna, su determinante es cero"
      ],
      "metadata": {
        "id": "CXr17v7vNfI4"
      },
      "execution_count": null,
      "outputs": []
    },
    {
      "cell_type": "code",
      "source": [
        "A = np.matrix([[1,2,3],[-5*1,-5*2,-5*3],[4,5,6]])\n",
        "A"
      ],
      "metadata": {
        "colab": {
          "base_uri": "https://localhost:8080/"
        },
        "id": "oQI36pVqNUs_",
        "outputId": "5e9b98ba-6f88-4633-dd68-b5eb2fa76bf2"
      },
      "execution_count": null,
      "outputs": [
        {
          "output_type": "execute_result",
          "data": {
            "text/plain": [
              "matrix([[  1,   2,   3],\n",
              "        [ -5, -10, -15],\n",
              "        [  4,   5,   6]])"
            ]
          },
          "metadata": {},
          "execution_count": 48
        }
      ]
    },
    {
      "cell_type": "code",
      "source": [
        "linalg.det(A)"
      ],
      "metadata": {
        "colab": {
          "base_uri": "https://localhost:8080/"
        },
        "id": "o5jQ4cJKNYiQ",
        "outputId": "6a299f0c-8015-44ac-ad43-747fefcf074a"
      },
      "execution_count": null,
      "outputs": [
        {
          "output_type": "execute_result",
          "data": {
            "text/plain": [
              "0.0"
            ]
          },
          "metadata": {},
          "execution_count": 49
        }
      ]
    },
    {
      "cell_type": "code",
      "source": [
        "# Propiedad: si se intercambia una fila o columna entonces |A|=-|A|"
      ],
      "metadata": {
        "id": "1suAUmRuNbth"
      },
      "execution_count": null,
      "outputs": []
    },
    {
      "cell_type": "code",
      "source": [
        "A = np.matrix([[1,-2,4],[7,9,-4],[3,8,-1]])\n",
        "linalg.det(A)"
      ],
      "metadata": {
        "colab": {
          "base_uri": "https://localhost:8080/"
        },
        "id": "_fXU9xRKNkzy",
        "outputId": "a972f624-0680-4110-9a8a-f384eafaeddf"
      },
      "execution_count": null,
      "outputs": [
        {
          "output_type": "execute_result",
          "data": {
            "text/plain": [
              "149.0"
            ]
          },
          "metadata": {},
          "execution_count": 51
        }
      ]
    },
    {
      "cell_type": "code",
      "source": [
        "A2 = np.matrix([[3,8,-1],[7,9,-4],[1,-2,4]])\n",
        "linalg.det(A2)"
      ],
      "metadata": {
        "colab": {
          "base_uri": "https://localhost:8080/"
        },
        "id": "NFq_CdXHNmMy",
        "outputId": "ae97cd03-6605-4324-e14d-83872a1c75d6"
      },
      "execution_count": null,
      "outputs": [
        {
          "output_type": "execute_result",
          "data": {
            "text/plain": [
              "-149.0"
            ]
          },
          "metadata": {},
          "execution_count": 52
        }
      ]
    },
    {
      "cell_type": "code",
      "source": [
        "# Propiedad: det(AB) = det(A)*det(B)"
      ],
      "metadata": {
        "id": "4iBm9XMKNnHM"
      },
      "execution_count": null,
      "outputs": []
    },
    {
      "cell_type": "code",
      "source": [
        "linalg.det(A*B)"
      ],
      "metadata": {
        "colab": {
          "base_uri": "https://localhost:8080/"
        },
        "id": "ppzcFEF-Nrcr",
        "outputId": "cf70e1aa-dad0-498c-9c93-aead204c3815"
      },
      "execution_count": null,
      "outputs": [
        {
          "output_type": "execute_result",
          "data": {
            "text/plain": [
              "-100426.0"
            ]
          },
          "metadata": {},
          "execution_count": 54
        }
      ]
    },
    {
      "cell_type": "code",
      "source": [
        "linalg.det(A)*linalg.det(B)"
      ],
      "metadata": {
        "colab": {
          "base_uri": "https://localhost:8080/"
        },
        "id": "CbhUHaX5NslK",
        "outputId": "5204db9a-1447-4519-a667-626a50f754ea"
      },
      "execution_count": null,
      "outputs": [
        {
          "output_type": "execute_result",
          "data": {
            "text/plain": [
              "-100426.0"
            ]
          },
          "metadata": {},
          "execution_count": 55
        }
      ]
    },
    {
      "cell_type": "code",
      "source": [
        "# Propiedad: det(A^k)=det(A)^k"
      ],
      "metadata": {
        "id": "F03feNLdNtoT"
      },
      "execution_count": null,
      "outputs": []
    },
    {
      "cell_type": "code",
      "source": [
        "A*A"
      ],
      "metadata": {
        "colab": {
          "base_uri": "https://localhost:8080/"
        },
        "id": "8U2SxnpWN3P1",
        "outputId": "99cfe1a7-309e-4def-8066-f7073d5b9883"
      },
      "execution_count": null,
      "outputs": [
        {
          "output_type": "execute_result",
          "data": {
            "text/plain": [
              "matrix([[ -1,  12,   8],\n",
              "        [ 58,  35,  -4],\n",
              "        [ 56,  58, -19]])"
            ]
          },
          "metadata": {},
          "execution_count": 57
        }
      ]
    },
    {
      "cell_type": "code",
      "source": [
        "A**2"
      ],
      "metadata": {
        "colab": {
          "base_uri": "https://localhost:8080/"
        },
        "id": "lmSN7iImN43c",
        "outputId": "def186c4-236d-41c4-f0a1-149bce1c6012"
      },
      "execution_count": null,
      "outputs": [
        {
          "output_type": "execute_result",
          "data": {
            "text/plain": [
              "matrix([[ -1,  12,   8],\n",
              "        [ 58,  35,  -4],\n",
              "        [ 56,  58, -19]])"
            ]
          },
          "metadata": {},
          "execution_count": 58
        }
      ]
    },
    {
      "cell_type": "code",
      "source": [
        "A**3"
      ],
      "metadata": {
        "colab": {
          "base_uri": "https://localhost:8080/"
        },
        "id": "mtJodw7IN57M",
        "outputId": "c9375d1a-7720-4402-b190-99f225ed1eaf"
      },
      "execution_count": null,
      "outputs": [
        {
          "output_type": "execute_result",
          "data": {
            "text/plain": [
              "matrix([[107, 174, -60],\n",
              "        [291, 167,  96],\n",
              "        [405, 258,  11]])"
            ]
          },
          "metadata": {},
          "execution_count": 59
        }
      ]
    },
    {
      "cell_type": "code",
      "source": [
        "print(linalg.det(A**3))\n",
        "print(linalg.det(A)**3)"
      ],
      "metadata": {
        "colab": {
          "base_uri": "https://localhost:8080/"
        },
        "id": "2KbDUN0SN7b0",
        "outputId": "9376ec09-9956-4312-cb6d-c5b30bd66f96"
      },
      "execution_count": null,
      "outputs": [
        {
          "output_type": "stream",
          "name": "stdout",
          "text": [
            "3307949.0000000014\n",
            "3307949.0\n"
          ]
        }
      ]
    },
    {
      "cell_type": "code",
      "source": [
        "# Propiedad det(A^-1) = 1/det(A)"
      ],
      "metadata": {
        "id": "yE6FNWHcN-C1"
      },
      "execution_count": null,
      "outputs": []
    },
    {
      "cell_type": "code",
      "source": [
        "print(linalg.det(A.I))\n",
        "print(1/linalg.det(A))"
      ],
      "metadata": {
        "colab": {
          "base_uri": "https://localhost:8080/"
        },
        "id": "jbenZvkqOFoG",
        "outputId": "90c64d7a-f2f7-489c-94ca-eb3f1e8a6bc5"
      },
      "execution_count": null,
      "outputs": [
        {
          "output_type": "stream",
          "name": "stdout",
          "text": [
            "0.006711409395973156\n",
            "0.006711409395973154\n"
          ]
        }
      ]
    },
    {
      "cell_type": "code",
      "source": [
        "# Propiedad: si rango(A) < n entonces det(A) = 0"
      ],
      "metadata": {
        "id": "XoMx_aKNOHB5"
      },
      "execution_count": null,
      "outputs": []
    },
    {
      "cell_type": "code",
      "source": [
        "linalg.null_space(A)"
      ],
      "metadata": {
        "colab": {
          "base_uri": "https://localhost:8080/"
        },
        "id": "BQ3RVXcnORsp",
        "outputId": "86234d31-72b2-4f9c-8cdb-cf1cee0715b4"
      },
      "execution_count": null,
      "outputs": [
        {
          "output_type": "execute_result",
          "data": {
            "text/plain": [
              "array([], shape=(3, 0), dtype=float64)"
            ]
          },
          "metadata": {},
          "execution_count": 64
        }
      ]
    },
    {
      "cell_type": "code",
      "source": [
        "C = np.matrix([[7, 1, -4, -2],[6, -12, 3, 1],[13, -11, -1, -1],[0, 5, 8, -6]])\n",
        "C"
      ],
      "metadata": {
        "colab": {
          "base_uri": "https://localhost:8080/"
        },
        "id": "nQVKu4T1OTG_",
        "outputId": "dbc538da-213a-4de5-a318-67c0c3c6f6a9"
      },
      "execution_count": null,
      "outputs": [
        {
          "output_type": "execute_result",
          "data": {
            "text/plain": [
              "matrix([[  7,   1,  -4,  -2],\n",
              "        [  6, -12,   3,   1],\n",
              "        [ 13, -11,  -1,  -1],\n",
              "        [  0,   5,   8,  -6]])"
            ]
          },
          "metadata": {},
          "execution_count": 65
        }
      ]
    },
    {
      "cell_type": "code",
      "source": [
        "linalg.det(C)"
      ],
      "metadata": {
        "colab": {
          "base_uri": "https://localhost:8080/"
        },
        "id": "VEd3qMMZOT_v",
        "outputId": "9f2fd70d-3909-4d85-ea40-a7e39f6c11b4"
      },
      "execution_count": null,
      "outputs": [
        {
          "output_type": "execute_result",
          "data": {
            "text/plain": [
              "-8.149037000748649e-13"
            ]
          },
          "metadata": {},
          "execution_count": 66
        }
      ]
    },
    {
      "cell_type": "code",
      "source": [
        "linalg.null_space(C).shape"
      ],
      "metadata": {
        "colab": {
          "base_uri": "https://localhost:8080/"
        },
        "id": "U3OhWDHKOU3_",
        "outputId": "e4f5a81e-39b5-467b-9d83-8ce56b26d445"
      },
      "execution_count": null,
      "outputs": [
        {
          "output_type": "execute_result",
          "data": {
            "text/plain": [
              "(4, 1)"
            ]
          },
          "metadata": {},
          "execution_count": 67
        }
      ]
    },
    {
      "cell_type": "code",
      "source": [
        "np.linalg.matrix_rank(C)"
      ],
      "metadata": {
        "colab": {
          "base_uri": "https://localhost:8080/"
        },
        "id": "c72GsAfdOVun",
        "outputId": "0fbda00d-26f7-4a73-e97a-ba5490120535"
      },
      "execution_count": null,
      "outputs": [
        {
          "output_type": "execute_result",
          "data": {
            "text/plain": [
              "3"
            ]
          },
          "metadata": {},
          "execution_count": 68
        }
      ]
    },
    {
      "cell_type": "markdown",
      "source": [
        "Inversa"
      ],
      "metadata": {
        "id": "tj0YhsRKOXji"
      }
    },
    {
      "cell_type": "code",
      "source": [
        "# A^-1 = 1/det(A) * Adj(A)"
      ],
      "metadata": {
        "id": "YN7yAXHoOW6g"
      },
      "execution_count": null,
      "outputs": []
    },
    {
      "cell_type": "code",
      "source": [
        "A = np.matrix([[2,-7,1],[0,8,3],[1,0,-12]])\n",
        "A"
      ],
      "metadata": {
        "colab": {
          "base_uri": "https://localhost:8080/"
        },
        "id": "Pz9InwyDOg_x",
        "outputId": "4bf88b43-e5a8-4fbc-b1f6-1c7c7cd725a9"
      },
      "execution_count": null,
      "outputs": [
        {
          "output_type": "execute_result",
          "data": {
            "text/plain": [
              "matrix([[  2,  -7,   1],\n",
              "        [  0,   8,   3],\n",
              "        [  1,   0, -12]])"
            ]
          },
          "metadata": {},
          "execution_count": 70
        }
      ]
    },
    {
      "cell_type": "code",
      "source": [
        "A.I"
      ],
      "metadata": {
        "colab": {
          "base_uri": "https://localhost:8080/"
        },
        "id": "JIyH-IerOlqR",
        "outputId": "267091e5-701d-46c7-cf19-01de35215ec7"
      },
      "execution_count": null,
      "outputs": [
        {
          "output_type": "execute_result",
          "data": {
            "text/plain": [
              "matrix([[ 0.43438914,  0.3800905 ,  0.13122172],\n",
              "        [-0.01357466,  0.11312217,  0.02714932],\n",
              "        [ 0.0361991 ,  0.03167421, -0.07239819]])"
            ]
          },
          "metadata": {},
          "execution_count": 71
        }
      ]
    },
    {
      "cell_type": "code",
      "source": [
        "A.I*linalg.det(A)"
      ],
      "metadata": {
        "colab": {
          "base_uri": "https://localhost:8080/"
        },
        "id": "IzjWIYTAOm-Z",
        "outputId": "d04d0596-861e-496a-81bc-67c79fd5ca47"
      },
      "execution_count": null,
      "outputs": [
        {
          "output_type": "execute_result",
          "data": {
            "text/plain": [
              "matrix([[-96., -84., -29.],\n",
              "        [  3., -25.,  -6.],\n",
              "        [ -8.,  -7.,  16.]])"
            ]
          },
          "metadata": {},
          "execution_count": 72
        }
      ]
    },
    {
      "cell_type": "markdown",
      "source": [
        "Triangular"
      ],
      "metadata": {
        "id": "uR5oIPCHO1nU"
      }
    },
    {
      "cell_type": "code",
      "source": [
        "T = np.triu(A)\n",
        "T"
      ],
      "metadata": {
        "colab": {
          "base_uri": "https://localhost:8080/"
        },
        "id": "Sm0umTYwOvEr",
        "outputId": "040c00ef-8686-4210-8e68-34480c978076"
      },
      "execution_count": null,
      "outputs": [
        {
          "output_type": "execute_result",
          "data": {
            "text/plain": [
              "array([[  2,  -7,   1],\n",
              "       [  0,   8,   3],\n",
              "       [  0,   0, -12]])"
            ]
          },
          "metadata": {},
          "execution_count": 73
        }
      ]
    },
    {
      "cell_type": "code",
      "source": [
        "T*T"
      ],
      "metadata": {
        "colab": {
          "base_uri": "https://localhost:8080/"
        },
        "id": "Aj92szxKO6T4",
        "outputId": "74b92c72-afd6-4209-b385-657bd5d5fe85"
      },
      "execution_count": null,
      "outputs": [
        {
          "output_type": "execute_result",
          "data": {
            "text/plain": [
              "array([[  4,  49,   1],\n",
              "       [  0,  64,   9],\n",
              "       [  0,   0, 144]])"
            ]
          },
          "metadata": {},
          "execution_count": 74
        }
      ]
    },
    {
      "cell_type": "code",
      "source": [
        "T+T"
      ],
      "metadata": {
        "colab": {
          "base_uri": "https://localhost:8080/"
        },
        "id": "cSJIMJGpO8IZ",
        "outputId": "02309e1a-853e-42b5-8807-8c14cdb7d6cb"
      },
      "execution_count": null,
      "outputs": [
        {
          "output_type": "execute_result",
          "data": {
            "text/plain": [
              "array([[  4, -14,   2],\n",
              "       [  0,  16,   6],\n",
              "       [  0,   0, -24]])"
            ]
          },
          "metadata": {},
          "execution_count": 75
        }
      ]
    },
    {
      "cell_type": "code",
      "source": [
        "linalg.det(T)"
      ],
      "metadata": {
        "colab": {
          "base_uri": "https://localhost:8080/"
        },
        "id": "tRFUPdvwO9Oo",
        "outputId": "4480fdc7-b1a5-46b9-a30b-acc4aa2e2ab7"
      },
      "execution_count": null,
      "outputs": [
        {
          "output_type": "execute_result",
          "data": {
            "text/plain": [
              "-192.0"
            ]
          },
          "metadata": {},
          "execution_count": 76
        }
      ]
    },
    {
      "cell_type": "code",
      "source": [
        "np.prod(np.diag(T))"
      ],
      "metadata": {
        "colab": {
          "base_uri": "https://localhost:8080/"
        },
        "id": "U5t1LhbGO-oZ",
        "outputId": "dcfa7151-78e3-4bab-b2ab-19ac9baa9e55"
      },
      "execution_count": null,
      "outputs": [
        {
          "output_type": "execute_result",
          "data": {
            "text/plain": [
              "-192"
            ]
          },
          "metadata": {},
          "execution_count": 77
        }
      ]
    },
    {
      "cell_type": "code",
      "source": [
        "np.linalg.matrix_rank(T)"
      ],
      "metadata": {
        "colab": {
          "base_uri": "https://localhost:8080/"
        },
        "id": "fSfGZcnFO_64",
        "outputId": "87fcefae-e293-4c2b-b4a1-f59b40e0d364"
      },
      "execution_count": null,
      "outputs": [
        {
          "output_type": "execute_result",
          "data": {
            "text/plain": [
              "3"
            ]
          },
          "metadata": {},
          "execution_count": 78
        }
      ]
    },
    {
      "cell_type": "markdown",
      "source": [
        "Transpuesta"
      ],
      "metadata": {
        "id": "ZddXZMi4PBgu"
      }
    },
    {
      "cell_type": "code",
      "source": [
        "A"
      ],
      "metadata": {
        "colab": {
          "base_uri": "https://localhost:8080/"
        },
        "id": "yH7s5pbtPA8B",
        "outputId": "1950bc76-91f6-494a-907a-121585ebfde7"
      },
      "execution_count": null,
      "outputs": [
        {
          "output_type": "execute_result",
          "data": {
            "text/plain": [
              "matrix([[  2,  -7,   1],\n",
              "        [  0,   8,   3],\n",
              "        [  1,   0, -12]])"
            ]
          },
          "metadata": {},
          "execution_count": 79
        }
      ]
    },
    {
      "cell_type": "code",
      "source": [
        "A.T"
      ],
      "metadata": {
        "colab": {
          "base_uri": "https://localhost:8080/"
        },
        "id": "NhSGOYChPyxt",
        "outputId": "ccabcf8f-3e58-452b-baf5-63d9e6fd9913"
      },
      "execution_count": null,
      "outputs": [
        {
          "output_type": "execute_result",
          "data": {
            "text/plain": [
              "matrix([[  2,   0,   1],\n",
              "        [ -7,   8,   0],\n",
              "        [  1,   3, -12]])"
            ]
          },
          "metadata": {},
          "execution_count": 80
        }
      ]
    },
    {
      "cell_type": "code",
      "source": [
        "# A.T.T == A"
      ],
      "metadata": {
        "id": "eMdZc1AJQNtH"
      },
      "execution_count": null,
      "outputs": []
    },
    {
      "cell_type": "code",
      "source": [
        "A.T.T"
      ],
      "metadata": {
        "colab": {
          "base_uri": "https://localhost:8080/"
        },
        "id": "AtEM0ndYP1da",
        "outputId": "1bca6413-0bfe-4e26-d6da-b9c713039831"
      },
      "execution_count": null,
      "outputs": [
        {
          "output_type": "execute_result",
          "data": {
            "text/plain": [
              "matrix([[  2,  -7,   1],\n",
              "        [  0,   8,   3],\n",
              "        [  1,   0, -12]])"
            ]
          },
          "metadata": {},
          "execution_count": 84
        }
      ]
    },
    {
      "cell_type": "code",
      "source": [
        "B"
      ],
      "metadata": {
        "colab": {
          "base_uri": "https://localhost:8080/"
        },
        "id": "bcv9UbxZP8B_",
        "outputId": "d2aaa0cf-a0d7-42bf-9448-8227b9f41f9c"
      },
      "execution_count": null,
      "outputs": [
        {
          "output_type": "execute_result",
          "data": {
            "text/plain": [
              "matrix([[ 4,  7,  6],\n",
              "        [ 7, -3, -2],\n",
              "        [ 9, -2, 10]])"
            ]
          },
          "metadata": {},
          "execution_count": 85
        }
      ]
    },
    {
      "cell_type": "code",
      "source": [
        "# (A+B).T == A.T + B.T"
      ],
      "metadata": {
        "id": "l3a459M7QMik"
      },
      "execution_count": null,
      "outputs": []
    },
    {
      "cell_type": "code",
      "source": [
        "(A+B).T"
      ],
      "metadata": {
        "colab": {
          "base_uri": "https://localhost:8080/"
        },
        "id": "2ddQH1N8QG6K",
        "outputId": "0d4ca07a-5680-4d63-9da0-9e8b499f99dc"
      },
      "execution_count": null,
      "outputs": [
        {
          "output_type": "execute_result",
          "data": {
            "text/plain": [
              "matrix([[ 6,  7, 10],\n",
              "        [ 0,  5, -2],\n",
              "        [ 7,  1, -2]])"
            ]
          },
          "metadata": {},
          "execution_count": 90
        }
      ]
    },
    {
      "cell_type": "code",
      "source": [
        "A.T + B.T"
      ],
      "metadata": {
        "colab": {
          "base_uri": "https://localhost:8080/"
        },
        "id": "hgi71MJ_QJmJ",
        "outputId": "8c9359aa-66f5-4504-b2bf-f0e7b377ac49"
      },
      "execution_count": null,
      "outputs": [
        {
          "output_type": "execute_result",
          "data": {
            "text/plain": [
              "matrix([[ 6,  7, 10],\n",
              "        [ 0,  5, -2],\n",
              "        [ 7,  1, -2]])"
            ]
          },
          "metadata": {},
          "execution_count": 91
        }
      ]
    },
    {
      "cell_type": "code",
      "source": [
        "# (c*A).T == c*A.T"
      ],
      "metadata": {
        "id": "SkGscu_iQLbo"
      },
      "execution_count": null,
      "outputs": []
    },
    {
      "cell_type": "code",
      "source": [
        "(3*A).T"
      ],
      "metadata": {
        "colab": {
          "base_uri": "https://localhost:8080/"
        },
        "id": "BxtQZEUZQbDE",
        "outputId": "8abf619a-4b0a-426c-e879-d01fcfa0aefb"
      },
      "execution_count": null,
      "outputs": [
        {
          "output_type": "execute_result",
          "data": {
            "text/plain": [
              "matrix([[  6,   0,   3],\n",
              "        [-21,  24,   0],\n",
              "        [  3,   9, -36]])"
            ]
          },
          "metadata": {},
          "execution_count": 94
        }
      ]
    },
    {
      "cell_type": "code",
      "source": [
        "3*(A.T)"
      ],
      "metadata": {
        "colab": {
          "base_uri": "https://localhost:8080/"
        },
        "id": "aRKzPlNZQcnM",
        "outputId": "6ef4ee9b-480b-4065-8607-92fbbaa409e8"
      },
      "execution_count": null,
      "outputs": [
        {
          "output_type": "execute_result",
          "data": {
            "text/plain": [
              "matrix([[  6,   0,   3],\n",
              "        [-21,  24,   0],\n",
              "        [  3,   9, -36]])"
            ]
          },
          "metadata": {},
          "execution_count": 95
        }
      ]
    },
    {
      "cell_type": "code",
      "source": [
        "# (A*B).T == B.T * A.T"
      ],
      "metadata": {
        "id": "WX-VN7JdQkDS"
      },
      "execution_count": null,
      "outputs": []
    },
    {
      "cell_type": "code",
      "source": [
        "(A*B).T"
      ],
      "metadata": {
        "colab": {
          "base_uri": "https://localhost:8080/"
        },
        "id": "P8hkCWpaQtwg",
        "outputId": "28b429c9-ace2-4ca1-fbc2-178f39982fb9"
      },
      "execution_count": null,
      "outputs": [
        {
          "output_type": "execute_result",
          "data": {
            "text/plain": [
              "matrix([[ -32,   83, -104],\n",
              "        [  33,  -30,   31],\n",
              "        [  36,   14, -114]])"
            ]
          },
          "metadata": {},
          "execution_count": 97
        }
      ]
    },
    {
      "cell_type": "code",
      "source": [
        "B.T * A.T"
      ],
      "metadata": {
        "colab": {
          "base_uri": "https://localhost:8080/"
        },
        "id": "pd_8_heWQuG4",
        "outputId": "8980e418-c316-4348-e07c-6290f7671cb3"
      },
      "execution_count": null,
      "outputs": [
        {
          "output_type": "execute_result",
          "data": {
            "text/plain": [
              "matrix([[ -32,   83, -104],\n",
              "        [  33,  -30,   31],\n",
              "        [  36,   14, -114]])"
            ]
          },
          "metadata": {},
          "execution_count": 98
        }
      ]
    },
    {
      "cell_type": "markdown",
      "source": [
        "Valores y vectores propios"
      ],
      "metadata": {
        "id": "wWoavNs2Q1Bb"
      }
    },
    {
      "cell_type": "code",
      "source": [
        "A"
      ],
      "metadata": {
        "colab": {
          "base_uri": "https://localhost:8080/"
        },
        "id": "bnD0kRSyQvgP",
        "outputId": "4c065cd9-57c8-4d13-fabd-28bd8cf6dbf7"
      },
      "execution_count": null,
      "outputs": [
        {
          "output_type": "execute_result",
          "data": {
            "text/plain": [
              "matrix([[  2,  -7,   1],\n",
              "        [  0,   8,   3],\n",
              "        [  1,   0, -12]])"
            ]
          },
          "metadata": {},
          "execution_count": 99
        }
      ]
    },
    {
      "cell_type": "code",
      "source": [
        "valores_propios, vectores_propios = linalg.eig(A)"
      ],
      "metadata": {
        "id": "cpqr2bicQ4fj"
      },
      "execution_count": null,
      "outputs": []
    },
    {
      "cell_type": "code",
      "source": [
        "valores_propios"
      ],
      "metadata": {
        "colab": {
          "base_uri": "https://localhost:8080/"
        },
        "id": "dWxObEZNQ5on",
        "outputId": "b1380ad2-f7f3-46ea-9909-4bf230b41cf0"
      },
      "execution_count": null,
      "outputs": [
        {
          "output_type": "execute_result",
          "data": {
            "text/plain": [
              "array([-12.14440153+0.j,   2.32820093+0.j,   7.8162006 +0.j])"
            ]
          },
          "metadata": {},
          "execution_count": 101
        }
      ]
    },
    {
      "cell_type": "code",
      "source": [
        "vectores_propios"
      ],
      "metadata": {
        "colab": {
          "base_uri": "https://localhost:8080/"
        },
        "id": "PpGPoaV7Q7Ci",
        "outputId": "11c04d73-44d1-43f2-865f-fdaa23b95674"
      },
      "execution_count": null,
      "outputs": [
        {
          "output_type": "execute_result",
          "data": {
            "text/plain": [
              "array([[ 0.14139151, -0.99689763,  0.77128956],\n",
              "       [ 0.14582044,  0.03680097, -0.63529323],\n",
              "       [-0.97915517, -0.06957591,  0.03892217]])"
            ]
          },
          "metadata": {},
          "execution_count": 102
        }
      ]
    },
    {
      "cell_type": "code",
      "source": [
        ""
      ],
      "metadata": {
        "id": "8V6LUD0nQ8G7"
      },
      "execution_count": null,
      "outputs": []
    }
  ]
}