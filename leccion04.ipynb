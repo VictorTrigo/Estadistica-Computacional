{
  "nbformat": 4,
  "nbformat_minor": 0,
  "metadata": {
    "colab": {
      "name": "leccion04.ipynb",
      "provenance": [],
      "collapsed_sections": [],
      "authorship_tag": "ABX9TyMeEucONMqQRS0vntAFIL1I",
      "include_colab_link": true
    },
    "kernelspec": {
      "name": "python3",
      "display_name": "Python 3"
    },
    "language_info": {
      "name": "python"
    }
  },
  "cells": [
    {
      "cell_type": "markdown",
      "metadata": {
        "id": "view-in-github",
        "colab_type": "text"
      },
      "source": [
        "<a href=\"https://colab.research.google.com/github/VictorTrigo/Estadistica-Computacional/blob/master/leccion04.ipynb\" target=\"_parent\"><img src=\"https://colab.research.google.com/assets/colab-badge.svg\" alt=\"Open In Colab\"/></a>"
      ]
    },
    {
      "cell_type": "code",
      "source": [
        "A= [64, 25, 12, 22, 11]"
      ],
      "metadata": {
        "id": "1O0jjovpg72U"
      },
      "execution_count": 1,
      "outputs": []
    },
    {
      "cell_type": "markdown",
      "source": [
        "Selection Sort"
      ],
      "metadata": {
        "id": "t5aOyHzkhfGL"
      }
    },
    {
      "cell_type": "code",
      "execution_count": 5,
      "metadata": {
        "id": "1HBHjaUcYAqs"
      },
      "outputs": [],
      "source": [
        "def selectionSort(arr): \n",
        "  for i in range(len(arr)):\n",
        "    min_idx = i\n",
        "    for j in range(i+1, len(arr)):\n",
        "      if arr[min_idx] > arr[j]:\n",
        "        min_idx = j\n",
        "    arr[i], arr[min_idx] = arr[min_idx], arr[i]\n",
        "  print(\"Arreglo ordenado:\")\n",
        "  for i in range(len(arr)):\n",
        "    print(\"%d\" %arr[i], end=\" \")"
      ]
    },
    {
      "cell_type": "code",
      "source": [
        "selectionSort(A)"
      ],
      "metadata": {
        "colab": {
          "base_uri": "https://localhost:8080/"
        },
        "id": "e7Q_WBPkhHTT",
        "outputId": "83e16f77-8dca-4433-e056-4a8463601205"
      },
      "execution_count": 6,
      "outputs": [
        {
          "output_type": "stream",
          "name": "stdout",
          "text": [
            "Arreglo ordenado:\n",
            "11 12 22 25 64 "
          ]
        }
      ]
    },
    {
      "cell_type": "markdown",
      "source": [
        "Bubble Sort"
      ],
      "metadata": {
        "id": "FoZvTts5hiEV"
      }
    },
    {
      "cell_type": "code",
      "source": [
        "def bubbleSort(arr):\n",
        "  n = len(arr)\n",
        "  for i in range(n-1):\n",
        "    for j in range(0, n-i-1):\n",
        "      if arr[j] > arr[j + 1]:\n",
        "        arr[j], arr[j + 1] = arr[j + 1], arr[j]\n",
        "  print(\"Arreglo ordenado: \")\n",
        "  for i in range(len(arr)):\n",
        "    print(\"%d\" %arr[i], end=\" \")"
      ],
      "metadata": {
        "id": "KtcpAbSlZ_Eb"
      },
      "execution_count": 7,
      "outputs": []
    },
    {
      "cell_type": "code",
      "source": [
        "bubbleSort(A)"
      ],
      "metadata": {
        "colab": {
          "base_uri": "https://localhost:8080/"
        },
        "id": "UEXS0u_-bedP",
        "outputId": "e06b0ddb-5e0d-4a40-8351-f745284380fb"
      },
      "execution_count": 8,
      "outputs": [
        {
          "output_type": "stream",
          "name": "stdout",
          "text": [
            "Arreglo ordenado: \n",
            "11 12 22 25 64 "
          ]
        }
      ]
    },
    {
      "cell_type": "markdown",
      "source": [
        "Merge Sort"
      ],
      "metadata": {
        "id": "IsZ2dEbvhkOK"
      }
    },
    {
      "cell_type": "code",
      "source": [
        "def merge(arr, l, m, r):\n",
        "  n1 = m - l + 1\n",
        "  n2 = r - m\n",
        "\n",
        "  L = [0] * (n1)\n",
        "  R = [0] * (n2)\n",
        "\n",
        "  for i in range(0, n1):\n",
        "    L[i] = arr[l+i]\n",
        "  for j in range(0, n2):\n",
        "    R[j] = arr[m + 1 + j]\n",
        "\n",
        "  i = 0 \n",
        "  j = 0 \n",
        "  k = l \n",
        "\n",
        "  while i < n1 and j < n2:\n",
        "    if L[i] <= R[j]:\n",
        "      arr[k] = L[i]\n",
        "      i += 1\n",
        "    else:\n",
        "      arr[k] = R[j]\n",
        "      j += 1\n",
        "    k += 1\n",
        "  \n",
        "  while i < n1:\n",
        "    arr[k] = L[i]\n",
        "    i += 1\n",
        "    k += 1\n",
        "\n",
        "  while j < n2:\n",
        "    arr[k] = R[j]\n",
        "    j += 1\n",
        "    k += 1\n",
        "\n",
        "def mergeSort(arr, l, r):\n",
        "  if l < r:\n",
        "    m = l + (r-1)//2\n",
        "    mergeSort(arr, l, m)\n",
        "    mergeSort(arr, m+1, r)\n",
        "    merge(arr, l, m, r)\n",
        "  print(\"El arreglo dado es el siguiente: \")\n",
        "  for i in range(len(arr)):\n",
        "    print(\"%d\" % arr[i],end=\" \")"
      ],
      "metadata": {
        "id": "j4DVK_P-gyc9"
      },
      "execution_count": 9,
      "outputs": []
    },
    {
      "cell_type": "code",
      "source": [
        "mergeSort(A,12,3)"
      ],
      "metadata": {
        "id": "XRe6iDfIikIB",
        "colab": {
          "base_uri": "https://localhost:8080/"
        },
        "outputId": "08acd362-ab9d-4d37-f165-7fafed97c918"
      },
      "execution_count": 11,
      "outputs": [
        {
          "output_type": "stream",
          "name": "stdout",
          "text": [
            "El arreglo dado es el siguiente: \n",
            "11 12 22 25 64 "
          ]
        }
      ]
    },
    {
      "cell_type": "markdown",
      "source": [
        "Quick Sort"
      ],
      "metadata": {
        "id": "oQlkKs5xh1Z_"
      }
    },
    {
      "cell_type": "code",
      "source": [
        "def partition(arr, low ,high):\n",
        "  i = (low - 1) \n",
        "  pivot = arr[high] \n",
        "  for j in range(low, high):\n",
        "    if arr[j] <= pivot:\n",
        "      i = i+1\n",
        "      arr[i], arr[j] = arr[j], arr[i]\n",
        "  arr[i+1], arr[high] = arr[high], arr[i+1]\n",
        "  return(i+1)\n",
        "\n",
        "def quickSort(arr, low, high):\n",
        "  if len(arr) == 1:\n",
        "    return arr\n",
        "  if low < high:\n",
        "    pi = partition(arr, low, high)\n",
        "    quickSort(arr, low , pi-1)\n",
        "    quickSort(arr, pi+1, high)\n",
        "  print(\"Arreglo ordenado: \")\n",
        "  for i in range(len(arr)):\n",
        "    print(\"%d \" %arr[i],end=\" \")"
      ],
      "metadata": {
        "id": "jCShAdrmi5OD"
      },
      "execution_count": 12,
      "outputs": []
    },
    {
      "cell_type": "code",
      "source": [
        "quickSort(A,5,3)"
      ],
      "metadata": {
        "id": "BbAFOqhP0sL3",
        "colab": {
          "base_uri": "https://localhost:8080/"
        },
        "outputId": "ef6a7bfc-11b7-4370-e9fd-2ed91b1fb9c1"
      },
      "execution_count": 13,
      "outputs": [
        {
          "output_type": "stream",
          "name": "stdout",
          "text": [
            "Arreglo ordenado: \n",
            "11  12  22  25  64  "
          ]
        }
      ]
    },
    {
      "cell_type": "code",
      "source": [
        ""
      ],
      "metadata": {
        "id": "yuc6FtzEiCVT"
      },
      "execution_count": null,
      "outputs": []
    }
  ]
}