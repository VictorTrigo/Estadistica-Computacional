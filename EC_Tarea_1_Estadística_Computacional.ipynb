{
  "cells": [
    {
      "cell_type": "markdown",
      "metadata": {
        "id": "view-in-github",
        "colab_type": "text"
      },
      "source": [
        "<a href=\"https://colab.research.google.com/github/VictorTrigo/Estadistica-Computacional/blob/master/EC_Tarea_1_Estad%C3%ADstica_Computacional.ipynb\" target=\"_parent\"><img src=\"https://colab.research.google.com/assets/colab-badge.svg\" alt=\"Open In Colab\"/></a>"
      ]
    },
    {
      "cell_type": "markdown",
      "metadata": {
        "id": "AHwh8pEKeYYz"
      },
      "source": [
        "# Tarea 1 - Estadística Computacional\n",
        "\n",
        "- Nombre: Víctor Trigo\n",
        "- Nombre: __________________\n",
        "\n",
        "Curso: Estadística Computacional\n",
        "\n",
        "Doctorado en Estadística\n",
        "\n",
        "\n",
        "Responda las preguntas que se indican colocando el código requerido. El Notebook se entrega totalmente ejecutado."
      ]
    },
    {
      "cell_type": "markdown",
      "metadata": {
        "id": "hJSM7VpweYZM"
      },
      "source": [
        "**Ingrese los Toolbox que se utilizarán en este Jupyter**"
      ]
    },
    {
      "cell_type": "code",
      "execution_count": null,
      "metadata": {
        "id": "PtEZppw_eYZN"
      },
      "outputs": [],
      "source": [
        "import numpy as np"
      ]
    },
    {
      "cell_type": "markdown",
      "metadata": {
        "id": "5KkNh4CReYZP"
      },
      "source": [
        "## 1. Indicadores estadísticos.\n",
        "\n",
        "En estadística, en muchas ocasiones se requiere implementar indicadores o estadísticos. En esta pregunta deberá implementar los siguientes indicadores:"
      ]
    },
    {
      "cell_type": "markdown",
      "metadata": {
        "id": "whUAjuMCeYah"
      },
      "source": [
        "1. **Symmetric mean absolute percentage error (SMAPE or sMAPE)**: es una medida de precisión basada en errores porcentuales (o relativos).\n",
        "\n",
        "$$sMAPE = \\frac{100\\%}{n}\\sum_{t=1}^n \\frac{|F_t-A_t|}{(|A_t|+|F_t|)/2}$$\n",
        "\n",
        "donde $A_t$ es el valor real y $F_t$ es el valor de pronóstico.\n",
        "\n",
        "Implementar la Función sMAPE:"
      ]
    },
    {
      "cell_type": "code",
      "execution_count": null,
      "metadata": {
        "id": "MZPv0VUZeYai"
      },
      "outputs": [],
      "source": [
        "def smape(at, ft):\n",
        "  suma = 0\n",
        "  for j in range(0,19):\n",
        "    s = abs(ft[j] - at[j]) / (abs(at[j]) + abs(ft[j]))/2\n",
        "    suma = suma + s\n",
        "  suma = round((suma/len(at))*100, 2)\n",
        "  print('Symmetric mean absolute percentage error (sMAPE): ', suma, '%')"
      ]
    },
    {
      "cell_type": "markdown",
      "metadata": {
        "id": "1pnM7aC4eYaj"
      },
      "source": [
        "Aplicar la función sMAPE de las siguientes listas:\n",
        "\n",
        "Dato = { 1.5 ,  2.89, -0.08, -2.93, -1.35,  2.26,  2.47, -1.05, -2.98,\n",
        "       -0.41,  2.78,  1.78, -1.91, -2.71,  0.58,  3.  ,  0.9 , -2.56,\n",
        "       -2.15,  1.5 }\n",
        "       \n",
        "Predicción = { 3.58,  4.3 ,  0.5 , -3.11, -1.94,  3.71,  1.56, -1.55, -2.77,\n",
        "       -0.51,  2.93,  2.14, -1.76, -1.96, -0.51,  2.96, -0.34, -3.33,\n",
        "       -3.49,  1.5}\n"
      ]
    },
    {
      "cell_type": "code",
      "source": [
        "dato       = [1.5 , 2.89, -0.08, -2.93, -1.35, 2.26, 2.47, -1.05, -2.98, -0.41, 2.78, 1.78, -1.91, -2.71,  0.58, 3.  ,  0.9 , -2.56, -2.15, 1.5]\n",
        "prediccion = [3.58, 4.3 ,  0.5 , -3.11, -1.94, 3.71, 1.56, -1.55, -2.77, -0.51, 2.93, 2.14, -1.76, -1.96, -0.51, 2.96, -0.34, -3.33, -3.49, 1.5]"
      ],
      "metadata": {
        "id": "E_a_6eCtY0_z"
      },
      "execution_count": null,
      "outputs": []
    },
    {
      "cell_type": "code",
      "execution_count": null,
      "metadata": {
        "id": "Z1CM8opKeYal",
        "outputId": "54820676-7a78-4539-f514-072985f8db91",
        "colab": {
          "base_uri": "https://localhost:8080/"
        }
      },
      "outputs": [
        {
          "output_type": "stream",
          "name": "stdout",
          "text": [
            "Symmetric mean absolute percentage error (sMAPE):  13.29 %\n"
          ]
        }
      ],
      "source": [
        "smape(dato, prediccion)"
      ]
    },
    {
      "cell_type": "markdown",
      "metadata": {
        "id": "Cp6TpBnheYan"
      },
      "source": [
        "2. **Coeficiente de correlación de Spearman ($\\rho$)**: es una medida de la correlación (la asociación o interdependencia) entre dos variables aleatorias (tanto continuas como discretas). Para calcular $\\rho$, los datos son ordenados y reemplazados por su respectivo orden.\n",
        "\n",
        "El estadístico está dado por:\n",
        "\n",
        "$$\\rho = 1 - \\frac{6\\sum_i D_{(i)}^2}{N(N^2-1)}$$\n",
        "\n",
        "donde $D_{(i)}$ es la diferencia entre los correspondientes estadísticos de orden de $x$ e $y$. $N$ es el número de parejas de datos.\n"
      ]
    },
    {
      "cell_type": "code",
      "execution_count": null,
      "metadata": {
        "id": "yvkTB97geYau"
      },
      "outputs": [],
      "source": [
        "def phi(at, ft):\n",
        "  ft = sorted(ft)\n",
        "  at = sorted(at)\n",
        "  suma = 0\n",
        "  for j in range(0,19):\n",
        "    s = (ft[j] - at[j])**2\n",
        "    suma = suma + s\n",
        "  p = 1-((6*suma)/(19*(19**2-1)))\n",
        "  print('Coeficiente de correlación de Spearman (p): ', round(p, 4))"
      ]
    },
    {
      "cell_type": "markdown",
      "metadata": {
        "id": "EIcwkqHCeYax"
      },
      "source": [
        "Calcular el coeficiente de correlación de Spearman para los siguientes datos:\n",
        "    \n",
        "Dato = { 1.5 ,  2.89, -0.08, -2.93, -1.35,  2.26,  2.47, -1.05, -2.98,\n",
        "       -0.41,  2.78,  1.78, -1.91, -2.71,  0.58,  3.  ,  0.9 , -2.56,\n",
        "       -2.15,  1.5 }\n",
        "       \n",
        "Predicción = { 3.58,  4.3 ,  0.5 , -3.11, -1.94,  3.71,  1.56, -1.55, -2.77,\n",
        "       -0.51,  2.93,  2.14, -1.76, -1.96, -0.51,  2.96, -0.34, -3.33,\n",
        "       -3.49,  1.5}"
      ]
    },
    {
      "cell_type": "code",
      "execution_count": null,
      "metadata": {
        "id": "ENTRX3iTeYay"
      },
      "outputs": [],
      "source": [
        "dato       = [1.5 , 2.89, -0.08, -2.93, -1.35, 2.26, 2.47, -1.05, -2.98, -0.41, 2.78, 1.78, -1.91, -2.71,  0.58, 3.  , 0.9  , -2.56, -2.15, 1.5]\n",
        "prediccion = [3.58, 4.3 ,  0.5 , -3.11, -1.94, 3.71, 1.56, -1.55, -2.77, -0.51, 2.93, 2.14, -1.76, -1.96, -0.51, 2.96, -0.34, -3.33, -3.49, 1.5]"
      ]
    },
    {
      "cell_type": "code",
      "source": [
        "phi(dato, prediccion)"
      ],
      "metadata": {
        "colab": {
          "base_uri": "https://localhost:8080/"
        },
        "id": "j5ypvVS0d0uB",
        "outputId": "eb3edb28-8d02-4573-e1cc-40ea53cf1911"
      },
      "execution_count": null,
      "outputs": [
        {
          "output_type": "stream",
          "name": "stdout",
          "text": [
            "Coeficiente de correlación de Spearman (p):  0.9961\n"
          ]
        }
      ]
    },
    {
      "cell_type": "markdown",
      "metadata": {
        "id": "isWmCc2ReYaz"
      },
      "source": [
        "3. **Coeficiente de Gini:** es una medida de la desigualdad. El coeficiente de Gini es un número entre 0 y 1, en donde 0 se corresponde con la perfecta igualdad (todos tienen los mismos ingresos) y donde el valor 1 se corresponde con la perfecta desigualdad. Para obtener el coeficiente de Gini, en general se utiliza la fórmila de Brown:\n",
        "\n",
        "$$G = \\left|1 - \\sum_{k=1}^n (X_{k+1}-X_k)(Y_{k+1}+Y_k)\\right|$$\n",
        "\n",
        "donde $X$ e $Y$ corresponden a la proporción acumulada de las variables.\n",
        "\n",
        "Implementar la función que calcule el coeficiente de Gini.\n"
      ]
    },
    {
      "cell_type": "code",
      "execution_count": null,
      "metadata": {
        "id": "xPQa6UFIeYaz"
      },
      "outputs": [],
      "source": [
        "def G(x, y):\n",
        "  suma = 0\n",
        "  for j in range(0,4):\n",
        "    s = (x[j+1] - x[j]) * (y[j+1] - y[j])\n",
        "    suma = suma + s\n",
        "  g = abs(1-suma)\n",
        "  print('Coeficiente de Gini (G): ', g)"
      ]
    },
    {
      "cell_type": "markdown",
      "metadata": {
        "id": "7YQnfOjyeYa0"
      },
      "source": [
        "Obtener el coeficiente de Gini para las siguientes dos proporciones:\n",
        "\n",
        "| Variables Acumuladas| Clase 1 | Clase 2 | Clase 3 | Clase 4 | Clase 5 |\n",
        "| --- | --- | --- | --- | --- | --- |\n",
        "| X | 0.09 | 0.33 | 0.45 | 0.78 | 1 |\n",
        "| Y | 0.17 | 0.48 | 0.62 | 0.86 | 1 |\n",
        "\n"
      ]
    },
    {
      "cell_type": "code",
      "execution_count": null,
      "metadata": {
        "id": "OBGzGDcteYa3"
      },
      "outputs": [],
      "source": [
        "X = [0.09, 0.33, 0.45, 0.78, 1]\n",
        "Y = [0.17, 0.48, 0.62, 0.86, 1]"
      ]
    },
    {
      "cell_type": "code",
      "source": [
        "G(X, Y)"
      ],
      "metadata": {
        "colab": {
          "base_uri": "https://localhost:8080/"
        },
        "id": "lXGJl3kLlCyE",
        "outputId": "7e8c3e61-f949-46ff-96a4-88a121d76317"
      },
      "execution_count": null,
      "outputs": [
        {
          "output_type": "stream",
          "name": "stdout",
          "text": [
            "Coeficiente de Gini (G):  0.7988\n"
          ]
        }
      ]
    },
    {
      "cell_type": "markdown",
      "metadata": {
        "id": "ZbsjvoX9eYa4"
      },
      "source": [
        "## 2. Algoritmos"
      ]
    },
    {
      "cell_type": "markdown",
      "metadata": {
        "id": "1RC26f0LeYa6"
      },
      "source": [
        "1. Dado dos conjuntos de datos ordenados y de tamaños diferentes, realizar una función que mezcle ambos conjunto y genere un nuevo conjunto con todos los datos ordenados."
      ]
    },
    {
      "cell_type": "code",
      "source": [
        "def mezclar_ordenar(A, B):\n",
        "  return sorted(A + B)"
      ],
      "metadata": {
        "id": "g8UV4x3xlaeo"
      },
      "execution_count": null,
      "outputs": []
    },
    {
      "cell_type": "markdown",
      "metadata": {
        "id": "6xUdjLZ9eYbA"
      },
      "source": [
        "Aplicar el algoritmo para mezclar y ordenar los siguientes conjuntos:\n",
        "\n",
        "$$D_1 = \\{5, 7, 15, 23, 45, 72, 83\\}$$\n",
        "\n",
        "$$D_2= \\{1, 2, 6, 29, 37, 75, 100, 110, 115, 117\\}$$"
      ]
    },
    {
      "cell_type": "code",
      "execution_count": null,
      "metadata": {
        "id": "GX0SrIj-eYbH"
      },
      "outputs": [],
      "source": [
        "d1 = [5, 7, 15, 23, 45, 72, 83] \n",
        "d2 = [1, 2, 6, 29, 37, 75, 100, 110, 115, 117]"
      ]
    },
    {
      "cell_type": "code",
      "source": [
        "mezclar_ordenar(d1, d2)"
      ],
      "metadata": {
        "colab": {
          "base_uri": "https://localhost:8080/"
        },
        "id": "9VEGE7nhlX5x",
        "outputId": "c650aa9e-8101-42ed-c424-fde03239166f"
      },
      "execution_count": null,
      "outputs": [
        {
          "output_type": "execute_result",
          "data": {
            "text/plain": [
              "[1, 2, 5, 6, 7, 15, 23, 29, 37, 45, 72, 75, 83, 100, 110, 115, 117]"
            ]
          },
          "metadata": {},
          "execution_count": 12
        }
      ]
    },
    {
      "cell_type": "markdown",
      "metadata": {
        "id": "9ApSqhGteYbH"
      },
      "source": [
        "2. La equivalencia de los símbolos básicos de los números romanos es la siguiente:\n",
        "\n",
        "|Número Romano | I | V | X | L | C | D | M |\n",
        "| --- | --- | --- | --- | --- | --- | --- | --- |\n",
        "|Número decimal| 1 | 5 | 10 | 50 | 100 | 500 | 1000 |\n",
        "\n",
        "Los enteros romanos se escriben de acuerdo a las siguientes reglas:\n",
        "\n",
        "- Si una letra está seguida inmediatamente por una de igual o menor valor, su valor se suma al total acumulado. Así, XX = 20, XV = 15 y VI = 6.\n",
        "- Si una letra está seguida inmediatamente por una de mayor valor, su valor se sustrae del total acumulado. Así, IV = 4, XL = 40 y CM = 900.\n",
        "\n",
        "Escriba la función que reciba un string con un número en notación romana, y entregue el entero equivalente:"
      ]
    },
    {
      "cell_type": "code",
      "source": [
        "traductor = {\n",
        "    'I': 1,\n",
        "    'V': 5,\n",
        "    'X': 10,\n",
        "    'L': 50,\n",
        "    'C': 100,\n",
        "    'D': 500,\n",
        "    'M': 1000,\n",
        "}"
      ],
      "metadata": {
        "id": "F5ZvebXcs7N9"
      },
      "execution_count": null,
      "outputs": []
    },
    {
      "cell_type": "code",
      "source": [
        "# solo para dos dígitos \n",
        "def romano_decimal_v1():\n",
        "  numero_imput = input('Ingrese un número en notación romana: ').upper()\n",
        "  n = list(numero_imput)\n",
        "  suma = 0\n",
        "\n",
        "  for i in range(len(n)-1):\n",
        "    if n[i] not in list(traductor.keys()):\n",
        "      print('Número no valido')\n",
        "      break\n",
        "    else:\n",
        "      suma = traductor[n[i]]\n",
        "      if traductor[n[i]] >= traductor[n[i+1]]:\n",
        "        suma = suma + traductor[n[i+1]]\n",
        "      else: \n",
        "        suma = abs(suma - traductor[n[i+1]])\n",
        "\n",
        "  if suma != 0:\n",
        "    print(f'El número romano \"{numero_imput}\" en decimal es: {suma}')"
      ],
      "metadata": {
        "id": "YySlN9MCtJq2"
      },
      "execution_count": null,
      "outputs": []
    },
    {
      "cell_type": "code",
      "source": [
        "romano_decimal_v1()"
      ],
      "metadata": {
        "colab": {
          "base_uri": "https://localhost:8080/"
        },
        "id": "Lb7EP3u9F5I6",
        "outputId": "954b55af-b813-40a7-af3a-bd88686908c3"
      },
      "execution_count": null,
      "outputs": [
        {
          "output_type": "stream",
          "name": "stdout",
          "text": [
            "Ingrese un número en notación romana: cm\n",
            "El número romano \"CM\" en decimal es: 900\n"
          ]
        }
      ]
    },
    {
      "cell_type": "markdown",
      "metadata": {
        "id": "8O350tvEeYbJ"
      },
      "source": [
        "## 3. Algoritmos en Series de Tiempo\n",
        "\n",
        "Una serie de tiempo es una secuencia de valores numéricos obtenidos a intervalos de tiempos regulares.\n",
        "\n",
        "$$X=\\{x_1, x_2,....., x_t, ..., x_T\\}$$"
      ]
    },
    {
      "cell_type": "markdown",
      "metadata": {
        "id": "_0S7HkIqeYbM"
      },
      "source": [
        "1. Las medias móviles con retardo $p$ de una serie de tiempo son las secuencia de todos los promedios de $p$ valores consecutivos de la serie. Realizar una función que retorne el arreglo de las medias móviles con retardo $p$ de la serie."
      ]
    },
    {
      "cell_type": "code",
      "execution_count": null,
      "metadata": {
        "id": "xYXaftAqeYbN"
      },
      "outputs": [],
      "source": [
        "def media_movil(datos):\n",
        "  p = int(input('Ingrese parametro \"p\": '))\n",
        "  media_movil = []\n",
        "\n",
        "  for i in range(len(dato)-(p-1)):\n",
        "    v = dato[i:i+p]\n",
        "    media = sum(v)/p\n",
        "    media_movil.append(round(media,2))\n",
        "\n",
        "  print(media_movil)"
      ]
    },
    {
      "cell_type": "markdown",
      "metadata": {
        "id": "iptJ5capeYbQ"
      },
      "source": [
        "Aplicar la función a los siguientes datos:\n",
        "\n",
        "Dato = { 1.5 ,  2.89, -0.08, -2.93, -1.35,  2.26,  2.47, -1.05, -2.98,\n",
        "       -0.41,  2.78,  1.78, -1.91, -2.71,  0.58,  3.  ,  0.9 , -2.56,\n",
        "       -2.15,  1.5 }"
      ]
    },
    {
      "cell_type": "code",
      "source": [
        "dato = [1.5 , 2.89, -0.08, -2.93, -1.35, 2.26, 2.47, -1.05, -2.98, -0.41, 2.78, 1.78, -1.91, -2.71, 0.58, 3. , 0.9 , -2.56, -2.15, 1.5]"
      ],
      "metadata": {
        "id": "fqckeGUFLZ7I"
      },
      "execution_count": null,
      "outputs": []
    },
    {
      "cell_type": "code",
      "execution_count": null,
      "metadata": {
        "id": "533z4WbSeYbR",
        "colab": {
          "base_uri": "https://localhost:8080/"
        },
        "outputId": "9bf57d02-9d22-40f4-df22-6b57eec2b494"
      },
      "outputs": [
        {
          "output_type": "stream",
          "name": "stdout",
          "text": [
            "Ingrese parametro \"p\": 2\n",
            "[2.2, 1.41, -1.51, -2.14, 0.45, 2.37, 0.71, -2.02, -1.7, 1.18, 2.28, -0.06, -2.31, -1.06, 1.79, 1.95, -0.83, -2.35, -0.32]\n"
          ]
        }
      ],
      "source": [
        "media_movil(dato)"
      ]
    },
    {
      "cell_type": "markdown",
      "metadata": {
        "id": "VBG-4QCTeYbS"
      },
      "source": [
        "2. Las diferencias finitas de una serie de tiempo son la secuencia de todas las diferencias entre un valor y el anterior. Escribir una función que retorne el arreglo de las diferencias finitas de la serie."
      ]
    },
    {
      "cell_type": "code",
      "execution_count": null,
      "metadata": {
        "id": "Zcv80bZleYbV"
      },
      "outputs": [],
      "source": [
        "def diferencias_finitas(datos):\n",
        "  dif = []\n",
        "  for i in range(len(datos)-1):\n",
        "    d = datos[i] - datos[i+1]\n",
        "    dif.append(round(d, 2))\n",
        "  print(dif)"
      ]
    },
    {
      "cell_type": "markdown",
      "metadata": {
        "id": "bCn1TZtfeYbY"
      },
      "source": [
        "Aplicar la función a los siguientes datos:\n",
        "\n",
        "Dato = { 1.5 ,  2.89, -0.08, -2.93, -1.35,  2.26,  2.47, -1.05, -2.98,\n",
        "       -0.41,  2.78,  1.78, -1.91, -2.71,  0.58,  3.  ,  0.9 , -2.56,\n",
        "       -2.15,  1.5 }"
      ]
    },
    {
      "cell_type": "code",
      "execution_count": null,
      "metadata": {
        "id": "kanpWIbeeYbZ"
      },
      "outputs": [],
      "source": [
        "dato = [1.5 , 2.89, -0.08, -2.93, -1.35, 2.26, 2.47, -1.05, -2.98, -0.41, 2.78, 1.78, -1.91, -2.71, 0.58, 3. , 0.9 , -2.56, -2.15, 1.5]"
      ]
    },
    {
      "cell_type": "code",
      "source": [
        "diferencias_finitas(dato)"
      ],
      "metadata": {
        "colab": {
          "base_uri": "https://localhost:8080/"
        },
        "id": "Dv4AM10vN3ep",
        "outputId": "3b156a3c-ee5e-402f-a702-c2c7961c9f98"
      },
      "execution_count": null,
      "outputs": [
        {
          "output_type": "stream",
          "name": "stdout",
          "text": [
            "[-1.39, 2.97, 2.85, -1.58, -3.61, -0.21, 3.52, 1.93, -2.57, -3.19, 1.0, 3.69, 0.8, -3.29, -2.42, 2.1, 3.46, -0.41, -3.65]\n"
          ]
        }
      ]
    },
    {
      "cell_type": "markdown",
      "metadata": {
        "id": "umMlatX3eYbd"
      },
      "source": [
        "3. En algunos métodos se requiere construir la matriz de rezagos de orden p. Esto es, dado la serie de tiempo:\n",
        "\n",
        "$$X=\\{x_1, x_2,....., x_t, ..., x_T\\}$$\n",
        "\n",
        "La matriz de rezagos de orden $p$ está dada por:\n",
        "\n",
        "$$M = \\left[\\begin{array}{cccccc}\n",
        "x_1 & x_2 & ... & x_p\\\\\n",
        "x_2 & x_3 & ... & x_{p+1}\\\\\n",
        "x_4 & x_5 & ... & x_{p+2}\\\\\n",
        "... & ... & ... & ...\\\\\n",
        "x_{T-p} & x_{T-p+1} & ... & x_{T-1}\\\\\n",
        "x_{T-p+1} & x_{T-p+2} & ... & x_{T}\\\\\n",
        "\\end{array}\n",
        "\\right]$$ \n",
        "\n",
        "Realizar una función que construya dicha estructura de datos."
      ]
    },
    {
      "cell_type": "code",
      "execution_count": null,
      "metadata": {
        "id": "Gipibg-meYbl"
      },
      "outputs": [],
      "source": [
        "def rezagos(datos):\n",
        "  p = int(input('Ingrese parametro \"p\": '))\n",
        "  M = []\n",
        "\n",
        "  for i in range(len(dato) - (p-1)):\n",
        "    v = datos[i:i+p]\n",
        "    M.append(v)\n",
        "  return np.array(M)"
      ]
    },
    {
      "cell_type": "markdown",
      "metadata": {
        "id": "JmJUX3XBeYbo"
      },
      "source": [
        "Aplicar la función a los siguientes datos:\n",
        "\n",
        "Dato = { 1.5 ,  2.89, -0.08, -2.93, -1.35,  2.26,  2.47, -1.05, -2.98,\n",
        "       -0.41,  2.78,  1.78, -1.91, -2.71,  0.58,  3.  ,  0.9 , -2.56,\n",
        "       -2.15,  1.5 }"
      ]
    },
    {
      "cell_type": "code",
      "execution_count": null,
      "metadata": {
        "id": "olK7zqfMeYbp"
      },
      "outputs": [],
      "source": [
        "dato = [1.5 , 2.89, -0.08, -2.93, -1.35, 2.26, 2.47, -1.05, -2.98, -0.41, 2.78, 1.78, -1.91, -2.71, 0.58, 3. , 0.9 , -2.56, -2.15, 1.5]"
      ]
    },
    {
      "cell_type": "code",
      "source": [
        "rezagos(dato)"
      ],
      "metadata": {
        "colab": {
          "base_uri": "https://localhost:8080/"
        },
        "id": "jkRRsujSS0OS",
        "outputId": "e70038f5-19fe-473f-9c40-3fa7cd669af6"
      },
      "execution_count": null,
      "outputs": [
        {
          "name": "stdout",
          "output_type": "stream",
          "text": [
            "Ingrese parametro \"p\": 4\n"
          ]
        },
        {
          "output_type": "execute_result",
          "data": {
            "text/plain": [
              "array([[ 1.5 ,  2.89, -0.08, -2.93],\n",
              "       [ 2.89, -0.08, -2.93, -1.35],\n",
              "       [-0.08, -2.93, -1.35,  2.26],\n",
              "       [-2.93, -1.35,  2.26,  2.47],\n",
              "       [-1.35,  2.26,  2.47, -1.05],\n",
              "       [ 2.26,  2.47, -1.05, -2.98],\n",
              "       [ 2.47, -1.05, -2.98, -0.41],\n",
              "       [-1.05, -2.98, -0.41,  2.78],\n",
              "       [-2.98, -0.41,  2.78,  1.78],\n",
              "       [-0.41,  2.78,  1.78, -1.91],\n",
              "       [ 2.78,  1.78, -1.91, -2.71],\n",
              "       [ 1.78, -1.91, -2.71,  0.58],\n",
              "       [-1.91, -2.71,  0.58,  3.  ],\n",
              "       [-2.71,  0.58,  3.  ,  0.9 ],\n",
              "       [ 0.58,  3.  ,  0.9 , -2.56],\n",
              "       [ 3.  ,  0.9 , -2.56, -2.15],\n",
              "       [ 0.9 , -2.56, -2.15,  1.5 ]])"
            ]
          },
          "metadata": {},
          "execution_count": 9
        }
      ]
    },
    {
      "cell_type": "code",
      "source": [
        ""
      ],
      "metadata": {
        "id": "ExH7WK41eAIJ"
      },
      "execution_count": null,
      "outputs": []
    }
  ],
  "metadata": {
    "kernelspec": {
      "display_name": "Python 3",
      "language": "python",
      "name": "python3"
    },
    "language_info": {
      "codemirror_mode": {
        "name": "ipython",
        "version": 3
      },
      "file_extension": ".py",
      "mimetype": "text/x-python",
      "name": "python",
      "nbconvert_exporter": "python",
      "pygments_lexer": "ipython3",
      "version": "3.8.5"
    },
    "colab": {
      "name": "2022 - EC - Tarea 1 - Estadística Computacional.ipynb",
      "provenance": [],
      "collapsed_sections": [],
      "include_colab_link": true
    }
  },
  "nbformat": 4,
  "nbformat_minor": 0
}